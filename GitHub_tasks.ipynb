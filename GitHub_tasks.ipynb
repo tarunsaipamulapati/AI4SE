{
 "cells": [
  {
   "cell_type": "code",
   "execution_count": null,
   "id": "c95ed85c",
   "metadata": {},
   "outputs": [],
   "source": [
    "import requests"
   ]
  },
  {
   "cell_type": "markdown",
   "id": "34b0af34",
   "metadata": {},
   "source": [
    "In the below cell, we are importing API key from the system variables in order to use LLM"
   ]
  },
  {
   "cell_type": "code",
   "execution_count": 2,
   "id": "0ebde5ae",
   "metadata": {},
   "outputs": [],
   "source": [
    "import os \n",
    "api_key_=os.getenv(\"OPENAI_API_KEY\")"
   ]
  },
  {
   "cell_type": "markdown",
   "id": "4b3e518b",
   "metadata": {},
   "source": [
    "We have collected 10 different issues randomly related to our own set of 19 skills. We have manually evaluated each issue and we came up with set of skills that are required to solve the issue. \n",
    "\n",
    "After that we used GitHub API to collect information from the title, body, labels, and comments of the issue. In the first prompt, we have sent everything that we collected to the LLM and we asked the LLM to give set of required skills to solve the issue, and we calculated accuracy.\n",
    "\n",
    "In the second prompting style, we have sent each of the items we collected seperately to the LLM, and asked LLM to provide list of required skills to solve the issue. Then again we calculated accuracy and we compared both the accuracies together."
   ]
  },
  {
   "cell_type": "markdown",
   "id": "0517134a",
   "metadata": {},
   "source": [
    "# issue1"
   ]
  },
  {
   "cell_type": "markdown",
   "id": "c2efe7a0",
   "metadata": {},
   "source": [
    "In the below cell, we are are collecting information from title, body, and lables of the issue."
   ]
  },
  {
   "cell_type": "code",
   "execution_count": 7,
   "id": "17dd2c91",
   "metadata": {},
   "outputs": [
    {
     "name": "stdout",
     "output_type": "stream",
     "text": [
      "Title: [FEATURE REQUEST] Currency change calculation\n",
      "Labels: ['enhancement']\n",
      "Body:\n",
      " ### What would you like to Propose?\n",
      "\n",
      "Input : currency described in denominations [ for USD 100$, 50$, 20$, 10$, 5$, 1$, 50cent, 25 cent, 10cent [ dime] , 5 cent, 1cent]\n",
      "Input : change desired for a transaction  [for USD for example 5$ and 35 cent]\n",
      "\n",
      "Output calculated by algorithm: 5$ and 25cent and dime\n",
      "\n",
      "\n",
      "\n",
      "### Issue details\n",
      "\n",
      "Calculated change or cash for a transaction [ simulate a cash register at a store] based on input currency denominations [USD , CAD, INR etc currency denominations]\n",
      "\n",
      "### Additional Information\n",
      "\n",
      "_No response_\n"
     ]
    }
   ],
   "source": [
    "url = f\"https://api.github.com/repos/TheAlgorithms/Java/issues/6151\"\n",
    "\n",
    "headers = {\n",
    "    \"Accept\": \"application/vnd.github+json\"\n",
    "    }\n",
    "\n",
    "response = requests.get(url, headers=headers)\n",
    "\n",
    "if response.status_code == 200:\n",
    "    issue = response.json()\n",
    "    print(\"Title:\", issue.get(\"title\"))\n",
    "    print(\"Labels:\", [label[\"name\"] for label in issue.get(\"labels\", [])])\n",
    "    print(\"Body:\\n\", issue.get(\"body\"))\n",
    "else:\n",
    "    print(f\"Error {response.status_code}: {response.text}\")\n",
    "title=issue.get(\"title\")\n",
    "labels=[label[\"name\"] for label in issue.get(\"labels\", [])]\n",
    "body=issue.get(\"body\")"
   ]
  },
  {
   "cell_type": "markdown",
   "id": "8c62c3fd",
   "metadata": {},
   "source": [
    "Here we are collecting comments of the issue"
   ]
  },
  {
   "cell_type": "code",
   "execution_count": 8,
   "id": "28561661",
   "metadata": {},
   "outputs": [
    {
     "name": "stdout",
     "output_type": "stream",
     "text": [
      "\n",
      "Collected Comments:\n",
      "\n",
      "--- Comment #1 by siriak at 2025-01-27T09:35:42Z ---\n",
      "Coin change problem is already implemented here https://github.com/TheAlgorithms/Java/blob/f9efd382d1d5e0fa0ddb54c17283fc079b957386/src/main/java/com/thealgorithms/dynamicprogramming/CoinChange.java#L6\n"
     ]
    }
   ],
   "source": [
    "comments_url = issue.get(\"comments_url\")\n",
    "comments_response = requests.get(comments_url, headers=headers)\n",
    "\n",
    "all_comments = []\n",
    "if comments_response.status_code == 200:\n",
    "    comments = comments_response.json()\n",
    "    for comment in comments:\n",
    "        comment_data = {\n",
    "            \"author\": comment[\"user\"][\"login\"],\n",
    "            \"created_at\": comment[\"created_at\"],\n",
    "            \"body\": comment[\"body\"]\n",
    "        }\n",
    "        all_comments.append(comment_data)\n",
    "    print(\"\\nCollected Comments:\")\n",
    "    for i, c in enumerate(all_comments, 1):\n",
    "        print(f\"\\n--- Comment #{i} by {c['author']} at {c['created_at']} ---\")\n",
    "        print(c[\"body\"])\n",
    "else:\n",
    "    print(f\"\\nError getting comments: {comments_response.status_code}\")\n"
   ]
  },
  {
   "cell_type": "markdown",
   "id": "63f24410",
   "metadata": {},
   "source": [
    "In the below cell, we were providing all the collected details to the LLM in the form of a prompt and we collected all the required skills to solve the issue."
   ]
  },
  {
   "cell_type": "code",
   "execution_count": 12,
   "id": "0bffda2a",
   "metadata": {},
   "outputs": [
    {
     "name": "stdout",
     "output_type": "stream",
     "text": [
      "To address this issue, the following programming skills are essential:\n",
      "\n",
      "1. **Java Programming**: As the existing codebase is in Java, proficiency in Java is required to understand, modify, or expand upon existing solutions.\n",
      "\n",
      "2. **Algorithm Design**: Understanding of algorithmic principles, particularly those related to the \"coin change problem,\" a common dynamic programming problem, is crucial for effective implementation.\n",
      "\n",
      "3. **Dynamic Programming**: This problem can be efficiently solved using dynamic programming techniques to calculate the minimum number of coins needed for a particular sum.\n",
      "\n",
      "4. **Problem Solving**: Strong problem-solving skills to adapt the algorithm to accommodate various currency denominations and optimize the calculation process.\n",
      "\n",
      "5. **Computer Science Fundamentals**: A solid understanding of data structures such as arrays or lists to manage different currency denominations and their respective quantities.\n",
      "\n",
      "By leveraging these skills, you can effectively address and resolve the feature request for calculating currency change.\n"
     ]
    }
   ],
   "source": [
    "import os\n",
    "from openai import OpenAI\n",
    "\n",
    "client = OpenAI(api_key=api_key_)\n",
    "question= f\"I have details of a GitHub issue in {title}, {labels},{all_comments}, and {body}. Please give me list of only programming skills that are required to complete the issue\"\n",
    "message = [\n",
    "    {\"role\": \"user\", \"content\": question}\n",
    "]\n",
    "completion = client.chat.completions.create(\n",
    "    model=\"gpt-4o\",\n",
    "    messages = message\n",
    ")\n",
    "\n",
    "print(completion.choices[0].message.content)"
   ]
  },
  {
   "cell_type": "markdown",
   "id": "b9a4973c",
   "metadata": {},
   "source": [
    "In the below cells, we are providing each of the collected details in a seperate prompt and we have collected all the required skills in order to solve the issue"
   ]
  },
  {
   "cell_type": "code",
   "execution_count": 13,
   "id": "88b0c294",
   "metadata": {},
   "outputs": [
    {
     "name": "stdout",
     "output_type": "stream",
     "text": [
      "To complete a feature request involving currency change calculation, the following programming skills are generally required:\n",
      "\n",
      "1. **Proficiency in a Programming Language**: Knowledge of a language such as Python, JavaScript, Java, or any other language commonly used for backend development and data processing.\n",
      "\n",
      "2. **API Integration**: Ability to integrate and interact with external currency conversion APIs to get real-time exchange rates (e.g., OpenExchangeRates, CurrencyLayer, or similar).\n",
      "\n",
      "3. **Data Processing**: Skills in data manipulation and processing to handle currency data efficiently. This includes parsing JSON or XML data if using web APIs.\n",
      "\n",
      "4. **Algorithm Development**: Ability to develop algorithms for currency conversion calculations and handling rounding issues.\n",
      "\n",
      "5. **Error Handling and Validation**: Implementing proper error handling to manage potential issues with data retrieval and user input validation.\n",
      "\n",
      "6. **Unit Testing**: Ability to write tests to validate the accuracy and reliability of the currency conversion functionality.\n",
      "\n",
      "7. **Version Control**: Familiarity with version control systems like Git to manage code changes effectively.\n",
      "\n",
      "8. **Internationalization Support**: Understanding of localization techniques and handling multiple currencies and locale-specific formatting.\n",
      "\n",
      "These skills together would typically allow a developer to address a feature request focused on calculating currency exchanges in a software application or platform.\n"
     ]
    }
   ],
   "source": [
    "import os\n",
    "from openai import OpenAI\n",
    "\n",
    "client = OpenAI(api_key=api_key_)\n",
    "question= f\"Based on data present in {title}. Please give me list of only programming skills that are required to complete the issue.\"\n",
    "message = [\n",
    "    {\"role\": \"user\", \"content\": question}\n",
    "]\n",
    "completion = client.chat.completions.create(\n",
    "    model=\"gpt-4o\",\n",
    "    messages = message\n",
    ")\n",
    "\n",
    "print(completion.choices[0].message.content)"
   ]
  },
  {
   "cell_type": "code",
   "execution_count": 15,
   "id": "44609bd3",
   "metadata": {},
   "outputs": [
    {
     "name": "stdout",
     "output_type": "stream",
     "text": [
      "I'm unable to access external databases or specific data, including the \"enhancement\" tags or issues you are referring to. However, if you provide a summary or description of the issue, I can help deduce the programming skills likely needed to address it. Generally, the skills required for programming enhancements might include:\n",
      "\n",
      "1. **Programming Languages**: Depending on the project, languages like Python, Java, JavaScript, C++, or others might be necessary.\n",
      "\n",
      "2. **Frameworks and Libraries**: Knowledge of specific frameworks or libraries relevant to the project, such as React for front-end development, Django for web applications, or TensorFlow for machine learning tasks.\n",
      "\n",
      "3. **Version Control**: Proficiency with tools like Git for version control and collaboration.\n",
      "\n",
      "4. **Database Management**: Familiarity with databases (SQL or NoSQL) if the enhancement involves data storage or manipulation.\n",
      "\n",
      "5. **API Development and Integration**: Skills related to creating or consuming APIs, which may involve RESTful or GraphQL interfaces.\n",
      "\n",
      "6. **Debugging and Testing**: Ability to troubleshoot, debug, and ensure quality through testing frameworks.\n",
      "\n",
      "7. **Software Architecture**: Understanding of design patterns and software architecture principles if the enhancement requires structural changes.\n",
      "\n",
      "8. **UI/UX Design**: If the enhancement involves front-end changes, a grasp of user interface design principles might be necessary.\n",
      "\n",
      "Provide additional context if you can, and I'll do my best to give more accurate guidance.\n"
     ]
    }
   ],
   "source": [
    "import os\n",
    "from openai import OpenAI\n",
    "\n",
    "client = OpenAI(api_key=api_key_)\n",
    "question= f\"\"\"Based on data present in {labels}. Please give me list of only programming skills that are required to \n",
    "complete the issue\"\"\"\n",
    "message = [\n",
    "    {\"role\": \"user\", \"content\": question}\n",
    "]\n",
    "completion = client.chat.completions.create(\n",
    "    model=\"gpt-4o\",\n",
    "    messages = message\n",
    ")\n",
    "\n",
    "print(completion.choices[0].message.content)"
   ]
  },
  {
   "cell_type": "code",
   "execution_count": 16,
   "id": "4a482968",
   "metadata": {},
   "outputs": [
    {
     "name": "stdout",
     "output_type": "stream",
     "text": [
      "To address the issue of calculating change based on input currency denominations, the following programming skills are required:\n",
      "\n",
      "1. **Basic Programming Concepts**: Understanding of variables, loops, conditionals, and data types.\n",
      "   \n",
      "2. **Problem Solving and Algorithm Design**: Ability to design an efficient algorithm to calculate the minimum number of currency denominations for the given change.\n",
      "\n",
      "3. **Data Structures**: Familiarity with lists or arrays to store denominations and results.\n",
      "\n",
      "4. **Mathematics/Arithmetic Operations**: Proficiency in performing basic arithmetic operations to calculate the change.\n",
      "\n",
      "5. **Software Development**: Ability to implement, test, and debug the algorithm in a programming language.\n",
      "\n",
      "6. **Testing and Debugging**: Skills in writing test cases to verify the correctness of the code and debugging any issues that arise.\n",
      "\n",
      "Having these skills will enable one to develop a solution for simulating a cash register to calculate the correct change for transactions using various currency denominations.\n"
     ]
    }
   ],
   "source": [
    "import os\n",
    "from openai import OpenAI\n",
    "\n",
    "client = OpenAI(api_key=api_key_)\n",
    "question= f\"Based on data present in {body}. Please give me list of only programming skills that are required to complete the issue\"\n",
    "message = [\n",
    "    {\"role\": \"user\", \"content\": question}\n",
    "]\n",
    "completion = client.chat.completions.create(\n",
    "    model=\"gpt-4o\",\n",
    "    messages = message\n",
    ")\n",
    "\n",
    "print(completion.choices[0].message.content)"
   ]
  },
  {
   "cell_type": "code",
   "execution_count": 17,
   "id": "c1acea3e",
   "metadata": {
    "scrolled": true
   },
   "outputs": [
    {
     "name": "stdout",
     "output_type": "stream",
     "text": [
      "To address the issue regarding the implementation of the Coin Change problem in Java, the following programming skills would be beneficial:\n",
      "\n",
      "1. **Java Programming**: Proficiency with Java, including syntax, data structures, and libraries.\n",
      "2. **Dynamic Programming**: Understanding the concepts and techniques used in dynamic programming for solving optimization problems efficiently.\n",
      "3. **Algorithm Design**: Ability to design and implement efficient algorithms, specifically those related to coin change and similar optimization problems.\n",
      "4. **Version Control/Git**: Familiarity with navigating and using Git, as the issue refers to a GitHub repository URL.\n",
      "5. **Code Reading and Comprehension**: Ability to read, understand, and analyze existing codebases, especially for identifying improvements or modifications.\n",
      "\n",
      "These skills will help in understanding the problem, navigating the repository, and potentially contributing improvements or new implementations.\n"
     ]
    }
   ],
   "source": [
    "import os\n",
    "from openai import OpenAI\n",
    "\n",
    "client = OpenAI(api_key=api_key_)\n",
    "question= f\"Based on data present in {all_comments}. Please give me list of only programming skills that are required to complete the issue\"\n",
    "message = [\n",
    "    {\"role\": \"user\", \"content\": question}\n",
    "]\n",
    "completion = client.chat.completions.create(\n",
    "    model=\"gpt-4o\",\n",
    "    messages = message\n",
    ")\n",
    "\n",
    "print(completion.choices[0].message.content)"
   ]
  },
  {
   "cell_type": "markdown",
   "id": "2c647aae",
   "metadata": {},
   "source": [
    "For this issue, both the prompts had the same accuracy"
   ]
  },
  {
   "cell_type": "markdown",
   "id": "987c3e1b",
   "metadata": {},
   "source": [
    "Accuracy=83.3% for both type of quesries"
   ]
  },
  {
   "cell_type": "markdown",
   "id": "b2c5f0db",
   "metadata": {},
   "source": [
    "# issue2"
   ]
  },
  {
   "cell_type": "markdown",
   "id": "459869eb",
   "metadata": {},
   "source": [
    "In the below cell, we are are collecting information from title, body, and lables of the issue."
   ]
  },
  {
   "cell_type": "code",
   "execution_count": 18,
   "id": "84344801",
   "metadata": {},
   "outputs": [
    {
     "name": "stdout",
     "output_type": "stream",
     "text": [
      "Title: Want to Add more Sorting Algorithms in C\n",
      "Labels: ['enhancement', 'Stale']\n",
      "Body:\n",
      " ### Detailed description\n",
      "\n",
      "Want to Add more Sorting Algorithms in C like.\r\n",
      "- TimSort\r\n",
      "- Bitonic Sort\r\n",
      "- 3-way MergeSort\r\n",
      "- Please Assign me this issue under Hacktoberfest or Hacktoberfest2024\n",
      "\n",
      "### Context\n",
      "\n",
      "These Sorting Algorithms not many people Know about it .\n",
      "\n",
      "### Possible implementation\n",
      "\n",
      "we can use Sub folder to divide the programs in topic wise manner\n",
      "\n",
      "### Additional information\n",
      "\n",
      "_No response_\n"
     ]
    }
   ],
   "source": [
    "url = f\"https://api.github.com/repos/TheAlgorithms/C/issues/1420\"\n",
    "\n",
    "headers = {\n",
    "    \"Accept\": \"application/vnd.github+json\"\n",
    "    }\n",
    "\n",
    "response = requests.get(url, headers=headers)\n",
    "\n",
    "if response.status_code == 200:\n",
    "    issue = response.json()\n",
    "    print(\"Title:\", issue.get(\"title\"))\n",
    "    print(\"Labels:\", [label[\"name\"] for label in issue.get(\"labels\", [])])\n",
    "    print(\"Body:\\n\", issue.get(\"body\"))\n",
    "else:\n",
    "    print(f\"Error {response.status_code}: {response.text}\")\n",
    "title=issue.get(\"title\")\n",
    "labels=[label[\"name\"] for label in issue.get(\"labels\", [])]\n",
    "body=issue.get(\"body\")"
   ]
  },
  {
   "cell_type": "markdown",
   "id": "2e6b951a",
   "metadata": {},
   "source": [
    "Here we are collecting comments of the issue"
   ]
  },
  {
   "cell_type": "code",
   "execution_count": 19,
   "id": "de95df1e",
   "metadata": {},
   "outputs": [
    {
     "name": "stdout",
     "output_type": "stream",
     "text": [
      "\n",
      "Collected Comments:\n",
      "\n",
      "--- Comment #1 by Shreyaww at 2024-10-06T09:36:14Z ---\n",
      "Can you please assign this issue to me as this would be my first contribution in hacktoberfest\n",
      "\n",
      "--- Comment #2 by UdaySharmaGitHub at 2024-10-06T16:20:28Z ---\n",
      "@Shreyaww you can contribute on it.\r\n",
      "- i believe in First come and first serve\n",
      "\n",
      "--- Comment #3 by VyankateshRohokale at 2024-10-07T05:01:15Z ---\n",
      "I would like to contribute, can you assign this issue to me too\n",
      "\n",
      "--- Comment #4 by UdaySharmaGitHub at 2024-10-07T07:00:48Z ---\n",
      "@VyankateshRohokale you can add but make sure its must be unique mean \r\n",
      "you can contribute those algo which is not present in the repo\n",
      "\n",
      "--- Comment #5 by TWILIGHT-GIT69 at 2024-10-07T07:08:06Z ---\n",
      "Me and @VyankateshRohokale will work on it together (we know each other ) you can assign this issue to both of us , will solve this issue\n",
      "\n",
      "--- Comment #6 by VyankateshRohokale at 2024-10-07T07:08:53Z ---\n",
      "Yes, I am up , let's do it\n",
      "\n",
      "--- Comment #7 by real68 at 2024-10-12T10:54:05Z ---\n",
      "I'm in with Aria & ChatGPT but I'm banned overwhiles.\r\n",
      "\r\n",
      "Il lun 7 ott 2024, 09:09 Vyankatesh Rohokale ***@***.***> ha\r\n",
      "scritto:\r\n",
      "\r\n",
      "> Yes, I am up , let's do it\r\n",
      ">\r\n",
      "> —\r\n",
      "> Reply to this email directly, view it on GitHub\r\n",
      "> <https://github.com/TheAlgorithms/C/issues/1420#issuecomment-2396090184>,\r\n",
      "> or unsubscribe\r\n",
      "> <https://github.com/notifications/unsubscribe-auth/AQPZL3VXGCQQGECKF5UTXNLZ2IXRXAVCNFSM6AAAAABPNDDYM6VHI2DSMVQWIX3LMV43OSLTON2WKQ3PNVWWK3TUHMZDGOJWGA4TAMJYGQ>\r\n",
      "> .\r\n",
      "> You are receiving this because you are subscribed to this thread.Message\r\n",
      "> ID: ***@***.***>\r\n",
      ">\r\n",
      "\n",
      "\n",
      "--- Comment #8 by FaheemorFAB at 2024-10-26T04:03:49Z ---\n",
      "assign me the issue please.\n",
      "\n",
      "--- Comment #9 by github-actions[bot] at 2024-11-26T00:29:43Z ---\n",
      "This issue has been automatically marked as abandoned because it has not had recent activity. It will be closed if no further activity occurs. Thank you for your contributions.\n"
     ]
    }
   ],
   "source": [
    "comments_url = issue.get(\"comments_url\")\n",
    "comments_response = requests.get(comments_url, headers=headers)\n",
    "\n",
    "all_comments = []\n",
    "if comments_response.status_code == 200:\n",
    "    comments = comments_response.json()\n",
    "    for comment in comments:\n",
    "        comment_data = {\n",
    "            \"author\": comment[\"user\"][\"login\"],\n",
    "            \"created_at\": comment[\"created_at\"],\n",
    "            \"body\": comment[\"body\"]\n",
    "        }\n",
    "        all_comments.append(comment_data)\n",
    "    print(\"\\nCollected Comments:\")\n",
    "    for i, c in enumerate(all_comments, 1):\n",
    "        print(f\"\\n--- Comment #{i} by {c['author']} at {c['created_at']} ---\")\n",
    "        print(c[\"body\"])\n",
    "else:\n",
    "    print(f\"\\nError getting comments: {comments_response.status_code}\")"
   ]
  },
  {
   "cell_type": "markdown",
   "id": "ab5f458e",
   "metadata": {},
   "source": [
    "In the below cell, we were providing all the collected details to the LLM in the form of a prompt and we collected all the required skills to solve the issue."
   ]
  },
  {
   "cell_type": "code",
   "execution_count": 20,
   "id": "e8afee1d",
   "metadata": {},
   "outputs": [
    {
     "name": "stdout",
     "output_type": "stream",
     "text": [
      "To complete the issue of adding more sorting algorithms in C, the following programming skills are required:\n",
      "\n",
      "1. **C Programming Language**: A strong understanding of the C language is necessary to implement sorting algorithms effectively.\n",
      "\n",
      "2. **Algorithm Design and Analysis**: Knowledge of algorithm design principles and the ability to analyze the complexity of sorting algorithms.\n",
      "\n",
      "3. **Data Structures**: Familiarity with data structures, as some sorting algorithms may rely on specific data structures for optimal performance.\n",
      "\n",
      "4. **Debugging and Testing**: Skills in debugging and testing code to ensure correctness and efficiency of the implemented algorithms.\n",
      "\n",
      "5. **Version Control with Git**: Understanding how to use Git for version control to manage changes and collaborate with other contributors on GitHub.\n",
      "\n",
      "These skills will help ensure that the solution is implemented correctly and integrates well into the existing codebase on GitHub.\n"
     ]
    }
   ],
   "source": [
    "import os\n",
    "from openai import OpenAI\n",
    "\n",
    "client = OpenAI(api_key=api_key_)\n",
    "question= f\"I have details of a GitHub issue in {title}, {labels},{all_comments}, and {body}. Please give me list of only programming skills that are required to complete the issue\"\n",
    "message = [\n",
    "    {\"role\": \"user\", \"content\": question}\n",
    "]\n",
    "completion = client.chat.completions.create(\n",
    "    model=\"gpt-4o\",\n",
    "    messages = message\n",
    ")\n",
    "\n",
    "print(completion.choices[0].message.content)"
   ]
  },
  {
   "cell_type": "markdown",
   "id": "b07ebed1",
   "metadata": {},
   "source": [
    "In the below cells, we are providing each of the collected details in a seperate prompt and we have collected all the required skills in order to solve the issue"
   ]
  },
  {
   "cell_type": "code",
   "execution_count": 21,
   "id": "ee5f16a5",
   "metadata": {},
   "outputs": [
    {
     "name": "stdout",
     "output_type": "stream",
     "text": [
      "To add more sorting algorithms in C, you'll need the following programming skills:\n",
      "\n",
      "1. **C Programming Language**: A strong understanding of C, including syntax, data types, pointers, and memory management.\n",
      "\n",
      "2. **Algorithm Design and Analysis**: Familiarity with algorithm basics, complexity analysis (time and space), and the specific characteristics of different sorting algorithms.\n",
      "\n",
      "3. **Problem-Solving Skills**: The ability to break down the sorting problem and implement efficient solutions.\n",
      "\n",
      "4. **Data Structures**: Understanding common data structures (like arrays and linked lists) which are often manipulated by sorting algorithms.\n",
      "\n",
      "5. **Debugging and Testing**: Skills to debug and test your implementation to ensure correctness and efficiency.\n",
      "\n",
      "Having a good grasp of these skills will help you successfully implement and understand various sorting algorithms in C.\n"
     ]
    }
   ],
   "source": [
    "import os\n",
    "from openai import OpenAI\n",
    "\n",
    "client = OpenAI(api_key=api_key_)\n",
    "question= f\"Based on data present in {title}. Please give me list of only programming skills that are required to complete the issue\"\n",
    "message = [\n",
    "    {\"role\": \"user\", \"content\": question}\n",
    "]\n",
    "completion = client.chat.completions.create(\n",
    "    model=\"gpt-4o\",\n",
    "    messages = message\n",
    ")\n",
    "\n",
    "print(completion.choices[0].message.content)"
   ]
  },
  {
   "cell_type": "code",
   "execution_count": 22,
   "id": "dbca96c8",
   "metadata": {},
   "outputs": [
    {
     "name": "stdout",
     "output_type": "stream",
     "text": [
      "I'm unable to access external databases or specific issues labeled as 'enhancement' and 'Stale', so I can't provide a direct list of programming skills from them. However, I can offer a general list of programming skills that are often required for software enhancement tasks:\n",
      "\n",
      "1. **Programming Languages**: Knowledge of languages relevant to the project (e.g., Python, Java, JavaScript, C++, etc.).\n",
      "\n",
      "2. **Version Control**: Proficiency with tools like Git for code management and collaboration.\n",
      "\n",
      "3. **Debugging**: Strong skills in identifying and fixing bugs or performance bottlenecks.\n",
      "\n",
      "4. **Testing**: Ability to write and execute unit tests, integration tests, and use testing frameworks.\n",
      "\n",
      "5. **Code Documentation**: Skill in writing clear and concise documentation for code changes and enhancements.\n",
      "\n",
      "6. **Software Design Patterns**: Understanding of common design patterns and their implementation.\n",
      "\n",
      "7. **Database Management**: Knowledge of SQL or NoSQL databases if the enhancement involves changes to data handling.\n",
      "\n",
      "8. **APIs and Web Services**: Experience with RESTful services or other APIs, if enhancements relate to interfacing with other systems.\n",
      "\n",
      "9. **Debugging Tools**: Familiarity with IDEs and debugging tools to effectively troubleshoot and improve code.\n",
      "\n",
      "10. **Continuous Integration/Continuous Deployment (CI/CD)**: Experience with CI/CD pipelines for automation of build, testing, and deployment.\n",
      "\n",
      "To determine the specific skills required, check the issue details or related documentation in the project repository.\n"
     ]
    }
   ],
   "source": [
    "import os\n",
    "from openai import OpenAI\n",
    "\n",
    "client = OpenAI(api_key=api_key_)\n",
    "question= f\"Based on data present in {labels}. Please give me list of only programming skills that are required to complete the issue\"\n",
    "message = [\n",
    "    {\"role\": \"user\", \"content\": question}\n",
    "]\n",
    "completion = client.chat.completions.create(\n",
    "    model=\"gpt-4o\",\n",
    "    messages = message\n",
    ")\n",
    "\n",
    "print(completion.choices[0].message.content)"
   ]
  },
  {
   "cell_type": "code",
   "execution_count": 23,
   "id": "b15fdb0d",
   "metadata": {},
   "outputs": [
    {
     "name": "stdout",
     "output_type": "stream",
     "text": [
      "The dataset you provided contains a conversation about an issue on GitHub related to contributing to a project during Hacktoberfest. While the dataset doesn't specify exact programming skills required to complete the issue, it does provide some context clues:\n",
      "\n",
      "1. **Algorithm Development**: Since one of the comments mentions contributing algorithms that are not already present in the repository, a solid understanding of algorithm development and design is necessary.\n",
      "\n",
      "2. **Programming Language Proficiency**: Although the specific language is not mentioned, it is likely that proficiency in a programming language (potentially C, given your dataset is linked to “TheAlgorithms/C” repository) is required to implement these algorithms.\n",
      "\n",
      "3. **Version Control and Collaboration**: Understanding of Git and GitHub for version control and being able to work collaboratively with others are implied by the nature of the conversation and the platform on which it is happening.\n",
      "\n",
      "Without the issue details, these are inferred skills that would be essential for contributing to such a project. For an exact list, details of the specific issue or project guidelines are needed.\n"
     ]
    }
   ],
   "source": [
    "import os\n",
    "from openai import OpenAI\n",
    "\n",
    "client = OpenAI(api_key=api_key_)\n",
    "question= f\"Based on data present in {all_comments}. Please give me list of only programming skills that are required to complete the issue\"\n",
    "message = [\n",
    "    {\"role\": \"user\", \"content\": question}\n",
    "]\n",
    "completion = client.chat.completions.create(\n",
    "    model=\"gpt-4o\",\n",
    "    messages = message\n",
    ")\n",
    "\n",
    "print(completion.choices[0].message.content)"
   ]
  },
  {
   "cell_type": "code",
   "execution_count": 24,
   "id": "05f7df04",
   "metadata": {},
   "outputs": [
    {
     "name": "stdout",
     "output_type": "stream",
     "text": [
      "To complete the task of adding more sorting algorithms in C, you will need the following programming skills:\n",
      "\n",
      "1. **C Programming**: Proficiency in writing and understanding C code, including syntax, data types, and control structures.\n",
      "\n",
      "2. **Algorithm Design and Analysis**: Ability to understand and implement various sorting algorithms like TimSort, Bitonic Sort, and 3-way MergeSort.\n",
      "\n",
      "3. **Data Structures**: Basic knowledge of data structures such as arrays, which are commonly used in implementing sorting algorithms.\n",
      "\n",
      "4. **Problem-Solving Skills**: Capability to break down complex algorithms into smaller, manageable parts and address potential issues that may arise during implementation.\n",
      "\n",
      "5. **Version Control (Git)**: Familiarity with using Git for version control, which is essential for contributing to open-source projects and collaborating with others.\n",
      "\n",
      "6. **Basic Understanding of Complexity**: Awareness of time and space complexity to optimize and evaluate the performance of sorting algorithms.\n",
      "\n",
      "7. **Debugging Skills**: Ability to test and debug code to ensure correctness and efficiency of the implementations.\n",
      "\n",
      "8. **Technical Documentation**: Writing clear comments and documentation to explain the code and algorithms implemented for better understanding and maintenance.\n"
     ]
    }
   ],
   "source": [
    "import os\n",
    "from openai import OpenAI\n",
    "\n",
    "client = OpenAI(api_key=api_key_)\n",
    "question= f\"Based on data present in {body}. Please give me list of only programming skills that are required to complete the issue\"\n",
    "message = [\n",
    "    {\"role\": \"user\", \"content\": question}\n",
    "]\n",
    "completion = client.chat.completions.create(\n",
    "    model=\"gpt-4o\",\n",
    "    messages = message\n",
    ")\n",
    "\n",
    "print(completion.choices[0].message.content)"
   ]
  },
  {
   "cell_type": "markdown",
   "id": "1df104bb",
   "metadata": {},
   "source": [
    "For this issue, prompt 1 has more accuracy than prompt 2"
   ]
  },
  {
   "cell_type": "markdown",
   "id": "4f593c95",
   "metadata": {},
   "source": [
    "Accuracy - 100, 85.7"
   ]
  },
  {
   "cell_type": "markdown",
   "id": "dfa94364",
   "metadata": {},
   "source": [
    "# issue3"
   ]
  },
  {
   "cell_type": "markdown",
   "id": "7cb7be43",
   "metadata": {},
   "source": [
    "In the below cell, we are are collecting information from title, body, and lables of the issue."
   ]
  },
  {
   "cell_type": "code",
   "execution_count": 25,
   "id": "f2e9e568",
   "metadata": {
    "scrolled": true
   },
   "outputs": [
    {
     "name": "stdout",
     "output_type": "stream",
     "text": [
      "Title: segfault when compiling code using clang++ and has repeated field, but works on gcc\n",
      "Labels: ['kind/bug', 'lang/c++', 'priority/P2']\n",
      "Body:\n",
      " ### What version of gRPC and what language are you using?\n",
      "1.70.1\n",
      "\n",
      "### What operating system (Linux, Windows,...) and version?\n",
      "Linux 6.13.5-arch1-1\n",
      "\n",
      "### What runtime / compiler are you using (e.g. python version or version of gcc)\n",
      "clang version 19.1.7 AND g++ (GCC) 14.2.1 20250207 \n",
      "\n",
      "### What did you do?\n",
      "create a simple grpc service:\n",
      "///example.proto\n",
      "syntax = \"proto3\";\n",
      "\n",
      "package hellobug;\n",
      "\n",
      "service BugService {\n",
      "  rpc SayHelloBug (BugRequest) returns (BugResponse);\n",
      "  \n",
      "}\n",
      "\n",
      "message Bug {\n",
      "  string bugId = 1;\n",
      "  string bugInfo = 2;\n",
      "}\n",
      "\n",
      "message BugRequest {\n",
      "  string masterId = 1;\n",
      "  repeated Bug bugs = 2; //adding this and passing in the request cause the bug\n",
      "}\n",
      "\n",
      "message BugResponse {\n",
      "  string id = 1;\n",
      "  string response = 2;\n",
      "}\n",
      "\n",
      "/// end of example.proto\n",
      "\n",
      "implemented it using callbackservice:\n",
      "\n",
      "class BugServiceImpl final : public hellobug::BugService::CallbackService\n",
      "{\n",
      "public:\n",
      "  grpc::ServerUnaryReactor *SayHelloBug(grpc::CallbackServerContext *context, const hellobug::BugRequest *request, hellobug::BugResponse *response) override\n",
      "  {\n",
      "    std::cout << \"Method has been called\" << std::endl;\n",
      "    auto *reactor = context->DefaultReactor();\n",
      "    reactor->Finish(grpc::Status::OK);\n",
      "\n",
      "    return reactor;\n",
      "  }\n",
      "};\n",
      "\n",
      "and call using \n",
      "grpcurl -plaintext -proto example.proto -d '{\"masterId\": \"100\", \"bugs\": [ {\"bugId\": \"1\", \"bugInfo\": \"hello\"}, { \"bugId\": \"2\", \"bugInfo\": \"world\" } ] }' 0.0.0.0:15001 hellobug.BugService/SayHelloBug\n",
      "\n",
      "### What did you expect to see?\n",
      "print std::cout << \"Method has been called\" << std::endl; in the server side\n",
      "\n",
      "### What did you see instead?\n",
      "segment fault at line 83 of generic_serialize.h in grcpp/impl: if (!msg->ParseFromZeroCopyStream(&reader))\n",
      "\n",
      "======>\n",
      "if my cmake has this : set(CMAKE_CXX_COMPILER \"/usr/bin/clang++\") the bug happens\n",
      "==\n",
      "set(CMAKE_CXX_COMPILER \"/usr/bin/g++\") <-- this solves the bug\n",
      "\n",
      "\n"
     ]
    }
   ],
   "source": [
    "url = f\"https://api.github.com/repos/grpc/grpc/issues/38916\"\n",
    "\n",
    "headers = {\n",
    "    \"Accept\": \"application/vnd.github+json\"\n",
    "    }\n",
    "\n",
    "response = requests.get(url, headers=headers)\n",
    "\n",
    "if response.status_code == 200:\n",
    "    issue = response.json()\n",
    "    print(\"Title:\", issue.get(\"title\"))\n",
    "    print(\"Labels:\", [label[\"name\"] for label in issue.get(\"labels\", [])])\n",
    "    print(\"Body:\\n\", issue.get(\"body\"))\n",
    "else:\n",
    "    print(f\"Error {response.status_code}: {response.text}\")\n",
    "title=issue.get(\"title\")\n",
    "labels=[label[\"name\"] for label in issue.get(\"labels\", [])]\n",
    "body=issue.get(\"body\")"
   ]
  },
  {
   "cell_type": "markdown",
   "id": "749d156b",
   "metadata": {},
   "source": [
    "Here we are collecting comments of the issue"
   ]
  },
  {
   "cell_type": "code",
   "execution_count": 26,
   "id": "fb38127c",
   "metadata": {},
   "outputs": [
    {
     "name": "stdout",
     "output_type": "stream",
     "text": [
      "\n",
      "Collected Comments:\n",
      "\n",
      "--- Comment #1 by drfloob at 2025-03-11T20:53:55Z ---\n",
      "I can't reproduce your crash, and from inspection, I don't see why a crash would happen there unless your system were set up incorrectly, or your repro left out some key application code that's causing the crash. Here is a buildable/runnable version of your test case: https://github.com/drfloob/grpc_repro_38916. Please feel free to fork and modify that repo until you can reproduce the crash.\n",
      "\n",
      "--- Comment #2 by bazaneli at 2025-03-14T14:07:35Z ---\n",
      "Sorry for the delay.\r\n",
      "\r\n",
      "just committed a new image and the run commands (they are two distinct bash\r\n",
      "files now) . it is reproducing my problem\r\n",
      "\r\n",
      "Em ter., 11 de mar. de 2025 às 17:54, AJ Heller ***@***.***>\r\n",
      "escreveu:\r\n",
      "\r\n",
      "> I can't reproduce your crash, and from inspection, I don't see why a crash\r\n",
      "> would happen there unless your system were set up incorrectly, or your\r\n",
      "> repro left out some key application code that's causing the crash. Here is\r\n",
      "> a buildable/runnable version of your test case:\r\n",
      "> https://github.com/drfloob/grpc_repro_38916. Please feel free to fork and\r\n",
      "> modify that repo until you can reproduce the crash.\r\n",
      ">\r\n",
      "> —\r\n",
      "> Reply to this email directly, view it on GitHub\r\n",
      "> <https://github.com/grpc/grpc/issues/38916#issuecomment-2715685371>, or\r\n",
      "> unsubscribe\r\n",
      "> <https://github.com/notifications/unsubscribe-auth/ABKN2OEEJBZNB3OYILOXMYD2T5EPTAVCNFSM6AAAAABYKZHQBCVHI2DSMVQWIX3LMV43OSLTON2WKQ3PNVWWK3TUHMZDOMJVGY4DKMZXGE>\r\n",
      "> .\r\n",
      "> You are receiving this because you authored the thread.Message ID:\r\n",
      "> ***@***.***>\r\n",
      "> [image: drfloob]*drfloob* left a comment (grpc/grpc#38916)\r\n",
      "> <https://github.com/grpc/grpc/issues/38916#issuecomment-2715685371>\r\n",
      ">\r\n",
      "> I can't reproduce your crash, and from inspection, I don't see why a crash\r\n",
      "> would happen there unless your system were set up incorrectly, or your\r\n",
      "> repro left out some key application code that's causing the crash. Here is\r\n",
      "> a buildable/runnable version of your test case:\r\n",
      "> https://github.com/drfloob/grpc_repro_38916. Please feel free to fork and\r\n",
      "> modify that repo until you can reproduce the crash.\r\n",
      ">\r\n",
      "> —\r\n",
      "> Reply to this email directly, view it on GitHub\r\n",
      "> <https://github.com/grpc/grpc/issues/38916#issuecomment-2715685371>, or\r\n",
      "> unsubscribe\r\n",
      "> <https://github.com/notifications/unsubscribe-auth/ABKN2OEEJBZNB3OYILOXMYD2T5EPTAVCNFSM6AAAAABYKZHQBCVHI2DSMVQWIX3LMV43OSLTON2WKQ3PNVWWK3TUHMZDOMJVGY4DKMZXGE>\r\n",
      "> .\r\n",
      "> You are receiving this because you authored the thread.Message ID:\r\n",
      "> ***@***.***>\r\n",
      ">\r\n",
      "\n",
      "\n",
      "--- Comment #3 by drfloob at 2025-03-18T17:36:06Z ---\n",
      "Bringing the discussion on https://github.com/drfloob/grpc_repro_38916/pull/1 back here: This is not a gRPC-specific issue. The `CC` env var should point to a C compiler (e.g., `clang`), while the `CXX` env var should point to your C++ compiler (e.g., `clang++`). See the variable reference here: https://cmake.org/cmake/help/latest/manual/cmake-env-variables.7.html#manual:cmake-env-variables(7)\n",
      "\n",
      "--- Comment #4 by bazaneli at 2025-03-18T20:58:52Z ---\n",
      "Just fyi, changing the CmakeLists to include :    set(CMAKE_C_COMPILER\r\n",
      "\"/usr/bin/clang\") did not solve the issue. grpc server still crashing with\r\n",
      "segfault when receives a wrong client request.\r\n",
      "\r\n",
      "My last pull request show this behavior in podman.\r\n",
      "\r\n",
      "\r\n",
      "\r\n",
      "Em ter., 18 de mar. de 2025 às 14:36, AJ Heller ***@***.***>\r\n",
      "escreveu:\r\n",
      "\r\n",
      "> Bringing the discussion on drfloob/grpc_repro_38916#1\r\n",
      "> <https://github.com/drfloob/grpc_repro_38916/pull/1> back here: This is\r\n",
      "> not a gRPC-specific issue. The CC env var should point to a C compiler\r\n",
      "> (e.g., clang), while the CXX env var should point to your C++ compiler\r\n",
      "> (e.g., clang++). See the variable reference here:\r\n",
      "> https://cmake.org/cmake/help/latest/manual/cmake-env-variables.7.html#manual:cmake-env-variables(7)\r\n",
      ">\r\n",
      "> —\r\n",
      "> Reply to this email directly, view it on GitHub\r\n",
      "> <https://github.com/grpc/grpc/issues/38916#issuecomment-2734157194>, or\r\n",
      "> unsubscribe\r\n",
      "> <https://github.com/notifications/unsubscribe-auth/ABKN2OEDWF745Q32ZB2WCE32VBKRZAVCNFSM6AAAAABYKZHQBCVHI2DSMVQWIX3LMV43OSLTON2WKQ3PNVWWK3TUHMZDOMZUGE2TOMJZGQ>\r\n",
      "> .\r\n",
      "> You are receiving this because you authored the thread.Message ID:\r\n",
      "> ***@***.***>\r\n",
      "> [image: drfloob]*drfloob* left a comment (grpc/grpc#38916)\r\n",
      "> <https://github.com/grpc/grpc/issues/38916#issuecomment-2734157194>\r\n",
      ">\r\n",
      "> Bringing the discussion on drfloob/grpc_repro_38916#1\r\n",
      "> <https://github.com/drfloob/grpc_repro_38916/pull/1> back here: This is\r\n",
      "> not a gRPC-specific issue. The CC env var should point to a C compiler\r\n",
      "> (e.g., clang), while the CXX env var should point to your C++ compiler\r\n",
      "> (e.g., clang++). See the variable reference here:\r\n",
      "> https://cmake.org/cmake/help/latest/manual/cmake-env-variables.7.html#manual:cmake-env-variables(7)\r\n",
      ">\r\n",
      "> —\r\n",
      "> Reply to this email directly, view it on GitHub\r\n",
      "> <https://github.com/grpc/grpc/issues/38916#issuecomment-2734157194>, or\r\n",
      "> unsubscribe\r\n",
      "> <https://github.com/notifications/unsubscribe-auth/ABKN2OEDWF745Q32ZB2WCE32VBKRZAVCNFSM6AAAAABYKZHQBCVHI2DSMVQWIX3LMV43OSLTON2WKQ3PNVWWK3TUHMZDOMZUGE2TOMJZGQ>\r\n",
      "> .\r\n",
      "> You are receiving this because you authored the thread.Message ID:\r\n",
      "> ***@***.***>\r\n",
      ">\r\n",
      "\n"
     ]
    }
   ],
   "source": [
    "comments_url = issue.get(\"comments_url\")\n",
    "comments_response = requests.get(comments_url, headers=headers)\n",
    "\n",
    "all_comments = []\n",
    "if comments_response.status_code == 200:\n",
    "    comments = comments_response.json()\n",
    "    for comment in comments:\n",
    "        comment_data = {\n",
    "            \"author\": comment[\"user\"][\"login\"],\n",
    "            \"created_at\": comment[\"created_at\"],\n",
    "            \"body\": comment[\"body\"]\n",
    "        }\n",
    "        all_comments.append(comment_data)\n",
    "    print(\"\\nCollected Comments:\")\n",
    "    for i, c in enumerate(all_comments, 1):\n",
    "        print(f\"\\n--- Comment #{i} by {c['author']} at {c['created_at']} ---\")\n",
    "        print(c[\"body\"])\n",
    "else:\n",
    "    print(f\"\\nError getting comments: {comments_response.status_code}\")"
   ]
  },
  {
   "cell_type": "markdown",
   "id": "f1f7a44c",
   "metadata": {},
   "source": [
    "In the below cell, we were providing all the collected details to the LLM in the form of a prompt and we collected all the required skills to solve the issue."
   ]
  },
  {
   "cell_type": "code",
   "execution_count": 27,
   "id": "ab5c2a54",
   "metadata": {},
   "outputs": [
    {
     "name": "stdout",
     "output_type": "stream",
     "text": [
      "To address the issue described, you would need the following programming skills:\n",
      "\n",
      "1. **C++ Programming**: Understanding of C++ to work with the service implementation, debug, and modify the C++ code effectively.\n",
      "\n",
      "2. **gRPC**: Familiarity with gRPC concepts and its usage in C++ to implement and troubleshoot the service.\n",
      "\n",
      "3. **CMake**: Ability to read and modify CMake configuration files to adjust compiler settings and troubleshoot build configurations.\n",
      "\n",
      "4. **Clang and GCC Compilers**: Knowledge of how C++ code is compiled using different compilers (Clang and GCC) and understanding the differences between them.\n",
      "\n",
      "5. **Linux Command Line**: Proficiency in using Linux command-line tools, as the environment is Linux-based.\n",
      "\n",
      "6. **Debugging Segmentation Faults**: Skills to debug and resolve segmentation faults, which includes using tools like gdb or address sanitizers.\n",
      "\n",
      "7. **Protocol Buffers**: Understanding of Protocol Buffers, as it forms the underlying serialization format for the gRPC service and the `.proto` file definitions.\n",
      "\n",
      "These skills collectively will enable you to engage with the problem effectively and work towards finding a resolution for the segmentation fault and related issues.\n"
     ]
    }
   ],
   "source": [
    "import os\n",
    "from openai import OpenAI\n",
    "\n",
    "client = OpenAI(api_key=api_key_)\n",
    "question= f\"I have details of a GitHub issue in {title}, {labels},{all_comments}, and {body}. Please give me list of only programming skills that are required to complete the issue\"\n",
    "message = [\n",
    "    {\"role\": \"user\", \"content\": question}\n",
    "]\n",
    "completion = client.chat.completions.create(\n",
    "    model=\"gpt-4o\",\n",
    "    messages = message\n",
    ")\n",
    "\n",
    "print(completion.choices[0].message.content)"
   ]
  },
  {
   "cell_type": "markdown",
   "id": "e049f269",
   "metadata": {},
   "source": [
    "In the below cells, we are providing each of the collected details in a seperate prompt and we have collected all the required skills in order to solve the issue"
   ]
  },
  {
   "cell_type": "code",
   "execution_count": 28,
   "id": "31ced35c",
   "metadata": {},
   "outputs": [
    {
     "name": "stdout",
     "output_type": "stream",
     "text": [
      "To resolve a GitHub issue related to a segmentation fault when compiling code with `clang++`, which works fine with `gcc`, you would need the following programming skills:\n",
      "\n",
      "1. **C++ Programming:** A strong understanding of C++ syntax, semantics, and features is essential to diagnose and fix issues in the code.\n",
      "\n",
      "2. **Debugging Skills:** Proficiency in using debugging tools and techniques to identify the source of a segmentation fault.\n",
      "\n",
      "3. **Compiler Knowledge:** Understanding the differences and peculiarities between `clang++` and `gcc`.\n",
      "\n",
      "4. **Familiarity with Build Systems:** Experience with build systems like CMake or Makefiles to manage compilation processes.\n",
      "\n",
      "5. **Understanding of Undefined Behavior:** Knowledge of the potential pitfalls in C++ that might lead to undefined behavior, which can cause segmentation faults.\n",
      "\n",
      "6. **Memory Management:** Skills in managing dynamic memory and identifying issues like invalid memory access, which may cause segmentation faults.\n",
      "\n",
      "7. **Experience with Static and Dynamic Analysis Tools:** Knowledge of tools like Valgrind, AddressSanitizer, or LLVM’s sanitizer tools for dynamic analysis, and tools like `cppcheck` for static code analysis.\n",
      "\n",
      "These skills will help you in diagnosing the issue and applying the necessary fixes.\n"
     ]
    }
   ],
   "source": [
    "import os\n",
    "from openai import OpenAI\n",
    "\n",
    "client = OpenAI(api_key=api_key_)\n",
    "question= f\"I have details of a GitHub issue in {title}. Please give me list of only programming skills that are required to complete the issue\"\n",
    "message = [\n",
    "    {\"role\": \"user\", \"content\": question}\n",
    "]\n",
    "completion = client.chat.completions.create(\n",
    "    model=\"gpt-4o\",\n",
    "    messages = message\n",
    ")\n",
    "\n",
    "print(completion.choices[0].message.content)"
   ]
  },
  {
   "cell_type": "code",
   "execution_count": 29,
   "id": "225938ff",
   "metadata": {},
   "outputs": [
    {
     "name": "stdout",
     "output_type": "stream",
     "text": [
      "To effectively address a GitHub issue categorized under `kind/bug`, `lang/c++`, and `priority/P2`, you will likely need the following programming skills:\n",
      "\n",
      "1. **C++ Programming:** Proficiency in C++ is essential, as you'll be working directly with this programming language to resolve the bug.\n",
      "\n",
      "2. **Debugging Skills:** Strong debugging capabilities to identify, analyze, and resolve issues within the C++ code.\n",
      "\n",
      "3. **Familiarity with Development Tools:** Experience with IDEs or text editors that support C++ development, such as Visual Studio or Eclipse, as well as proficiency in using debuggers and other diagnostic tools.\n",
      "\n",
      "4. **Version Control (Git):** Ability to use Git for version control, so you can manage changes effectively and collaborate with others working on the project.\n",
      "\n",
      "5. **Understanding of C++ Build Systems:** Knowledge of build systems like CMake or Make, which are commonly used in C++ projects to compile and link code.\n",
      "\n",
      "6. **Unit Testing in C++:** Experience with unit testing frameworks for C++, such as Google Test or Boost.Test, to ensure that the bug fix works correctly and does not introduce new issues.\n",
      "\n",
      "These skills will help you analyze the problem, apply a solution, and thoroughly test your changes to confirm that the issue is resolved without causing additional bugs.\n"
     ]
    }
   ],
   "source": [
    "import os\n",
    "from openai import OpenAI\n",
    "\n",
    "client = OpenAI(api_key=api_key_)\n",
    "question= f\"I have details of a GitHub issue in {labels}. Please give me list of only programming skills that are required to complete the issue\"\n",
    "message = [\n",
    "    {\"role\": \"user\", \"content\": question}\n",
    "]\n",
    "completion = client.chat.completions.create(\n",
    "    model=\"gpt-4o\",\n",
    "    messages = message\n",
    ")\n",
    "\n",
    "print(completion.choices[0].message.content)"
   ]
  },
  {
   "cell_type": "code",
   "execution_count": 30,
   "id": "e78156e9",
   "metadata": {},
   "outputs": [
    {
     "name": "stdout",
     "output_type": "stream",
     "text": [
      "To address the issue described in the GitHub thread, a combination of programming skills and knowledge is required. Here's a list of skills that are necessary to tackle the problem effectively:\n",
      "\n",
      "1. **C/C++ Programming**: Understanding and writing C/C++ code is necessary, as the discussion highlights issues related to C and C++ compilers.\n",
      "\n",
      "2. **Debugging Skills**: The ability to debug issues, especially related to crashes (e.g., segfaults), to identify the root cause of the problem.\n",
      "\n",
      "3. **CMake Proficiency**: Familiarity with CMake configuration, including setting environment variables like `CMAKE_C_COMPILER` and understanding how it impacts the build process.\n",
      "\n",
      "4. **Version Control (Git/GitHub)**: Experience with Git and GitHub for managing code, issues, and pull requests.\n",
      "\n",
      "5. **Working with Containers**: Understanding of containerization tools like Podman to reproduce the problem in a containerized environment.\n",
      "\n",
      "6. **Build and Compilation Tools**: Knowledge of build systems and compilation tools, such as clang and clang++, to troubleshoot and configure compilation issues.\n",
      "\n",
      "These skills will aid in diagnosing the issue, reproducing the crash, and ultimately resolving it.\n"
     ]
    }
   ],
   "source": [
    "import os\n",
    "from openai import OpenAI\n",
    "\n",
    "client = OpenAI(api_key=api_key_)\n",
    "question= f\"I have details of a GitHub issue in {all_comments}. Please give me list of only programming skills that are required to complete the issue\"\n",
    "message = [\n",
    "    {\"role\": \"user\", \"content\": question}\n",
    "]\n",
    "completion = client.chat.completions.create(\n",
    "    model=\"gpt-4o\",\n",
    "    messages = message\n",
    ")\n",
    "\n",
    "print(completion.choices[0].message.content)"
   ]
  },
  {
   "cell_type": "code",
   "execution_count": 31,
   "id": "9294f745",
   "metadata": {},
   "outputs": [
    {
     "name": "stdout",
     "output_type": "stream",
     "text": [
      "To address the segmentation fault issue you are facing with the gRPC service implementation, it would be beneficial to have the following programming and related technical skills:\n",
      "\n",
      "1. **C++ Programming:**\n",
      "   - Proficiency in C++ for implementing and debugging the service.\n",
      "   - Understanding of differences in behavior when using different compilers like Clang and GCC.\n",
      "\n",
      "2. **gRPC Framework:**\n",
      "   - Familiarity with gRPC, specifically with implementing services and handling RPCs in C++.\n",
      "   - Understanding the gRPC server and client setup procedures, including the use of Proto buffer files (`.proto`).\n",
      "\n",
      "3. **Protobuf:**\n",
      "   - Knowledge of Protocol Buffers for defining the service structure and messages.\n",
      "   - Experience in generating and using the C++ code from `.proto` files.\n",
      "\n",
      "4. **Compilers & Build Systems:**\n",
      "   - Experience with using Clang and GCC compilers, understanding their differences, and dealing with compiler-specific issues.\n",
      "   - Familiarity with CMake to configure and build your project, including setting up the correct compiler.\n",
      "\n",
      "5. **Debugging & Troubleshooting:**\n",
      "   - Ability to debug segmentation faults, using tools like `gdb` or `lldb` to trace and identify issues in the code.\n",
      "   - Familiarity with analyzing stack traces and core dumps if necessary.\n",
      "\n",
      "6. **Linux Environment:**\n",
      "   - Experience with Linux operating systems for setting up and running the service.\n",
      "   - Proficient with using terminal-based commands and tools for development and debugging.\n",
      "\n",
      "7. **Networking:**\n",
      "   - Basic understanding of networking concepts, particularly in the context of using gRPC for remote procedure calls.\n",
      "\n",
      "By leveraging these skills, you can effectively identify and resolve the issues in your gRPC service implementation.\n"
     ]
    }
   ],
   "source": [
    "import os\n",
    "from openai import OpenAI\n",
    "\n",
    "client = OpenAI(api_key=api_key_)\n",
    "question= f\"I have details of a GitHub issue in {body}. Please give me list of only programming skills that are required to complete the issue\"\n",
    "message = [\n",
    "    {\"role\": \"user\", \"content\": question}\n",
    "]\n",
    "completion = client.chat.completions.create(\n",
    "    model=\"gpt-4o\",\n",
    "    messages = message\n",
    ")\n",
    "\n",
    "print(completion.choices[0].message.content)"
   ]
  },
  {
   "cell_type": "markdown",
   "id": "4a2fefb1",
   "metadata": {},
   "source": [
    "For this issue, prompt 2 has more accuracy than prompt 1"
   ]
  },
  {
   "cell_type": "markdown",
   "id": "2cd44def",
   "metadata": {},
   "source": [
    "Accuracy - 75, 87.5"
   ]
  },
  {
   "cell_type": "markdown",
   "id": "ce2b3a8d",
   "metadata": {},
   "source": [
    "# issue4"
   ]
  },
  {
   "cell_type": "markdown",
   "id": "4baa7022",
   "metadata": {},
   "source": [
    "In the below cell, we are are collecting information from title, body, and lables of the issue."
   ]
  },
  {
   "cell_type": "code",
   "execution_count": 32,
   "id": "de8b2ffe",
   "metadata": {},
   "outputs": [
    {
     "name": "stdout",
     "output_type": "stream",
     "text": [
      "Title: Python dependency conflict protobuf==6.30.1  grpcio-tools==1.71.0\n",
      "Labels: ['kind/bug', 'lang/Python', 'priority/P2']\n",
      "Body:\n",
      " Python dependency conflict:  grpcio-tools 1.71.0 incompatible with protobuf 6.30.1.\n",
      "\n",
      "### How to recreate\n",
      "\n",
      "```console\n",
      "python3 -m venv test_venv\n",
      "source test_venv/bin/activate\n",
      "python3 -m pip install protobuf\n",
      "python3 -m pip install grpcio-tools\n",
      "```\n",
      "\n",
      "Notice that `grpcio-tools` downgrades `protobuf` to 5.29.3\n",
      "\n",
      "### Details\n",
      "\n",
      "```console\n",
      "senzing@thelio:~$ python3 -m venv test_venv\n",
      "\n",
      "senzing@thelio:~$ source test_venv/bin/activate\n",
      "\n",
      "(test_venv) senzing@thelio:~$ python3 -m pip install protobuf\n",
      "Collecting protobuf\n",
      "  Using cached protobuf-6.30.1-cp39-abi3-manylinux2014_x86_64.whl.metadata (593 bytes)\n",
      "Using cached protobuf-6.30.1-cp39-abi3-manylinux2014_x86_64.whl (316 kB)\n",
      "Installing collected packages: protobuf\n",
      "Successfully installed protobuf-6.30.1\n",
      "\n",
      "(test_venv) senzing@thelio:~$ python3 -m pip install grpcio-tools\n",
      "Collecting grpcio-tools\n",
      "  Using cached grpcio_tools-1.71.0-cp312-cp312-manylinux_2_17_x86_64.manylinux2014_x86_64.whl.metadata (5.3 kB)\n",
      "Collecting protobuf<6.0dev,>=5.26.1 (from grpcio-tools)\n",
      "  Using cached protobuf-5.29.3-cp38-abi3-manylinux2014_x86_64.whl.metadata (592 bytes)\n",
      "Collecting grpcio>=1.71.0 (from grpcio-tools)\n",
      "  Using cached grpcio-1.71.0-cp312-cp312-manylinux_2_17_x86_64.manylinux2014_x86_64.whl.metadata (3.8 kB)\n",
      "Collecting setuptools (from grpcio-tools)\n",
      "  Downloading setuptools-76.1.0-py3-none-any.whl.metadata (6.7 kB)\n",
      "Using cached grpcio_tools-1.71.0-cp312-cp312-manylinux_2_17_x86_64.manylinux2014_x86_64.whl (2.5 MB)\n",
      "Using cached grpcio-1.71.0-cp312-cp312-manylinux_2_17_x86_64.manylinux2014_x86_64.whl (5.9 MB)\n",
      "Using cached protobuf-5.29.3-cp38-abi3-manylinux2014_x86_64.whl (319 kB)\n",
      "Downloading setuptools-76.1.0-py3-none-any.whl (1.2 MB)\n",
      "   ━━━━━━━━━━━━━━━━━━━━━━━━━━━━━━━━━━━━━━━━ 1.2/1.2 MB 4.5 MB/s eta 0:00:00\n",
      "Installing collected packages: setuptools, protobuf, grpcio, grpcio-tools\n",
      "  Attempting uninstall: protobuf\n",
      "    Found existing installation: protobuf 6.30.1\n",
      "    Uninstalling protobuf-6.30.1:\n",
      "      Successfully uninstalled protobuf-6.30.1\n",
      "Successfully installed grpcio-1.71.0 grpcio-tools-1.71.0 protobuf-5.29.3 setuptools-76.1.0\n",
      "```\n",
      "\n",
      "### References\n",
      "\n",
      "- https://pypi.org/project/protobuf/\n",
      "- https://pypi.org/project/grpcio-tools/\n"
     ]
    }
   ],
   "source": [
    "url = f\"https://api.github.com/repos/grpc/grpc/issues/39012\"\n",
    "\n",
    "headers = {\n",
    "    \"Accept\": \"application/vnd.github+json\"\n",
    "    }\n",
    "\n",
    "response = requests.get(url, headers=headers)\n",
    "\n",
    "if response.status_code == 200:\n",
    "    issue = response.json()\n",
    "    print(\"Title:\", issue.get(\"title\"))\n",
    "    print(\"Labels:\", [label[\"name\"] for label in issue.get(\"labels\", [])])\n",
    "    print(\"Body:\\n\", issue.get(\"body\"))\n",
    "else:\n",
    "    print(f\"Error {response.status_code}: {response.text}\")\n",
    "title=issue.get(\"title\")\n",
    "labels=[label[\"name\"] for label in issue.get(\"labels\", [])]\n",
    "body=issue.get(\"body\")"
   ]
  },
  {
   "cell_type": "markdown",
   "id": "85c7fbd2",
   "metadata": {},
   "source": [
    "Here we are collecting comments of the issue"
   ]
  },
  {
   "cell_type": "code",
   "execution_count": 33,
   "id": "bbb2e17a",
   "metadata": {},
   "outputs": [
    {
     "name": "stdout",
     "output_type": "stream",
     "text": [
      "\n",
      "Collected Comments:\n",
      "\n",
      "--- Comment #1 by docktermj at 2025-03-23T13:59:26Z ---\n",
      "Looks like this is in progress\n",
      "\n",
      "- https://github.com/grpc/grpc/blob/c106eddf4b7a0deb5b071d96494959b655594e35/requirements.txt\n",
      "\n",
      "--- Comment #2 by sreenithi at 2025-03-25T10:09:19Z ---\n",
      "Hi @docktermj, thank you for raising the issue. However, the [required file](https://github.com/grpc/grpc/blame/master/tools/distrib/python/grpcio_tools/setup.py#L346) with the correct Protobuf version has recently been updated in master #38725\n",
      "\n",
      "The change hasn't been included in v1.71.0, but will be included in the next release, so the issue should be fixed then.\n",
      "\n",
      "--- Comment #3 by docktermj at 2025-03-25T13:32:29Z ---\n",
      "Looking forward to the next release.   Thank you.\n"
     ]
    }
   ],
   "source": [
    "comments_url = issue.get(\"comments_url\")\n",
    "comments_response = requests.get(comments_url, headers=headers)\n",
    "\n",
    "all_comments = []\n",
    "if comments_response.status_code == 200:\n",
    "    comments = comments_response.json()\n",
    "    for comment in comments:\n",
    "        comment_data = {\n",
    "            \"author\": comment[\"user\"][\"login\"],\n",
    "            \"created_at\": comment[\"created_at\"],\n",
    "            \"body\": comment[\"body\"]\n",
    "        }\n",
    "        all_comments.append(comment_data)\n",
    "    print(\"\\nCollected Comments:\")\n",
    "    for i, c in enumerate(all_comments, 1):\n",
    "        print(f\"\\n--- Comment #{i} by {c['author']} at {c['created_at']} ---\")\n",
    "        print(c[\"body\"])\n",
    "else:\n",
    "    print(f\"\\nError getting comments: {comments_response.status_code}\")"
   ]
  },
  {
   "cell_type": "markdown",
   "id": "f77ef1b5",
   "metadata": {},
   "source": [
    "In the below cell, we were providing all the collected details to the LLM in the form of a prompt and we collected all the required skills to solve the issue."
   ]
  },
  {
   "cell_type": "code",
   "execution_count": 34,
   "id": "22d00f71",
   "metadata": {},
   "outputs": [
    {
     "name": "stdout",
     "output_type": "stream",
     "text": [
      "To address the Python dependency conflict issue you described on GitHub, you'll need the following programming skills:\n",
      "\n",
      "1. **Python Package Management:**\n",
      "   - Understanding of Python package management using `pip` and virtual environments with `venv`.\n",
      "\n",
      "2. **Dependency Management:**\n",
      "   - Ability to interpret and resolve dependency versions, including identifying version conflicts in `requirements.txt` or `setup.py` files.\n",
      "\n",
      "3. **Git/GitHub Proficiency:**\n",
      "   - Use of Git for version control and familiarity with navigating and interacting with GitHub repositories to find and apply updates or patches.\n",
      "\n",
      "4. **Debugging and Problem Solving:**\n",
      "   - Ability to systematically debug and test the environment to ensure all dependencies are compatible and working as expected.\n",
      "\n",
      "5. **Version Control Knowledge:**\n",
      "   - Understanding semantic versioning and its implications on dependency resolution.\n",
      "\n",
      "These skills will be necessary to investigate, understand, and resolve the dependency conflicts between `protobuf` and `grpcio-tools`.\n"
     ]
    }
   ],
   "source": [
    "import os\n",
    "from openai import OpenAI\n",
    "\n",
    "client = OpenAI(api_key=api_key_)\n",
    "question= f\"I have details of a GitHub issue in {title}, {labels},{all_comments}, and {body}. Please give me list of only programming skills that are required to complete the issue\"\n",
    "message = [\n",
    "    {\"role\": \"user\", \"content\": question}\n",
    "]\n",
    "completion = client.chat.completions.create(\n",
    "    model=\"gpt-4o\",\n",
    "    messages = message\n",
    ")\n",
    "\n",
    "print(completion.choices[0].message.content)"
   ]
  },
  {
   "cell_type": "markdown",
   "id": "97265739",
   "metadata": {},
   "source": [
    "In the below cells, we are providing each of the collected details in a seperate prompt and we have collected all the required skills in order to solve the issue"
   ]
  },
  {
   "cell_type": "code",
   "execution_count": 35,
   "id": "3b5d7ecd",
   "metadata": {},
   "outputs": [
    {
     "name": "stdout",
     "output_type": "stream",
     "text": [
      "To address a Python dependency conflict involving `protobuf==6.30.1` and `grpcio-tools==1.71.0`, you would primarily need the following programming skills:\n",
      "\n",
      "1. **Python Programming:** General proficiency in Python to work with and understand the project's codebase and dependencies.\n",
      "\n",
      "2. **Dependency Management:** Experience with Python package management tools like `pip`, `virtualenv`, or `conda` to manage and troubleshoot dependencies.\n",
      "\n",
      "3. **Understanding of Package Configuration:** Knowledge of how to read and modify `requirements.txt`, `Pipfile`, or `pyproject.toml` files to adjust dependency versions.\n",
      "\n",
      "4. **Debugging and Testing:** Skills to run and debug the project to ensure that resolving the dependency conflict does not introduce new issues.\n",
      "\n",
      "5. **Version Control (Git):** Familiarity with Git to manage changes to the codebase while resolving the conflict.\n",
      "\n",
      "6. **Understanding of Protocol Buffers and gRPC:** Basic knowledge of Protocol Buffers (`protobuf`) and gRPC to understand how these tools are being used in the project.\n",
      "\n",
      "7. **Research and Documentation Skills:** Ability to look up documentation or community discussions regarding specific dependency versions and known conflicts.\n",
      "\n",
      "These skills will help in identifying the cause of the conflict, making necessary adjustments, and verifying that the project works correctly with the updated dependencies.\n"
     ]
    }
   ],
   "source": [
    "import os\n",
    "from openai import OpenAI\n",
    "\n",
    "client = OpenAI(api_key=api_key_)\n",
    "question= f\"I have details of a GitHub issue in {title}. Please give me list of only programming skills that are required to complete the issue\"\n",
    "message = [\n",
    "    {\"role\": \"user\", \"content\": question}\n",
    "]\n",
    "completion = client.chat.completions.create(\n",
    "    model=\"gpt-4o\",\n",
    "    messages = message\n",
    ")\n",
    "\n",
    "print(completion.choices[0].message.content)"
   ]
  },
  {
   "cell_type": "code",
   "execution_count": 36,
   "id": "d85cf2c4",
   "metadata": {},
   "outputs": [
    {
     "name": "stdout",
     "output_type": "stream",
     "text": [
      "To address a GitHub issue tagged with ['kind/bug', 'lang/Python', 'priority/P2'], you would likely need the following programming skills:\n",
      "\n",
      "1. **Python Programming**: A solid understanding of Python to read, understand, and modify the codebase effectively.\n",
      "2. **Debugging**: The ability to identify, trace, and resolve bugs within the code.\n",
      "3. **Code Review**: Skills to assess code quality and ensure best practices are followed after a fix is made.\n",
      "4. **Unit Testing**: Experience with writing and running tests to ensure that the bug fix doesn’t introduce new issues; familiarity with frameworks like `unittest`, `pytest`, or `nose`.\n",
      "5. **Version Control (Git)**: Proficiency in using Git for managing changes and collaborating with others on the codebase.\n",
      "\n",
      "These skills will help you tackle the bug efficiently and ensure a quality resolution.\n"
     ]
    }
   ],
   "source": [
    "import os\n",
    "from openai import OpenAI\n",
    "\n",
    "client = OpenAI(api_key=api_key_)\n",
    "question= f\"I have details of a GitHub issue in {labels}. Please give me list of only programming skills that are required to complete the issue\"\n",
    "message = [\n",
    "    {\"role\": \"user\", \"content\": question}\n",
    "]\n",
    "completion = client.chat.completions.create(\n",
    "    model=\"gpt-4o\",\n",
    "    messages = message\n",
    ")\n",
    "\n",
    "print(completion.choices[0].message.content)"
   ]
  },
  {
   "cell_type": "code",
   "execution_count": 37,
   "id": "11b62b4d",
   "metadata": {},
   "outputs": [
    {
     "name": "stdout",
     "output_type": "stream",
     "text": [
      "Based on the details provided in the GitHub issue discussion, here are the programming skills that would be relevant to address or complete the issue:\n",
      "\n",
      "1. **Python**: Since the issue involves Python files like `requirements.txt` and `setup.py`, knowledge of Python is essential.\n",
      "\n",
      "2. **Version Control with Git**: Understanding how to navigate and manage code within a GitHub repository (e.g., checking recent updates, understanding branches/commits) is important.\n",
      "\n",
      "3. **Dependency Management**: Familiarity with handling dependencies in Python projects, such as modifications in `requirements.txt` or other setup configurations that specify package versions.\n",
      "\n",
      "4. **Release Process Understanding**: Awareness of how software release processes work, including updates and the propagation of changes from master to a stable release, is crucial.\n",
      "\n",
      "These skills are inferred from the issue's context about modifying Python files and understanding repository updates and release notes.\n"
     ]
    }
   ],
   "source": [
    "import os\n",
    "from openai import OpenAI\n",
    "\n",
    "client = OpenAI(api_key=api_key_)\n",
    "question= f\"I have details of a GitHub issue in {all_comments}. Please give me list of only programming skills that are required to complete the issue\"\n",
    "message = [\n",
    "    {\"role\": \"user\", \"content\": question}\n",
    "]\n",
    "completion = client.chat.completions.create(\n",
    "    model=\"gpt-4o\",\n",
    "    messages = message\n",
    ")\n",
    "\n",
    "print(completion.choices[0].message.content)"
   ]
  },
  {
   "cell_type": "code",
   "execution_count": 38,
   "id": "ae40f567",
   "metadata": {
    "scrolled": true
   },
   "outputs": [
    {
     "name": "stdout",
     "output_type": "stream",
     "text": [
      "To address and potentially resolve the GitHub issue related to the dependency conflict between `grpcio-tools` and `protobuf`, you would need the following programming skills:\n",
      "\n",
      "1. **Python Package Management**: Understanding of how Python packages and dependencies work, including how to use `pip` for package management, as well as working with `venv` for virtual environments.\n",
      "\n",
      "2. **Dependency Resolution**: Ability to interpret and resolve conflicts that occur due to specific version requirements of one package affecting others. This often includes reading version constraints and deciding the best way to manage library versions without breaking functionality.\n",
      "\n",
      "3. **Version Management**: Skills in managing software versions, including understanding semantic versioning, and potentially pinning package versions to mitigate conflicts.\n",
      "\n",
      "4. **Debugging**: Proficiency in debugging issues related to package installation and configuration. This includes reading error messages and logs to diagnose the core problem.\n",
      "\n",
      "5. **Package Configuration**: Knowledge about using and configuring package metadata (setup.py, requirements.txt) to manage dependencies.\n",
      "\n",
      "6. **Scripting**: Ability to write and execute scripts (in bash, Python, etc.) to automate the environment setup, package installations, and testing.\n",
      "\n",
      "7. **Research**: Efficient research skills to find relevant documentation, community discussions, or existing solutions to similar dependency issues.\n",
      "\n",
      "While these are the primary skills required to address the specific dependency conflict issue at hand, depending on the solution approach, broader knowledge in software development practices might be beneficial (e.g., understanding build systems or CI/CD pipelines if automation is required).\n"
     ]
    }
   ],
   "source": [
    "import os\n",
    "from openai import OpenAI\n",
    "\n",
    "client = OpenAI(api_key=api_key_)\n",
    "question= f\"I have details of a GitHub issue in {body}. Please give me list of only programming skills that are required to complete the issue\"\n",
    "message = [\n",
    "    {\"role\": \"user\", \"content\": question}\n",
    "]\n",
    "completion = client.chat.completions.create(\n",
    "    model=\"gpt-4o\",\n",
    "    messages = message\n",
    ")\n",
    "\n",
    "print(completion.choices[0].message.content)"
   ]
  },
  {
   "cell_type": "markdown",
   "id": "d9263fae",
   "metadata": {},
   "source": [
    "Accuracy - 60,80"
   ]
  },
  {
   "cell_type": "markdown",
   "id": "c3632cc7",
   "metadata": {},
   "source": [
    "For this issue, prompt 2 has more accuracy than prompt 1"
   ]
  },
  {
   "cell_type": "markdown",
   "id": "3ed9e786",
   "metadata": {},
   "source": [
    "# issue5 "
   ]
  },
  {
   "cell_type": "markdown",
   "id": "e04402b3",
   "metadata": {},
   "source": [
    "In the below cell, we are are collecting information from title, body, and lables of the issue."
   ]
  },
  {
   "cell_type": "code",
   "execution_count": 39,
   "id": "c7afd9f0",
   "metadata": {},
   "outputs": [
    {
     "name": "stdout",
     "output_type": "stream",
     "text": [
      "Title: OTBR docker image using simulation RCP crashed due to socat\n",
      "Labels: ['platform: docker']\n",
      "Body:\n",
      " **Describe the bug** A clear and concise description of what the bug is.\n",
      "When starting OTBR docker with simulation RCP using socat **1.8.0.2**, after some time, the host program will crash.\n",
      "\n",
      "**To Reproduce** Information to reproduce the behavior, including:\n",
      "* Have socat 1.8.0.2 installed. (On our PCs, `apt-get install socat` will install this version)\n",
      "* Modify the `ncp_mode` script to run otbr docker easier. (attached below)\n",
      "* Build the simulation ot-cli-ftd: `mkdir -p build/temp && sudo top_builddir=./build/temp bash ./tests/scripts/ncp_mode build_ot_sim`\n",
      "* Build otbr docker: `  sudo top_builddir=./build/temp bash ./tests/scripts/ncp_mode build_otbr_docker`\n",
      "* Use an expect script to start the otbr docker image: `sudo top_builddir=./build/temp bash ./tests/scripts/ncp_mode expect docker_debug.exp` (the script attached below)\n",
      "    * Join the node into network using dataset: `0e080000000000010000000300001435060004001fffe002087d61eb42cdc48d6a0708fd0d07fca1b9f0500510ba088fc2bd6c3b3897f7a10f58263ff3030f4f70656e5468726561642d353234660102524f04109dc023ccd447b12b50997ef68020f19e0c0402a0f7f8`\n",
      "* Start a simulation cli ftd node and attach the network using the same dataset.\n",
      "* Use the cli ftd node to ping the br node. After about 20 pings, the otbr in docker will crash.\n",
      "\n",
      "\n",
      "1. Git commit id: e2f3c1fe8f1\n",
      "2. IEEE 802.15.4 hardware platform: simulation\n",
      "3. Build steps: described above\n",
      "4. Network topology: Leader (docker otbr) -- router (simulation cli)\n",
      "\n",
      "\n",
      "**Expected behavior** A clear and concise description of what you expected to happen.\n",
      "The ping can work as expected\n",
      "\n",
      "**Console/log output** If applicable, add console/log output to help explain your problem.\n",
      "OTBR log before crash.\n",
      "```\n",
      "Feb 17 02:33:09 11d0d0ac6a01 otbr-agent[109]: 00:03:43.525 [D] RadioSelector-: RadioSelector: UpdateOnTxSucc 15.4 - neighbor:[6e43b8173a1e8adc rloc16:0xe400 radio-pref:{15.4:255} state:Valid]\n",
      "Feb 17 02:33:09 11d0d0ac6a01 otbr-agent[109]: 00:03:43.525 [I] MeshForwarder-: Sent IPv6 ICMP6 msg, len:196, chksum:8f65, ecn:no, to:0xe400, sec:yes, prio:low, radio:15.4\n",
      "Feb 17 02:33:09 11d0d0ac6a01 otbr-agent[109]: 00:03:43.525 [I] MeshForwarder-:     src:[fd7d:61eb:42cd:8d6a:42:58ff:fe0c:64c4]\n",
      "Feb 17 02:33:09 11d0d0ac6a01 otbr-agent[109]: 00:03:43.525 [I] MeshForwarder-:     dst:[fd1b:8173:6f2a:1:2c50:7562:b3a6:a5f6]\n",
      "Feb 17 02:33:10 11d0d0ac6a01 otbr-agent[109]: 00:03:44.520 [D] P-SpinelDrive-: Received spinel frame, flg:0x2, iid:0, tid:0, cmd:PROP_VALUE_IS, key:STREAM_RAW, len:125, rssi:-20 ...\n",
      "Feb 17 02:33:10 11d0d0ac6a01 otbr-agent[109]: 00:03:44.520 [D] P-SpinelDrive-: ... noise:-128, flags:0x0010, channel:20, lqi:0, timestamp:875784317018, rxerr:0\n",
      "Feb 17 02:33:10 11d0d0ac6a01 otbr-agent[109]: 00:03:44.520 [D] RadioSelector-: RadioSelector: UpdateOnRx 15.4 - neighbor:[6e43b8173a1e8adc rloc16:0xe400 radio-pref:{15.4:255} state:Valid]\n",
      "Feb 17 02:33:13 11d0d0ac6a01 otbr-agent[109]: 00:03:47.503 [N] MeshForwarder-: Dropping (reassembly queue) IPv6 ICMP6 msg, len:148, chksum:9eb8, ecn:no, sec:yes, error:ReassemblyTimeout, prio:normal, rss:-20.0, radio:15.4\n",
      "Feb 17 02:33:13 11d0d0ac6a01 otbr-agent[109]: 00:03:47.503 [N] MeshForwarder-:     src:[fd1b:8173:6f2a:1:2c50:7562:b3a6:a5f6]\n",
      "Feb 17 02:33:13 11d0d0ac6a01 otbr-agent[109]: 00:03:47.503 [N] MeshForwarder-:     dst:[fdde:ad00:beef:0:c9cf:f625:504c:e0c6]\n",
      "Feb 17 02:33:19 11d0d0ac6a01 otbr-agent[109]: 00:03:53.371 [I] Mle-----------: Send Advertisement (ff02:0:0:0:0:0:0:1)\n",
      "Feb 17 02:33:19 11d0d0ac6a01 otbr-agent[109]: 00:03:53.371 [D] P-SpinelDrive-: Sent spinel frame, flg:0x2, iid:0, tid:13, cmd:PROP_VALUE_SET, key:STREAM_RAW, len:70, channel:20, maxbackoffs:4, maxretries:15 ...\n",
      "Feb 17 02:33:19 11d0d0ac6a01 otbr-agent[109]: 00:03:53.371 [D] P-SpinelDrive-: ... csmaCaEnabled:1, isHeaderUpdated:0, isARetx:0, skipAes:0, txDelay:0, txDelayBase:0\n",
      "Feb 17 02:33:24 11d0d0ac6a01 otbr-agent[109]: 00:03:58.371 [W] P-RadioSpinel-: radio tx timeout\n",
      "Feb 17 02:33:24 11d0d0ac6a01 otbr-agent[109]: 00:03:58.375 [C] P-RadioSpinel-: Failed to communicate with RCP - no response from RCP during initialization\n",
      "Feb 17 02:33:24 11d0d0ac6a01 otbr-agent[109]: 00:03:58.375 [C] P-RadioSpinel-: This is not a bug and typically due a config error (wrong URL parameters) or bad RCP image:\n",
      "Feb 17 02:33:24 11d0d0ac6a01 otbr-agent[109]: 00:03:58.375 [C] P-RadioSpinel-: - Make sure RCP is running the correct firmware\n",
      "Feb 17 02:33:24 11d0d0ac6a01 otbr-agent[109]: 00:03:58.375 [C] P-RadioSpinel-: - Double check the config parameters passed as `RadioURL` input\n",
      "Feb 17 02:33:24 11d0d0ac6a01 otbr-agent[109]: 00:03:58.375 [C] Platform------: HandleRcpTimeout() at radio_spinel.cpp:2035: RadioSpinelNoResponse\n",
      "```\n",
      "\n",
      "**Additional context** Add any other context about the problem here.\n",
      "Updated ncp_mode script:\n",
      "```\n",
      "#!/bin/bash\n",
      "#\n",
      "#  Copyright (c) 2024, The OpenThread Authors.\n",
      "#  All rights reserved.\n",
      "#\n",
      "#  Redistribution and use in source and binary forms, with or without\n",
      "#  modification, are permitted provided that the following conditions are met:\n",
      "#  1. Redistributions of source code must retain the above copyright\n",
      "#     notice, this list of conditions and the following disclaimer.\n",
      "#  2. Redistributions in binary form must reproduce the above copyright\n",
      "#     notice, this list of conditions and the following disclaimer in the\n",
      "#     documentation and/or other materials provided with the distribution.\n",
      "#  3. Neither the name of the copyright holder nor the\n",
      "#     names of its contributors may be used to endorse or promote products\n",
      "#     derived from this software without specific prior written permission.\n",
      "#\n",
      "#  THIS SOFTWARE IS PROVIDED BY THE COPYRIGHT HOLDERS AND CONTRIBUTORS \"AS IS\"\n",
      "#  AND ANY EXPRESS OR IMPLIED WARRANTIES, INCLUDING, BUT NOT LIMITED TO, THE\n",
      "#  IMPLIED WARRANTIES OF MERCHANTABILITY AND FITNESS FOR A PARTICULAR PURPOSE\n",
      "#  ARE DISCLAIMED. IN NO EVENT SHALL THE COPYRIGHT HOLDER OR CONTRIBUTORS BE\n",
      "#  LIABLE FOR ANY DIRECT, INDIRECT, INCIDENTAL, SPECIAL, EXEMPLARY, OR\n",
      "#  CONSEQUENTIAL DAMAGES (INCLUDING, BUT NOT LIMITED TO, PROCUREMENT OF\n",
      "#  SUBSTITUTE GOODS OR SERVICES; LOSS OF USE, DATA, OR PROFITS; OR BUSINESS\n",
      "#  INTERRUPTION) HOWEVER CAUSED AND ON ANY THEORY OF LIABILITY, WHETHER IN\n",
      "#  CONTRACT, STRICT LIABILITY, OR TORT (INCLUDING NEGLIGENCE OR OTHERWISE)\n",
      "#  ARISING IN ANY WAY OUT OF THE USE OF THIS SOFTWARE, EVEN IF ADVISED OF THE\n",
      "#  POSSIBILITY OF SUCH DAMAGE.\n",
      "#\n",
      "# Test basic functionality of otbr-agent under NCP mode.\n",
      "#\n",
      "# Usage:\n",
      "#   ./ncp_mode\n",
      "set -euxo pipefail\n",
      "\n",
      "SCRIPT_DIR=\"$(cd \"$(dirname \"$0\")\" && pwd)\"\n",
      "readonly SCRIPT_DIR\n",
      "EXPECT_SCRIPT_DIR=\"${SCRIPT_DIR}/expect\"\n",
      "readonly EXPECT_SCRIPT_DIR\n",
      "\n",
      "#---------------------------------------\n",
      "# Configurations\n",
      "#---------------------------------------\n",
      "OT_CLI=\"${OT_CLI:-ot-cli-ftd}\"\n",
      "readonly OT_CLI\n",
      "\n",
      "OT_NCP=\"${OT_NCP:-ot-ncp-ftd}\"\n",
      "readonly OT_NCP\n",
      "\n",
      "OT_RCP=\"${OT_RCP:-ot-rcp}\"\n",
      "readonly OT_RCP\n",
      "\n",
      "OTBR_DOCKER_IMAGE=\"${OTBR_DOCKER_IMAGE:-otbr-ncp}\"\n",
      "readonly OTBR_DOCKER_IMAGE\n",
      "\n",
      "ABS_TOP_BUILDDIR=\"$(cd \"${top_builddir:-\"${SCRIPT_DIR}\"/../../}\" && pwd)\"\n",
      "readonly ABS_TOP_BUILDDIR\n",
      "\n",
      "ABS_TOP_SRCDIR=\"$(cd \"${top_srcdir:-\"${SCRIPT_DIR}\"/../../}\" && pwd)\"\n",
      "readonly ABS_TOP_SRCDIR\n",
      "\n",
      "ABS_TOP_OT_SRCDIR=\"${ABS_TOP_SRCDIR}/third_party/openthread/repo\"\n",
      "readonly ABS_TOP_OT_SRCDIR\n",
      "\n",
      "ABS_TOP_OT_BUILDDIR=\"${ABS_TOP_BUILDDIR}/../simulation\"\n",
      "readonly ABS_TOP_BUILDDIR\n",
      "\n",
      "OTBR_COLOR_PASS='\\033[0;32m'\n",
      "readonly OTBR_COLOR_PASS\n",
      "\n",
      "OTBR_COLOR_FAIL='\\033[0;31m'\n",
      "readonly OTBR_COLOR_FAIL\n",
      "\n",
      "OTBR_COLOR_NONE='\\033[0m'\n",
      "readonly OTBR_COLOR_NONE\n",
      "\n",
      "readonly OTBR_VERBOSE=\"${OTBR_VERBOSE:-0}\"\n",
      "\n",
      "#----------------------------------------\n",
      "# Helper functions\n",
      "#----------------------------------------\n",
      "die()\n",
      "{\n",
      "    exit_message=\"$*\"\n",
      "    echo \" *** ERROR: $*\"\n",
      "    exit 1\n",
      "}\n",
      "\n",
      "exists_or_die()\n",
      "{\n",
      "    [[ -f $1 ]] || die \"Missing file: $1\"\n",
      "}\n",
      "\n",
      "executable_or_die()\n",
      "{\n",
      "    [[ -x $1 ]] || die \"Missing executable: $1\"\n",
      "}\n",
      "\n",
      "write_syslog()\n",
      "{\n",
      "    logger -s -p syslog.alert \"OTBR_TEST: $*\"\n",
      "}\n",
      "\n",
      "#----------------------------------------\n",
      "# Test constants\n",
      "#----------------------------------------\n",
      "TEST_BASE=/tmp/test-otbr\n",
      "readonly TEST_BASE\n",
      "\n",
      "OTBR_AGENT=otbr-agent\n",
      "readonly OTBR_AGENT\n",
      "\n",
      "STAGE_DIR=\"${TEST_BASE}/stage\"\n",
      "readonly STAGE_DIR\n",
      "\n",
      "BUILD_DIR=\"${TEST_BASE}/build\"\n",
      "readonly BUILD_DIR\n",
      "\n",
      "OTBR_DBUS_CONF=\"${ABS_TOP_BUILDDIR}/src/agent/otbr-agent.conf\"\n",
      "readonly OTBR_DBUS_CONF\n",
      "\n",
      "OTBR_AGENT_PATH=\"${ABS_TOP_BUILDDIR}/src/agent/${OTBR_AGENT}\"\n",
      "readonly OTBR_AGENT_PATH\n",
      "\n",
      "# The node ids\n",
      "LEADER_NODE_ID=1\n",
      "readonly LEADER_NODE_ID\n",
      "\n",
      "# The TUN device for OpenThread border router.\n",
      "TUN_NAME=wpan0\n",
      "readonly TUN_NAME\n",
      "\n",
      "#----------------------------------------\n",
      "# Test steps\n",
      "#----------------------------------------\n",
      "do_build_ot_simulation()\n",
      "{\n",
      "    sudo rm -rf \"${ABS_TOP_OT_BUILDDIR}/ncp\"\n",
      "    sudo rm -rf \"${ABS_TOP_OT_BUILDDIR}/cli\"\n",
      "    sudo rm -rf \"${ABS_TOP_OT_BUILDDIR}/rcp\"\n",
      "    OT_CMAKE_BUILD_DIR=${ABS_TOP_OT_BUILDDIR}/ncp \"${ABS_TOP_OT_SRCDIR}\"/script/cmake-build simulation \\\n",
      "        -DOT_MTD=OFF -DOT_RCP=OFF -DOT_APP_CLI=OFF -DOT_APP_RCP=OFF \\\n",
      "        -DOT_BORDER_ROUTING=ON -DOT_NCP_INFRA_IF=ON -DOT_SIMULATION_INFRA_IF=OFF \\\n",
      "        -DOT_SRP_SERVER=ON -DOT_SRP_ADV_PROXY=ON -DOT_PLATFORM_DNSSD=ON -DOT_SIMULATION_DNSSD=OFF -DOT_NCP_DNSSD=ON \\\n",
      "        -DBUILD_TESTING=OFF\n",
      "    OT_CMAKE_BUILD_DIR=${ABS_TOP_OT_BUILDDIR}/cli \"${ABS_TOP_OT_SRCDIR}\"/script/cmake-build simulation \\\n",
      "        -DOT_MTD=OFF -DOT_RCP=OFF -DOT_APP_NCP=OFF -DOT_APP_RCP=OFF \\\n",
      "        -DOT_BORDER_ROUTING=OFF \\\n",
      "        -DBUILD_TESTING=OFF\n",
      "    OT_CMAKE_BUILD_DIR=${ABS_TOP_OT_BUILDDIR}/rcp \"${ABS_TOP_OT_SRCDIR}\"/script/cmake-build simulation \\\n",
      "        -DOT_FTD=OFF -DOT_MTD=OFF -DOT_APP_CLI=OFF -DOT_APP_NCP=OFF \\\n",
      "        -DBUILD_TESTING=OFF\n",
      "}\n",
      "\n",
      "do_build_otbr_docker()\n",
      "{\n",
      "    otbr_docker_options=(\n",
      "        \"-DOT_THREAD_VERSION=1.4\"\n",
      "        \"-DOTBR_DBUS=ON\"\n",
      "        \"-DOTBR_FEATURE_FLAGS=ON\"\n",
      "        \"-DOTBR_TELEMETRY_DATA_API=ON\"\n",
      "        \"-DOTBR_TREL=ON\"\n",
      "        \"-DOTBR_LINK_METRICS_TELEMETRY=ON\"\n",
      "        \"-DOTBR_SRP_ADVERTISING_PROXY=ON\"\n",
      "        \"-DOTBR_BACKBONE_ROUTER=ON\"\n",
      "    )\n",
      "    sudo docker build -t \"${OTBR_DOCKER_IMAGE}\" \\\n",
      "        -f ./etc/docker/Dockerfile . \\\n",
      "        --build-arg NAT64=0 \\\n",
      "        --build-arg NAT64_SERVICE=0 \\\n",
      "        --build-arg DNS64=0 \\\n",
      "        --build-arg WEB_GUI=0 \\\n",
      "        --build-arg REST_API=0 \\\n",
      "        --build-arg FIREWALL=0 \\\n",
      "        --build-arg OTBR_OPTIONS=\"${otbr_docker_options[*]}\"\n",
      "}\n",
      "\n",
      "setup_infraif()\n",
      "{\n",
      "    if ! ip link show backbone1 >/dev/null 2>&1; then\n",
      "        echo \"Creating backbone1 with Docker...\"\n",
      "        docker network create --driver bridge --ipv6 --subnet 9101::/64 -o \"com.docker.network.bridge.name\"=\"backbone1\" backbone1\n",
      "    else\n",
      "        echo \"backbone1 already exists.\"\n",
      "    fi\n",
      "    sudo sysctl -w net.ipv6.conf.backbone1.accept_ra=2\n",
      "    sudo sysctl -w net.ipv6.conf.backbone1.accept_ra_rt_info_max_plen=64\n",
      "}\n",
      "\n",
      "test_setup()\n",
      "{\n",
      "    executable_or_die \"${OTBR_AGENT_PATH}\"\n",
      "\n",
      "    # Remove flashes\n",
      "    sudo rm -vrf \"${TEST_BASE}/tmp\"\n",
      "    # OPENTHREAD_POSIX_DAEMON_SOCKET_LOCK\n",
      "    sudo rm -vf \"/tmp/openthread.lock\"\n",
      "\n",
      "    ot_cli=$(find \"${ABS_TOP_OT_BUILDDIR}\" -name \"${OT_CLI}\")\n",
      "    ot_ncp=$(find \"${ABS_TOP_OT_BUILDDIR}\" -name \"${OT_NCP}\")\n",
      "    ot_rcp=$(find \"${ABS_TOP_OT_BUILDDIR}\" -name \"${OT_RCP}\")\n",
      "    executable_or_die \"${ot_cli}\"\n",
      "    executable_or_die \"${ot_ncp}\"\n",
      "    executable_or_die \"${ot_rcp}\"\n",
      "\n",
      "    export EXP_OTBR_AGENT_PATH=\"${OTBR_AGENT_PATH}\"\n",
      "    export EXP_OT_CLI_PATH=\"${ot_cli}\"\n",
      "    export EXP_OT_NCP_PATH=\"${ot_ncp}\"\n",
      "    export EXP_OT_RCP_PATH=\"${ot_rcp}\"\n",
      "\n",
      "    # We will be creating a lot of log information\n",
      "    # Rotate logs so we have a clean and empty set of logs uncluttered with other stuff\n",
      "    if [[ -f /etc/logrotate.conf ]]; then\n",
      "        sudo logrotate -f /etc/logrotate.conf || true\n",
      "    fi\n",
      "\n",
      "    # Preparation for otbr-agent\n",
      "    exists_or_die \"${OTBR_DBUS_CONF}\"\n",
      "    sudo cp \"${OTBR_DBUS_CONF}\" /etc/dbus-1/system.d\n",
      "\n",
      "    write_syslog \"AGENT: kill old\"\n",
      "    sudo killall \"${OTBR_AGENT}\" || true\n",
      "\n",
      "    setup_infraif\n",
      "\n",
      "    # From now on - all exits are TRAPPED\n",
      "    # When they occur, we call the function: output_logs'.\n",
      "    trap test_teardown EXIT\n",
      "}\n",
      "\n",
      "test_teardown()\n",
      "{\n",
      "    # Capture the exit code so we can return it below\n",
      "    EXIT_CODE=$?\n",
      "    readonly EXIT_CODE\n",
      "    write_syslog \"EXIT ${EXIT_CODE} - output logs\"\n",
      "\n",
      "    sudo pkill -f \"${OTBR_AGENT}\" || true\n",
      "    sudo pkill -f \"${OT_CLI}\" || true\n",
      "    sudo pkill -f \"${OT_NCP}\" || true\n",
      "    wait\n",
      "\n",
      "    echo 'clearing all'\n",
      "    sudo rm /etc/dbus-1/system.d/otbr-agent.conf || true\n",
      "    sudo rm -rf \"${STAGE_DIR}\" || true\n",
      "    sudo rm -rf \"${BUILD_DIR}\" || true\n",
      "\n",
      "    exit_message=\"Test teardown\"\n",
      "    echo \"EXIT ${EXIT_CODE}: MESSAGE: ${exit_message}\"\n",
      "    exit ${EXIT_CODE}\n",
      "}\n",
      "\n",
      "otbr_exec_expect_script()\n",
      "{\n",
      "    local log_file=\"tmp/log_expect\"\n",
      "\n",
      "    for script in \"$@\"; do\n",
      "        echo -e \"\\n${OTBR_COLOR_PASS}EXEC${OTBR_COLOR_NONE} ${script}\"\n",
      "        sudo killall ot-rcp || true\n",
      "        sudo killall ot-cli || true\n",
      "        sudo killall ot-cli-ftd || true\n",
      "        sudo killall ot-cli-mtd || true\n",
      "        sudo killall ot-ncp-ftd || true\n",
      "        sudo killall ot-ncp-mtd || true\n",
      "        sudo rm -rf tmp\n",
      "        mkdir tmp\n",
      "        {\n",
      "            sudo -E expect -df \"${script}\" 2>\"${log_file}\"\n",
      "        } || {\n",
      "            local EXIT_CODE=$?\n",
      "\n",
      "            echo -e \"\\n${OTBR_COLOR_FAIL}FAIL${OTBR_COLOR_NONE} ${script}\"\n",
      "            cat \"${log_file}\" >&2\n",
      "            return \"${EXIT_CODE}\"\n",
      "        }\n",
      "        echo -e \"\\n${OTBR_COLOR_PASS}PASS${OTBR_COLOR_NONE} ${script}\"\n",
      "        if [[ ${OTBR_VERBOSE} == 1 ]]; then\n",
      "            cat \"${log_file}\" >&2\n",
      "        fi\n",
      "    done\n",
      "}\n",
      "\n",
      "do_expect()\n",
      "{\n",
      "    if [[ $# != 0 ]]; then\n",
      "        otbr_exec_expect_script \"$@\"\n",
      "    else\n",
      "        mapfile -t test_files < <(find \"${EXPECT_SCRIPT_DIR}\" -type f -name \"ncp_*.exp\")\n",
      "        otbr_exec_expect_script \"${test_files[@]}\" || die \"ncp expect script failed!\"\n",
      "    fi\n",
      "\n",
      "    exit 0\n",
      "}\n",
      "\n",
      "print_usage()\n",
      "{\n",
      "    cat <<EOF\n",
      "USAGE: $0 COMMAND\n",
      "\n",
      "COMMAND:\n",
      "    build_ot_sim         Build simulated ot-cli-ftd and ot-ncp-ftd for testing.\n",
      "    build_otbr_docker    Build otbr docker image for testing.\n",
      "    expect               Run expect tests for otbr NCP mode.\n",
      "    help                 Print this help.\n",
      "\n",
      "EXAMPLES:\n",
      "    $0 build_ot_sim build_otbr_docker expect\n",
      "EOF\n",
      "    exit 0\n",
      "}\n",
      "\n",
      "main()\n",
      "{\n",
      "    if [[ $# == 0 ]]; then\n",
      "        print_usage\n",
      "    fi\n",
      "\n",
      "    export EXP_TUN_NAME=\"${TUN_NAME}\"\n",
      "    export EXP_LEADER_NODE_ID=\"${LEADER_NODE_ID}\"\n",
      "    export EXP_OTBR_DOCKER_IMAGE=\"${OTBR_DOCKER_IMAGE}\"\n",
      "\n",
      "    while [[ $# != 0 ]]; do\n",
      "        case \"$1\" in\n",
      "            build_ot_sim)\n",
      "                do_build_ot_simulation\n",
      "                ;;\n",
      "            build_otbr_docker)\n",
      "                do_build_otbr_docker\n",
      "                ;;\n",
      "            expect)\n",
      "                shift\n",
      "                test_setup\n",
      "                do_expect \"$@\"\n",
      "                ;;\n",
      "            help)\n",
      "                print_usage\n",
      "                ;;\n",
      "            *)\n",
      "                echo\n",
      "                echo -e \"${OTBR_COLOR_FAIL}Warning:${OTBR_COLOR_NONE} Ignoring: '$1'\"\n",
      "                ;;\n",
      "        esac\n",
      "        shift\n",
      "    done\n",
      "}\n",
      "\n",
      "main \"$@\"\n",
      "```\n",
      "\n",
      "docker_debug.exp:\n",
      "```\n",
      "source \"tests/scripts/expect/_common.exp\"\n",
      "\n",
      "set ptys [create_socat 1]\n",
      "set pty1 [lindex $ptys 0]\n",
      "set pty2 [lindex $ptys 1]\n",
      "\n",
      "set container \"otbr-ncp\"\n",
      "\n",
      "start_otbr_docker $container $::env(EXP_OT_RCP_PATH) 2 $pty1 $pty2\n",
      "spawn_node 3 otbr-docker $container\n",
      "interact\n",
      "\n",
      "exec sudo docker stop $container\n",
      "exec sudo docker rm $container\n",
      "dispose_all\n",
      "```\n",
      "\n",
      "---\n",
      "We have proved that this is related to socat version. If we use an older version of socat (1.7.4.4), this issue doesn't happen.\n"
     ]
    }
   ],
   "source": [
    "url = f\"https://api.github.com/repos/openthread/ot-br-posix/issues/2719\"\n",
    "\n",
    "headers = {\n",
    "    \"Accept\": \"application/vnd.github+json\"\n",
    "    }\n",
    "\n",
    "response = requests.get(url, headers=headers)\n",
    "\n",
    "if response.status_code == 200:\n",
    "    issue = response.json()\n",
    "    print(\"Title:\", issue.get(\"title\"))\n",
    "    print(\"Labels:\", [label[\"name\"] for label in issue.get(\"labels\", [])])\n",
    "    print(\"Body:\\n\", issue.get(\"body\"))\n",
    "else:\n",
    "    print(f\"Error {response.status_code}: {response.text}\")\n",
    "title=issue.get(\"title\")\n",
    "labels=[label[\"name\"] for label in issue.get(\"labels\", [])]\n",
    "body=issue.get(\"body\")"
   ]
  },
  {
   "cell_type": "markdown",
   "id": "41590101",
   "metadata": {},
   "source": [
    "Here we are collecting comments of the issue"
   ]
  },
  {
   "cell_type": "code",
   "execution_count": 40,
   "id": "067733fc",
   "metadata": {},
   "outputs": [
    {
     "name": "stdout",
     "output_type": "stream",
     "text": [
      "\n",
      "Collected Comments:\n"
     ]
    }
   ],
   "source": [
    "comments_url = issue.get(\"comments_url\")\n",
    "comments_response = requests.get(comments_url, headers=headers)\n",
    "\n",
    "all_comments = []\n",
    "if comments_response.status_code == 200:\n",
    "    comments = comments_response.json()\n",
    "    for comment in comments:\n",
    "        comment_data = {\n",
    "            \"author\": comment[\"user\"][\"login\"],\n",
    "            \"created_at\": comment[\"created_at\"],\n",
    "            \"body\": comment[\"body\"]\n",
    "        }\n",
    "        all_comments.append(comment_data)\n",
    "    print(\"\\nCollected Comments:\")\n",
    "    for i, c in enumerate(all_comments, 1):\n",
    "        print(f\"\\n--- Comment #{i} by {c['author']} at {c['created_at']} ---\")\n",
    "        print(c[\"body\"])\n",
    "else:\n",
    "    print(f\"\\nError getting comments: {comments_response.status_code}\")"
   ]
  },
  {
   "cell_type": "markdown",
   "id": "841542d8",
   "metadata": {},
   "source": [
    "In the below cell, we were providing all the collected details to the LLM in the form of a prompt and we collected all the required skills to solve the issue."
   ]
  },
  {
   "cell_type": "code",
   "execution_count": 41,
   "id": "e20ac0dd",
   "metadata": {},
   "outputs": [
    {
     "name": "stdout",
     "output_type": "stream",
     "text": [
      "To address the issue with the OTBR Docker image crashing due to a specific version of socat, you would need the following programming skills and knowledge:\n",
      "\n",
      "1. **Docker**: Understanding of Docker, including how to build, run, and manage Docker containers, as well as familiarity with Dockerfiles.\n",
      "\n",
      "2. **Networking**: Knowledge of networking principles, particularly related to IPv6, mesh networking, and potentially issues related to network emulation using tools like socat.\n",
      "\n",
      "3. **Linux/Unix**: Proficiency in using Linux or Unix-based systems, including the ability to use command-line tools and manage system configurations.\n",
      "\n",
      "4. **Bash Scripting**: Ability to read, understand, modify, and write Bash scripts, as they are used for automating the build and test processes.\n",
      "\n",
      "5. **C/C++**: Experience with C or C++, since OpenThread and its related components are often developed using these languages.\n",
      "\n",
      "6. **Debugging**: Skills in debugging complex systems, reading log outputs, and identifying the root cause of issues.\n",
      "\n",
      "7. **Version Control (Git)**: Familiarity with version control systems like Git for managing code changes and collaborating with other developers.\n",
      "\n",
      "8. **Expect Scripting**: Basic understanding of Expect scripting for automating interactive applications, as seen in the provided `docker_debug.exp` script.\n",
      "\n",
      "9. **Software Testing**: Knowledge of testing methodologies to reproduce the issue, including setting up test environments and writing test cases.\n",
      "\n",
      "10. **Problem Solving**: General problem-solving skills to experiment with different configurations and find potential workarounds or fixes.\n",
      "\n",
      "These skills will equip you to effectively address and troubleshoot issues related to the OTBR Docker setup and the interaction with socat.\n"
     ]
    }
   ],
   "source": [
    "import os\n",
    "from openai import OpenAI\n",
    "\n",
    "client = OpenAI(api_key=api_key_)\n",
    "question= f\"I have details of a GitHub issue in {title}, {labels},{all_comments}, and {body}. Please give me list of only programming skills that are required to complete the issue\"\n",
    "message = [\n",
    "    {\"role\": \"user\", \"content\": question}\n",
    "]\n",
    "completion = client.chat.completions.create(\n",
    "    model=\"gpt-4o\",\n",
    "    messages = message\n",
    ")\n",
    "\n",
    "print(completion.choices[0].message.content)"
   ]
  },
  {
   "cell_type": "markdown",
   "id": "6043927c",
   "metadata": {},
   "source": [
    "In the below cells, we are providing each of the collected details in a seperate prompt and we have collected all the required skills in order to solve the issue"
   ]
  },
  {
   "cell_type": "code",
   "execution_count": 42,
   "id": "62709e22",
   "metadata": {},
   "outputs": [
    {
     "name": "stdout",
     "output_type": "stream",
     "text": [
      "To address and resolve a GitHub issue related to the OTBR Docker image using a simulated RCP that crashed due to socat, you would generally need the following programming and technical skills:\n",
      "\n",
      "1. **Docker**: Understanding of containerization and how to work with Docker images and containers.\n",
      "\n",
      "2. **C++**: OTBR (OpenThread Border Router) primarily uses C++ for development, so C++ skills are necessary for debugging and making code changes.\n",
      "\n",
      "3. **Python**: Often used for writing scripts or automation tools related to the development and testing of OpenThread and similar projects.\n",
      "\n",
      "4. **Bash/Shell Scripting**: Proficiency in writing scripts to automate tasks within a Unix/Linux environment.\n",
      "\n",
      "5. **Network Programming**: Understanding of networking concepts and protocols, as well as network programming to address issues related to socat, which is used to create bidirectional data channels between two endpoints.\n",
      "\n",
      "6. **Troubleshooting and Debugging**: Strong skills in diagnosing and troubleshooting software crashes, particularly with tools to analyze core dumps or application logs.\n",
      "\n",
      "7. **Familiarity with OpenThread**: Knowledge of OpenThread and its architecture can be crucial for resolving issues related to OTBR specifically.\n",
      "\n",
      "These skills will help you investigate the root cause of the crash, come up with a potential fix, and thoroughly test the solution within the OTBR framework.\n"
     ]
    }
   ],
   "source": [
    "import os\n",
    "from openai import OpenAI\n",
    "\n",
    "client = OpenAI(api_key=api_key_)\n",
    "question= f\"I have details of a GitHub issue in {title}. Please give me list of only programming skills that are required to complete the issue\"\n",
    "message = [\n",
    "    {\"role\": \"user\", \"content\": question}\n",
    "]\n",
    "completion = client.chat.completions.create(\n",
    "    model=\"gpt-4o\",\n",
    "    messages = message\n",
    ")\n",
    "\n",
    "print(completion.choices[0].message.content)"
   ]
  },
  {
   "cell_type": "code",
   "execution_count": 43,
   "id": "9e9f0d85",
   "metadata": {},
   "outputs": [
    {
     "name": "stdout",
     "output_type": "stream",
     "text": [
      "To provide a list of programming skills required to complete the GitHub issue in the context of \"platform: docker,\" you'll generally need skills such as:\n",
      "\n",
      "1. **Docker**: Understanding of Docker concepts, such as images, containers, Dockerfiles, and Docker Compose.\n",
      "2. **Shell Scripting**: Knowledge of shell scripting for automating tasks and managing Docker containers.\n",
      "3. **Linux**: Familiarity with Linux commands and system administration as Docker typically runs on Linux-based environments.\n",
      "4. **Networking**: Understanding of networking concepts, particularly as they pertain to container networking.\n",
      "5. **Programming Language**: Depending on the project, a specific programming language might be required, such as Python, Go, Java, etc.\n",
      "\n",
      "If the issue includes specific technologies or requirements, adjusting these skills would be necessary, but generally, these are the foundational skills likely needed for Docker-related issues.\n"
     ]
    }
   ],
   "source": [
    "import os\n",
    "from openai import OpenAI\n",
    "\n",
    "client = OpenAI(api_key=api_key_)\n",
    "question= f\"I have details of a GitHub issue in {labels}. Please give me list of only programming skills that are required to complete the issue\"\n",
    "message = [\n",
    "    {\"role\": \"user\", \"content\": question}\n",
    "]\n",
    "completion = client.chat.completions.create(\n",
    "    model=\"gpt-4o\",\n",
    "    messages = message\n",
    ")\n",
    "\n",
    "print(completion.choices[0].message.content)"
   ]
  },
  {
   "cell_type": "code",
   "execution_count": 44,
   "id": "cecfc75a",
   "metadata": {},
   "outputs": [
    {
     "name": "stdout",
     "output_type": "stream",
     "text": [
      "Sure, I can help you with that. Please provide the details of the GitHub issue, and I'll extract the list of programming skills required to complete it.\n"
     ]
    }
   ],
   "source": [
    "import os\n",
    "from openai import OpenAI\n",
    "\n",
    "client = OpenAI(api_key=api_key_)\n",
    "question= f\"I have details of a GitHub issue in {all_comments}. Please give me list of only  programming skills that are required to complete the issue\"\n",
    "message = [\n",
    "    {\"role\": \"user\", \"content\": question}\n",
    "]\n",
    "completion = client.chat.completions.create(\n",
    "    model=\"gpt-4o\",\n",
    "    messages = message\n",
    ")\n",
    "\n",
    "print(completion.choices[0].message.content)"
   ]
  },
  {
   "cell_type": "code",
   "execution_count": 45,
   "id": "4873c7c4",
   "metadata": {},
   "outputs": [
    {
     "name": "stdout",
     "output_type": "stream",
     "text": [
      "To address the issue you described, you would need a combination of the following programming and technical skills:\n",
      "\n",
      "1. **Docker**: Understanding of how to build, run, and manage Docker containers.\n",
      "2. **Shell Scripting**: Proficiency in writing and debugging shell scripts, including `bash` scripting.\n",
      "3. **C/C++ Programming**: Knowledge of C/C++ for understanding potential issues in OpenThread or related components, if needed.\n",
      "4. **Network Programming**: Familiarity with network protocols and tools like ICMP, IPv6, and the IEEE 802.15.4 standard.\n",
      "5. **Debugging and Troubleshooting**: Ability to read logs, analyze errors, and troubleshoot networking or simulation issues.\n",
      "6. **Git**: Basic git skills to checkout different versions and commit changes if necessary.\n",
      "7. **OpenThread and OTBR**: Understanding of OpenThread/OTBR architecture and operation.\n",
      "8. **Expect Scripting**: Knowledge of Expect scripting for automating interactive applications.\n",
      "9. **Linux Networking**: Experience with Linux networking tools and configurations, including handling interfaces and routing.\n",
      "10. **Problem Solving**: Strong analytical and problem-solving skills to diagnose the root cause of the issues.\n",
      "\n",
      "These skills will help you with debugging, identifying the problem in the software stack, and implementing the necessary fixes.\n"
     ]
    }
   ],
   "source": [
    "import os\n",
    "from openai import OpenAI\n",
    "\n",
    "client = OpenAI(api_key=api_key_)\n",
    "question= f\"I have details of a GitHub issue in {body}. Please give me list of only programming skills that are required to complete the issue\"\n",
    "message = [\n",
    "    {\"role\": \"user\", \"content\": question}\n",
    "]\n",
    "completion = client.chat.completions.create(\n",
    "    model=\"gpt-4o\",\n",
    "    messages = message\n",
    ")\n",
    "\n",
    "print(completion.choices[0].message.content)"
   ]
  },
  {
   "cell_type": "markdown",
   "id": "4c29ea89",
   "metadata": {},
   "source": [
    "Accuracy 88.8%, 100"
   ]
  },
  {
   "cell_type": "markdown",
   "id": "5a5fed03",
   "metadata": {},
   "source": [
    "For this issue, prompt 2 has more accuracy than prompt 1"
   ]
  },
  {
   "cell_type": "markdown",
   "id": "2204e232",
   "metadata": {},
   "source": [
    "# issue6"
   ]
  },
  {
   "cell_type": "markdown",
   "id": "2e775c3d",
   "metadata": {},
   "source": [
    "In the below cell, we are are collecting information from title, body, and lables of the issue."
   ]
  },
  {
   "cell_type": "code",
   "execution_count": 46,
   "id": "c47b2dce",
   "metadata": {},
   "outputs": [
    {
     "name": "stdout",
     "output_type": "stream",
     "text": [
      "Title: Adding Quantitative finance algorithms\n",
      "Labels: []\n",
      "Body:\n",
      " It will involve implementation of various financial algorithms in R \n"
     ]
    }
   ],
   "source": [
    "url = f\"https://api.github.com/repos/TheAlgorithms/R/issues/122\"\n",
    "\n",
    "headers = {\n",
    "    \"Accept\": \"application/vnd.github+json\"\n",
    "    }\n",
    "\n",
    "response = requests.get(url, headers=headers)\n",
    "\n",
    "if response.status_code == 200:\n",
    "    issue = response.json()\n",
    "    print(\"Title:\", issue.get(\"title\"))\n",
    "    print(\"Labels:\", [label[\"name\"] for label in issue.get(\"labels\", [])])\n",
    "    print(\"Body:\\n\", issue.get(\"body\"))\n",
    "else:\n",
    "    print(f\"Error {response.status_code}: {response.text}\")\n",
    "title=issue.get(\"title\")\n",
    "labels=[label[\"name\"] for label in issue.get(\"labels\", [])]\n",
    "body=issue.get(\"body\")"
   ]
  },
  {
   "cell_type": "markdown",
   "id": "a958cfad",
   "metadata": {},
   "source": [
    "Here we are collecting comments of the issue"
   ]
  },
  {
   "cell_type": "code",
   "execution_count": 47,
   "id": "08727753",
   "metadata": {},
   "outputs": [
    {
     "name": "stdout",
     "output_type": "stream",
     "text": [
      "\n",
      "Collected Comments:\n",
      "\n",
      "--- Comment #1 by Akshat111111 at 2024-02-25T11:32:41Z ---\n",
      "Kindly assign me this issue \n",
      "\n",
      "--- Comment #2 by siriak at 2024-03-12T09:38:59Z ---\n",
      "Done, thank you!\n"
     ]
    }
   ],
   "source": [
    "comments_url = issue.get(\"comments_url\")\n",
    "comments_response = requests.get(comments_url, headers=headers)\n",
    "\n",
    "all_comments = []\n",
    "if comments_response.status_code == 200:\n",
    "    comments = comments_response.json()\n",
    "    for comment in comments:\n",
    "        comment_data = {\n",
    "            \"author\": comment[\"user\"][\"login\"],\n",
    "            \"created_at\": comment[\"created_at\"],\n",
    "            \"body\": comment[\"body\"]\n",
    "        }\n",
    "        all_comments.append(comment_data)\n",
    "    print(\"\\nCollected Comments:\")\n",
    "    for i, c in enumerate(all_comments, 1):\n",
    "        print(f\"\\n--- Comment #{i} by {c['author']} at {c['created_at']} ---\")\n",
    "        print(c[\"body\"])\n",
    "else:\n",
    "    print(f\"\\nError getting comments: {comments_response.status_code}\")"
   ]
  },
  {
   "cell_type": "markdown",
   "id": "e38706b5",
   "metadata": {},
   "source": [
    "In the below cell, we were providing all the collected details to the LLM in the form of a prompt and we collected all the required skills to solve the issue."
   ]
  },
  {
   "cell_type": "code",
   "execution_count": 48,
   "id": "1902269d",
   "metadata": {},
   "outputs": [
    {
     "name": "stdout",
     "output_type": "stream",
     "text": [
      "To complete the issue involving the implementation of various financial algorithms in R, the following programming skills are likely required:\n",
      "\n",
      "1. **R Programming**: Proficiency in R for coding the financial algorithms.\n",
      "2. **Data Manipulation**: Skills in using R packages like dplyr or data.table for efficient data handling.\n",
      "3. **Statistical Analysis**: Understanding of statistics to correctly implement and interpret financial algorithms.\n",
      "4. **Algorithm Design**: Ability to design and structure algorithms efficiently.\n",
      "5. **Version Control**: Familiarity with Git for version control and collaboration on GitHub.\n",
      "6. **Numerical Computing**: Experience with numeric and matrix operations, potentially using libraries like Rcpp for performance enhancement.\n",
      "7. **Package Use**: Knowledge of popular financial and statistical packages in R (e.g., quantmod, TTR) that may assist in implementation.\n",
      "\n",
      "These skills will help ensure a successful implementation of quantitative finance algorithms in R on the GitHub project.\n"
     ]
    }
   ],
   "source": [
    "import os\n",
    "from openai import OpenAI\n",
    "\n",
    "client = OpenAI(api_key=api_key_)\n",
    "question= f\"I have details of a GitHub issue in {title}, {labels},{all_comments}, and {body}. Please give me list of only programming skills that are required to complete the issue\"\n",
    "message = [\n",
    "    {\"role\": \"user\", \"content\": question}\n",
    "]\n",
    "completion = client.chat.completions.create(\n",
    "    model=\"gpt-4o\",\n",
    "    messages = message\n",
    ")\n",
    "\n",
    "print(completion.choices[0].message.content)"
   ]
  },
  {
   "cell_type": "markdown",
   "id": "b8e1d5cc",
   "metadata": {},
   "source": [
    "In the below cells, we are providing each of the collected details in a seperate prompt and we have collected all the required skills in order to solve the issue"
   ]
  },
  {
   "cell_type": "code",
   "execution_count": 49,
   "id": "17b6b966",
   "metadata": {},
   "outputs": [
    {
     "name": "stdout",
     "output_type": "stream",
     "text": [
      "To provide you with an accurate list of programming skills required to complete the GitHub issue related to adding quantitative finance algorithms, I'll need to give a general list based on common requirements for such tasks. Here are the programming skills typically required:\n",
      "\n",
      "1. **Python**: Often used for implementing and testing algorithms due to extensive libraries and frameworks for quantitative finance.\n",
      "\n",
      "2. **R**: Another popular language for statistical analysis and financial modeling.\n",
      "\n",
      "3. **C++**: Useful for high-performance implementations where execution speed is critical.\n",
      "\n",
      "4. **Java**: Sometimes used for developing financial applications, particularly in enterprise environments.\n",
      "\n",
      "5. **SQL**: For data manipulation and retrieval if working with financial databases.\n",
      "\n",
      "6. **Matlab**: Frequently used in academia and industry for algorithm development and testing.\n",
      "\n",
      "7. **Kotlin**: Occasionally used for financial applications that integrate with Java systems.\n",
      "\n",
      "8. **NumPy/Pandas**: Python libraries essential for data manipulation and numerical calculations.\n",
      "\n",
      "9. **SciPy**: A Python library used for scientific and technical computing tasks.\n",
      "\n",
      "10. **Matplotlib/Seaborn**: For visualizing financial data and results of algorithms.\n",
      "\n",
      "11. **TensorFlow/PyTorch**: For implementing machine learning models, if the algorithms involve ML components.\n",
      "\n",
      "12. **Git**: Version control system knowledge for collaborating and managing code changes.\n",
      "\n",
      "To get a precise list tailored to your specific GitHub issue, you would need to review the issue description or requirements document provided by the repository maintainers.\n"
     ]
    }
   ],
   "source": [
    "import os\n",
    "from openai import OpenAI\n",
    "\n",
    "client = OpenAI(api_key=api_key_)\n",
    "question= f\"I have details of a GitHub issue in {title}. Please give me list of only programming skills that are required to complete the issue\"\n",
    "message = [\n",
    "    {\"role\": \"user\", \"content\": question}\n",
    "]\n",
    "completion = client.chat.completions.create(\n",
    "    model=\"gpt-4o\",\n",
    "    messages = message\n",
    ")\n",
    "\n",
    "print(completion.choices[0].message.content)"
   ]
  },
  {
   "cell_type": "code",
   "execution_count": 50,
   "id": "3c495f99",
   "metadata": {},
   "outputs": [
    {
     "name": "stdout",
     "output_type": "stream",
     "text": [
      "Certainly! Please provide the details of the GitHub issue, and I'll help you identify the programming skills required to address it.\n"
     ]
    }
   ],
   "source": [
    "import os\n",
    "from openai import OpenAI\n",
    "\n",
    "client = OpenAI(api_key=api_key_)\n",
    "question= f\"I have details of a GitHub issue in {labels}. Please give me list of only programming skills that are required to complete the issue\"\n",
    "message = [\n",
    "    {\"role\": \"user\", \"content\": question}\n",
    "]\n",
    "completion = client.chat.completions.create(\n",
    "    model=\"gpt-4o\",\n",
    "    messages = message\n",
    ")\n",
    "\n",
    "print(completion.choices[0].message.content)"
   ]
  },
  {
   "cell_type": "code",
   "execution_count": 51,
   "id": "22b9942a",
   "metadata": {},
   "outputs": [
    {
     "name": "stdout",
     "output_type": "stream",
     "text": [
      "To determine the programming skills required to complete a GitHub issue, it's essential to examine the issue description or related discussions to identify any mentioned technologies, languages, frameworks, or specific tasks that imply certain skills. However, in the details provided:\n",
      "\n",
      "```plaintext\n",
      "[{'author': 'Akshat111111', 'created_at': '2024-02-25T11:32:41Z', 'body': 'Kindly assign me this issue '}, {'author': 'siriak', 'created_at': '2024-03-12T09:38:59Z', 'body': 'Done, thank you!'}]\n",
      "```\n",
      "\n",
      "There is no explicit mention of any programming languages, technologies, or skills. The notes only indicate a request for assignment and a confirmation response. To identify the programming skills needed, you would need additional information from the issue description itself or related project documentation.\n",
      "\n",
      "In order to provide specific skills, please share any text from the issue description that outlines tasks, technologies, or environments involved.\n"
     ]
    }
   ],
   "source": [
    "import os\n",
    "from openai import OpenAI\n",
    "\n",
    "client = OpenAI(api_key=api_key_)\n",
    "question= f\"I have details of a GitHub issue in {all_comments}. Please give me list of only programming skills that are required to complete the issue\"\n",
    "message = [\n",
    "    {\"role\": \"user\", \"content\": question}\n",
    "]\n",
    "completion = client.chat.completions.create(\n",
    "    model=\"gpt-4o\",\n",
    "    messages = message\n",
    ")\n",
    "\n",
    "print(completion.choices[0].message.content)"
   ]
  },
  {
   "cell_type": "code",
   "execution_count": 52,
   "id": "7a71bef7",
   "metadata": {
    "scrolled": true
   },
   "outputs": [
    {
     "name": "stdout",
     "output_type": "stream",
     "text": [
      "To implement various financial algorithms in R, you would typically need the following programming skills:\n",
      "\n",
      "1. **R Programming**: Proficiency in R language for writing and understanding R scripts and packages.\n",
      "\n",
      "2. **Data Manipulation**: Skills in using packages like `dplyr` or `data.table` for data cleaning and manipulation.\n",
      "\n",
      "3. **Statistical Analysis**: Understanding of basic and advanced statistical methods relevant to financial algorithms.\n",
      "\n",
      "4. **Numerical Computing**: Experience with numeric computation and mathematical modeling using R.\n",
      "\n",
      "5. **Algorithm Design**: Ability to design and implement efficient algorithms.\n",
      "\n",
      "6. **Use of Financial Packages**: Familiarity with financial, econometric, or time series packages like `quantmod`, `xts`, `zoo`, or `TTR` in R.\n",
      "\n",
      "7. **Visualization**: Skills in data visualization using packages like `ggplot2` for plotting financial data.\n",
      "\n",
      "8. **Version Control**: Basic understanding of Git for version control and collaboration.\n"
     ]
    }
   ],
   "source": [
    "import os\n",
    "from openai import OpenAI\n",
    "\n",
    "client = OpenAI(api_key=api_key_)\n",
    "question= f\"I have details of a GitHub issue in {body}. Please give me list of only programming skills that are required to complete the issue\"\n",
    "message = [\n",
    "    {\"role\": \"user\", \"content\": question}\n",
    "]\n",
    "completion = client.chat.completions.create(\n",
    "    model=\"gpt-4o\",\n",
    "    messages = message\n",
    ")\n",
    "\n",
    "print(completion.choices[0].message.content)"
   ]
  },
  {
   "cell_type": "markdown",
   "id": "638fb276",
   "metadata": {},
   "source": [
    "Accuracy 100 83.33"
   ]
  },
  {
   "cell_type": "markdown",
   "id": "71267dd8",
   "metadata": {},
   "source": [
    "For this issue, prompt 1 has more accuracy than prompt 2"
   ]
  },
  {
   "cell_type": "markdown",
   "id": "d5131648",
   "metadata": {},
   "source": [
    "# issue7 "
   ]
  },
  {
   "cell_type": "markdown",
   "id": "0a49c733",
   "metadata": {},
   "source": [
    "In the below cell, we are are collecting information from title, body, and lables of the issue."
   ]
  },
  {
   "cell_type": "code",
   "execution_count": 53,
   "id": "546ae863",
   "metadata": {},
   "outputs": [
    {
     "name": "stdout",
     "output_type": "stream",
     "text": [
      "Title: SqlEngineConfigAction_install_confignonrc_Cpu64 on Windows  11\n",
      "Labels: []\n",
      "Body:\n",
      " ```\r\n",
      "Overall summary:\r\n",
      "  Final result:                  Failed: see details below\r\n",
      "  Exit code (Decimal):           -2061893606\r\n",
      "  Start time:                    2024-02-01 09:39:10\r\n",
      "  End time:                      2024-02-01 09:45:47\r\n",
      "  Requested action:              Install\r\n",
      "\r\n",
      "Setup completed with required actions for features.\r\n",
      "Troubleshooting information for those features:\r\n",
      "  Next step for SQLEngine:       Use the following information to resolve the error, uninstall this feature, and then run the setup process again.\r\n",
      "\r\n",
      "\r\n",
      "Machine Properties:\r\n",
      "  Machine name:                  BOOK\r\n",
      "  Machine processor count:       6\r\n",
      "  OS version:                    Microsoft Windows 11 Pro (10.0.22631)\r\n",
      "  OS service pack:               \r\n",
      "  OS region:                     United States\r\n",
      "  OS language:                   English (United States)\r\n",
      "  OS architecture:               x64\r\n",
      "  Process architecture:          64 Bit\r\n",
      "  OS clustered:                  No\r\n",
      "\r\n",
      "Product features discovered:\r\n",
      "  Product              Instance             Instance ID                    Feature                                  Language             Edition              Version         Clustered  Configured\r\n",
      "\r\n",
      "Package properties:\r\n",
      "  Description:                   Microsoft SQL Server 2022 \r\n",
      "  ProductName:                   SQL Server 2022\r\n",
      "  Type:                          RTM\r\n",
      "  Version:                       16\r\n",
      "  SPLevel:                       0\r\n",
      "  Installation location:         H:\\x64\\setup\\\r\n",
      "  Installation edition:          Enterprise\r\n",
      "\r\n",
      "Product Update Status:\r\n",
      "  None discovered.\r\n",
      "\r\n",
      "Notice: A paid SQL Server edition product key has been provided for the current action - Enterprise. Please ensure you are entitled to this SQL Server edition with proper licensing in place for the product key (edition) supplied.\r\n",
      "\r\n",
      "Notice: Please read Microsoft SQL Server Software License Terms at aka.ms/useterms.\r\n",
      "\r\n",
      "User Input Settings:\r\n",
      "  ACTION:                        Install\r\n",
      "  ADDCURRENTUSERASSQLADMIN:      false\r\n",
      "  AGTSVCACCOUNT:                 NT Service\\SQLSERVERAGENT\r\n",
      "  AGTSVCPASSWORD:                *****\r\n",
      "  AGTSVCSTARTUPTYPE:             Manual\r\n",
      "  ASBACKUPDIR:                   Backup\r\n",
      "  ASCOLLATION:                   Latin1_General_CI_AS\r\n",
      "  ASCONFIGDIR:                   Config\r\n",
      "  ASDATADIR:                     Data\r\n",
      "  ASLOGDIR:                      Log\r\n",
      "  ASPROVIDERMSOLAP:              1\r\n",
      "  ASSERVERMODE:                  TABULAR\r\n",
      "  ASSVCACCOUNT:                  <empty>\r\n",
      "  ASSVCPASSWORD:                 <empty>\r\n",
      "  ASSVCSTARTUPTYPE:              Automatic\r\n",
      "  ASSYSADMINACCOUNTS:            <empty>\r\n",
      "  ASTELSVCACCT:                  <empty>\r\n",
      "  ASTELSVCPASSWORD:              <empty>\r\n",
      "  ASTELSVCSTARTUPTYPE:           0\r\n",
      "  ASTEMPDIR:                     Temp\r\n",
      "  AZUREARCPROXYSERVER:           \r\n",
      "  AZUREBILLEDEDITION:            \r\n",
      "  AZUREREGION:                   \r\n",
      "  AZURERESOURCEGROUP:            \r\n",
      "  AZURESERVICEPRINCIPAL:         \r\n",
      "  AZURESERVICEPRINCIPALSECRET:   *****\r\n",
      "  AZURESUBSCRIPTIONID:           \r\n",
      "  AZURETENANTID:                 \r\n",
      "  BROWSERSVCSTARTUPTYPE:         Disabled\r\n",
      "  CONFIGURATIONFILE:             C:\\Program Files\\Microsoft SQL Server\\160\\Setup Bootstrap\\Log\\20240201_093909\\ConfigurationFile.ini\r\n",
      "  ENABLERANU:                    false\r\n",
      "  ENU:                           true\r\n",
      "  EXTSVCACCOUNT:                 <empty>\r\n",
      "  EXTSVCPASSWORD:                <empty>\r\n",
      "  FEATURES:                      SQLENGINE\r\n",
      "  FILESTREAMLEVEL:               0\r\n",
      "  FILESTREAMSHARENAME:           <empty>\r\n",
      "  FTSVCACCOUNT:                  <empty>\r\n",
      "  FTSVCPASSWORD:                 <empty>\r\n",
      "  HELP:                          false\r\n",
      "  IACCEPTSQLSERVERLICENSETERMS:  true\r\n",
      "  IACKNOWLEDGEENTCALLIMITS:      false\r\n",
      "  INDICATEPROGRESS:              false\r\n",
      "  INSTALLSHAREDDIR:              C:\\Program Files\\Microsoft SQL Server\\\r\n",
      "  INSTALLSHAREDWOWDIR:           C:\\Program Files (x86)\\Microsoft SQL Server\\\r\n",
      "  INSTALLSQLDATADIR:             <empty>\r\n",
      "  INSTANCEDIR:                   C:\\Program Files\\Microsoft SQL Server\\\r\n",
      "  INSTANCEID:                    MSSQLSERVER\r\n",
      "  INSTANCENAME:                  MSSQLSERVER\r\n",
      "  ISMASTERSVCACCOUNT:            NT AUTHORITY\\Network Service\r\n",
      "  ISMASTERSVCPASSWORD:           <empty>\r\n",
      "  ISMASTERSVCPORT:               8391\r\n",
      "  ISMASTERSVCSSLCERTCN:          <empty>\r\n",
      "  ISMASTERSVCSTARTUPTYPE:        Automatic\r\n",
      "  ISMASTERSVCTHUMBPRINT:         <empty>\r\n",
      "  ISSVCACCOUNT:                  NT AUTHORITY\\Network Service\r\n",
      "  ISSVCPASSWORD:                 <empty>\r\n",
      "  ISSVCSTARTUPTYPE:              Automatic\r\n",
      "  ISTELSVCACCT:                  <empty>\r\n",
      "  ISTELSVCPASSWORD:              <empty>\r\n",
      "  ISTELSVCSTARTUPTYPE:           0\r\n",
      "  ISWORKERSVCACCOUNT:            NT AUTHORITY\\Network Service\r\n",
      "  ISWORKERSVCCERT:               <empty>\r\n",
      "  ISWORKERSVCMASTER:             <empty>\r\n",
      "  ISWORKERSVCPASSWORD:           <empty>\r\n",
      "  ISWORKERSVCSTARTUPTYPE:        Automatic\r\n",
      "  NPENABLED:                     0\r\n",
      "  PBDMSSVCACCOUNT:               <empty>\r\n",
      "  PBDMSSVCPASSWORD:              <empty>\r\n",
      "  PBDMSSVCSTARTUPTYPE:           0\r\n",
      "  PBENGSVCACCOUNT:               <empty>\r\n",
      "  PBENGSVCPASSWORD:              <empty>\r\n",
      "  PBENGSVCSTARTUPTYPE:           0\r\n",
      "  PBPORTRANGE:                   <empty>\r\n",
      "  PID:                           *****\r\n",
      "  PRODUCTCOVEREDBYSA:            true\r\n",
      "  QUIET:                         false\r\n",
      "  QUIETSIMPLE:                   false\r\n",
      "  ROLE:                          \r\n",
      "  SAPWD:                         <empty>\r\n",
      "  SECURITYMODE:                  <empty>\r\n",
      "  SQLBACKUPDIR:                  <empty>\r\n",
      "  SQLCOLLATION:                  SQL_Latin1_General_CP1_CI_AS\r\n",
      "  SQLMAXDOP:                     6\r\n",
      "  SQLMAXMEMORY:                  2147483647\r\n",
      "  SQLMINMEMORY:                  0\r\n",
      "  SQLSVCACCOUNT:                 NT Service\\MSSQLSERVER\r\n",
      "  SQLSVCINSTANTFILEINIT:         true\r\n",
      "  SQLSVCPASSWORD:                <empty>\r\n",
      "  SQLSVCSTARTUPTYPE:             Automatic\r\n",
      "  SQLSYSADMINACCOUNTS:           BOOK\\pcbook\r\n",
      "  SQLTELSVCACCT:                 NT Service\\SQLTELEMETRY\r\n",
      "  SQLTELSVCPASSWORD:             <empty>\r\n",
      "  SQLTELSVCSTARTUPTYPE:          Automatic\r\n",
      "  SQLTEMPDBDIR:                  <empty>\r\n",
      "  SQLTEMPDBFILECOUNT:            6\r\n",
      "  SQLTEMPDBFILEGROWTH:           64\r\n",
      "  SQLTEMPDBFILESIZE:             8\r\n",
      "  SQLTEMPDBLOGDIR:               <empty>\r\n",
      "  SQLTEMPDBLOGFILEGROWTH:        64\r\n",
      "  SQLTEMPDBLOGFILESIZE:          8\r\n",
      "  SQLUSERDBDIR:                  <empty>\r\n",
      "  SQLUSERDBLOGDIR:               <empty>\r\n",
      "  SUPPRESSPAIDEDITIONNOTICE:     false\r\n",
      "  SUPPRESSPRIVACYSTATEMENTNOTICE: false\r\n",
      "  TCPENABLED:                    1\r\n",
      "  UIMODE:                        Normal\r\n",
      "  UpdateEnabled:                 true\r\n",
      "  UpdateSource:                  MU\r\n",
      "  USEMICROSOFTUPDATE:            false\r\n",
      "  USESQLRECOMMENDEDMEMORYLIMITS: false\r\n",
      "\r\n",
      "  Configuration file:            C:\\Program Files\\Microsoft SQL Server\\160\\Setup Bootstrap\\Log\\20240201_093909\\ConfigurationFile.ini\r\n",
      "\r\n",
      "Detailed results:\r\n",
      "  Feature:                       Database Engine Services\r\n",
      "  Status:                        Failed\r\n",
      "  Reason for failure:            An error occurred during the setup process of the feature.\r\n",
      "  Next Step:                     Use the following information to resolve the error, uninstall this feature, and then run the setup process again.\r\n",
      "  Component name:                SQL Server Database Engine Services Instance Features\r\n",
      "  ❌❌Component error code:          0x851A001A\r\n",
      "  Error description:             Wait on the Database Engine recovery handle failed. Check the SQL Server error log for potential causes.\r\n",
      "  Error help link:               ❌❌❓❓https://go.microsoft.com/fwlink?LinkId=20476&ProdName=Microsoft+SQL+Server&EvtSrc=setup.rll&EvtID=50000&ProdVer=16.0.1000.6&EvtType=0xD15B4EB2%400x4BDAF9BA%401306%4026&EvtType=0xD15B4EB2%400x4BDAF9BA%401306%4026\r\n",
      "\r\n",
      "  Feature:                       SQL Browser\r\n",
      "  Status:                        Passed\r\n",
      "\r\n",
      "  Feature:                       SQL Writer\r\n",
      "  Status:                        Passed\r\n",
      "\r\n",
      "  Feature:                       Setup Support Files\r\n",
      "  Status:                        Passed\r\n",
      "\r\n",
      "Rules with failures or warnings:\r\n",
      "\r\n",
      "Global rules:\r\n",
      "Warning    IsFirewallEnabled                The Windows Firewall is enabled. Make sure the appropriate ports are open to enable remote access. See the rules documentation at https://go.microsoft.com/fwlink/?linkid=2162127 for information about ports to open for each feature.\r\n",
      "\r\n",
      "Rules report file:               C:\\Program Files\\Microsoft SQL Server\\160\\Setup Bootstrap\\Log\\20240201_093909\\SystemConfigurationCheck_Report.htm\r\n",
      "```\r\n",
      "error help link not work\r\n",
      "Checked  this method  https://www.youtube.com/watch?v=qlz-TOyUnow&ab_channel=rahedmir\r\n",
      "and   https://learn.microsoft.com/en-us/troubleshoot/sql/database-engine/database-file-operations/troubleshoot-os-4kb-disk-sector-size#resolutions\r\n",
      "so uninstall 2022 version then install 2019 and sqlexpress type  for developer  problem still on \r\n",
      "\r\n",
      "not resolved problem  \r\n",
      "\n"
     ]
    }
   ],
   "source": [
    "url = f\"https://api.github.com/repos/microsoft/sql-server-samples/issues/1248\"\n",
    "\n",
    "headers = {\n",
    "    \"Accept\": \"application/vnd.github+json\"\n",
    "    }\n",
    "\n",
    "response = requests.get(url, headers=headers)\n",
    "\n",
    "if response.status_code == 200:\n",
    "    issue = response.json()\n",
    "    print(\"Title:\", issue.get(\"title\"))\n",
    "    print(\"Labels:\", [label[\"name\"] for label in issue.get(\"labels\", [])])\n",
    "    print(\"Body:\\n\", issue.get(\"body\"))\n",
    "else:\n",
    "    print(f\"Error {response.status_code}: {response.text}\")\n",
    "title=issue.get(\"title\")\n",
    "labels=[label[\"name\"] for label in issue.get(\"labels\", [])]\n",
    "body=issue.get(\"body\")"
   ]
  },
  {
   "cell_type": "markdown",
   "id": "f44fe45d",
   "metadata": {},
   "source": [
    "Here we are collecting comments of the issue"
   ]
  },
  {
   "cell_type": "code",
   "execution_count": 54,
   "id": "1ddb4470",
   "metadata": {},
   "outputs": [
    {
     "name": "stdout",
     "output_type": "stream",
     "text": [
      "\n",
      "Collected Comments:\n",
      "\n",
      "--- Comment #1 by wer340 at 2024-02-04T05:43:01Z ---\n",
      "1. Disable antivirus & firewall\r\n",
      "2. Enable Window Update\r\n",
      "3. Uninstall previous install SQL Server 2019\r\n",
      "4. Uninstall SQL realated feature like data tool\r\n",
      "reporting services & SQL management studio\r\n",
      "\r\n",
      "5. Install First SQL Server Management studio 18 & above\r\n",
      "6. Install SQL Server data tool 15.9 and above\r\n",
      "7. Install SQL Server 2019\n"
     ]
    }
   ],
   "source": [
    "comments_url = issue.get(\"comments_url\")\n",
    "comments_response = requests.get(comments_url, headers=headers)\n",
    "\n",
    "all_comments = []\n",
    "if comments_response.status_code == 200:\n",
    "    comments = comments_response.json()\n",
    "    for comment in comments:\n",
    "        comment_data = {\n",
    "            \"author\": comment[\"user\"][\"login\"],\n",
    "            \"created_at\": comment[\"created_at\"],\n",
    "            \"body\": comment[\"body\"]\n",
    "        }\n",
    "        all_comments.append(comment_data)\n",
    "    print(\"\\nCollected Comments:\")\n",
    "    for i, c in enumerate(all_comments, 1):\n",
    "        print(f\"\\n--- Comment #{i} by {c['author']} at {c['created_at']} ---\")\n",
    "        print(c[\"body\"])\n",
    "else:\n",
    "    print(f\"\\nError getting comments: {comments_response.status_code}\")"
   ]
  },
  {
   "cell_type": "markdown",
   "id": "4c591b64",
   "metadata": {},
   "source": [
    "In the below cell, we were providing all the collected details to the LLM in the form of a prompt and we collected all the required skills to solve the issue."
   ]
  },
  {
   "cell_type": "code",
   "execution_count": 55,
   "id": "2ed7b3f1",
   "metadata": {},
   "outputs": [
    {
     "name": "stdout",
     "output_type": "stream",
     "text": [
      "To address the setup issue for SQL Server, particularly related to the error encountered during the installation of SQL Server Database Engine Services, the following programming and technical skills might be required:\n",
      "\n",
      "1. **SQL Server Administration:**\n",
      "\n",
      "   - Understanding of SQL Server installation processes and troubleshooting techniques.\n",
      "   - Familiarity with SQL Server Database Engine Services, SQL Server Management Studio (SSMS), and related tools.\n",
      "\n",
      "2. **Windows Server Administration:**\n",
      "\n",
      "   - Skills in managing Windows services, user accounts, and file permissions.\n",
      "   - Proficiency in handling Windows Firewall settings and network configurations.\n",
      "\n",
      "3. **Error Diagnosis and Troubleshooting:**\n",
      "\n",
      "   - Ability to analyze error logs and determine root causes of installation failures.\n",
      "   - Familiarity with common SQL Server error codes and corresponding resolutions.\n",
      "\n",
      "4. **Scripting Languages:**\n",
      "\n",
      "   - Proficiency in PowerShell for automating SQL Server setup and configuration tasks.\n",
      "   - Ability to write and execute scripts to modify system configurations or automate repetitive tasks related to SQL Server installation.\n",
      "\n",
      "5. **System Configuration and Management:**\n",
      "\n",
      "   - Understanding of system configurations such as memory allocation and disk setup (important for SQL Server performance).\n",
      "   - Experience with disk sector size configurations and the implications for SQL Server operations.\n",
      "\n",
      "6. **Networking:**\n",
      "\n",
      "   - Knowledge of network configuration, particularly regarding port settings required for SQL Server to operate across networks.\n",
      "   - Understanding of TCP/IP and Named Pipes protocols as they pertain to SQL Server.\n",
      "\n",
      "7. **Documentation and Research:**\n",
      "\n",
      "   - Skills in using Microsoft documentation, forums, and technical resources to research and solve specific SQL Server issues.\n",
      "   - Ability to interpret and synthesize information from technical articles or video tutorials.\n",
      "\n",
      "These skills will help you troubleshoot the SQL Server setup issue, address the specific error, and optimize the system environment for successful installation. Additionally, familiarity with online learning resources and community forums can also be valuable for finding solutions that are tailored to your specific configuration and problem.\n"
     ]
    }
   ],
   "source": [
    "import os\n",
    "from openai import OpenAI\n",
    "\n",
    "client = OpenAI(api_key=api_key_)\n",
    "question= f\"I have details of a GitHub issue in {title}, {labels},{all_comments}, and {body}. Please give me list of only programming skills that are required to complete the issue\"\n",
    "message = [\n",
    "    {\"role\": \"user\", \"content\": question}\n",
    "]\n",
    "completion = client.chat.completions.create(\n",
    "    model=\"gpt-4o\",\n",
    "    messages = message\n",
    ")\n",
    "\n",
    "print(completion.choices[0].message.content)"
   ]
  },
  {
   "cell_type": "markdown",
   "id": "cb2db1a8",
   "metadata": {},
   "source": [
    "In the below cells, we are providing each of the collected details in a seperate prompt and we have collected all the required skills in order to solve the issue"
   ]
  },
  {
   "cell_type": "code",
   "execution_count": 56,
   "id": "2bfee614",
   "metadata": {},
   "outputs": [
    {
     "name": "stdout",
     "output_type": "stream",
     "text": [
      "To address an issue related to `SqlEngineConfigAction_install_confignonrc_Cpu64` on Windows 11, you would typically need the following programming skills:\n",
      "\n",
      "1. **SQL**: Understanding and troubleshooting SQL scripts or commands is essential since the issue seems to be related to an SQL engine configuration.\n",
      "\n",
      "2. **PowerShell**: Familiarity with scripting in PowerShell can be necessary for executing deployment or configuration scripts on Windows.\n",
      "\n",
      "3. **C#/C++**: If the issue requires delving into the internals of how SQL Server components are implemented or interact with the Windows OS, knowledge of C# or C++ might be needed.\n",
      "\n",
      "4. **Windows Batch Scripting**: Basic batch scripting might be useful for automating or running certain configuration tasks.\n",
      "\n",
      "5. **Understanding of Windows OS**: While not a programming skill per se, a good understanding of Windows internals might be necessary to troubleshoot issues related to installations and configurations on Windows 11.\n",
      "\n",
      "6. **Debugging Skills**: Proficiency with debugging tools and techniques, especially those pertinent to Windows, such as Event Viewer, Windbg, or Process Monitor.\n",
      "\n",
      "These skills will help you analyze, troubleshoot, and resolve the issue effectively.\n"
     ]
    }
   ],
   "source": [
    "import os\n",
    "from openai import OpenAI\n",
    "\n",
    "client = OpenAI(api_key=api_key_)\n",
    "question= f\"I have details of a GitHub issue in {title}. Please give me list of only programming skills that are required to complete the issue\"\n",
    "message = [\n",
    "    {\"role\": \"user\", \"content\": question}\n",
    "]\n",
    "completion = client.chat.completions.create(\n",
    "    model=\"gpt-4o\",\n",
    "    messages = message\n",
    ")\n",
    "\n",
    "print(completion.choices[0].message.content)"
   ]
  },
  {
   "cell_type": "code",
   "execution_count": 60,
   "id": "805148af",
   "metadata": {},
   "outputs": [
    {
     "name": "stdout",
     "output_type": "stream",
     "text": [
      "Sure, I can help with that. Please provide the details of the GitHub issue, and I'll extract the relevant programming skills needed to address it.\n"
     ]
    }
   ],
   "source": [
    "import os\n",
    "from openai import OpenAI\n",
    "\n",
    "client = OpenAI(api_key=api_key_)\n",
    "question= f\"I have details of a GitHub issue in {labels}. Please give me list of only programming skills that are required to complete the issue\"\n",
    "message = [\n",
    "    {\"role\": \"user\", \"content\": question}\n",
    "]\n",
    "completion = client.chat.completions.create(\n",
    "    model=\"gpt-4o\",\n",
    "    messages = message\n",
    ")\n",
    "\n",
    "print(completion.choices[0].message.content)"
   ]
  },
  {
   "cell_type": "code",
   "execution_count": 61,
   "id": "eb79de92",
   "metadata": {},
   "outputs": [
    {
     "name": "stdout",
     "output_type": "stream",
     "text": [
      "Based on the provided GitHub issue details, the issue seems to involve steps mainly related to system configuration and software installation, specifically for SQL Server and related tools. While it does not explicitly mention programming skills, the tasks suggest familiarity with the following skills might be beneficial:\n",
      "\n",
      "1. **SQL**: Knowledge of SQL is essential as the issue involves working with SQL Server, which is a database management system.\n",
      "2. **Database Administration**: Understanding database setup, installation, and management can help since the issue involves SQL Server installation and configuration.\n",
      "3. **Windows System Administration**: Familiarity with Windows OS operations (like enabling/disabling antivirus/firewall and Windows Update) can be necessary for performing the outlined steps.\n",
      "4. **Troubleshooting**: Skills in diagnosing and resolving issues related to software installation or configuration would be useful.\n",
      "   \n",
      "If the task involves integrating SQL Server with any applications or performing advanced configurations, additional programming skills like knowledge of a programming language (such as C#, Python, or Java) might be required. However, based solely on the steps listed, the focus is primarily on system and database management, rather than programming.\n"
     ]
    }
   ],
   "source": [
    "import os\n",
    "from openai import OpenAI\n",
    "\n",
    "client = OpenAI(api_key=api_key_)\n",
    "question= f\"I have details of a GitHub issue in {all_comments}. Please give me list of only programming skills that are required to complete the issue\"\n",
    "message = [\n",
    "    {\"role\": \"user\", \"content\": question}\n",
    "]\n",
    "completion = client.chat.completions.create(\n",
    "    model=\"gpt-4o\",\n",
    "    messages = message\n",
    ")\n",
    "\n",
    "print(completion.choices[0].message.content)"
   ]
  },
  {
   "cell_type": "code",
   "execution_count": 62,
   "id": "ab018e14",
   "metadata": {},
   "outputs": [
    {
     "name": "stdout",
     "output_type": "stream",
     "text": [
      "Resolving the issue you're facing with the SQL Server installation requires a combination of technical skills, including:\n",
      "\n",
      "1. **SQL Server Administration**: Understanding of SQL Server setup and configuration, instances, services, and components.\n",
      "\n",
      "2. **Troubleshooting and Problem Solving**: Ability to analyze error logs, interpret error codes (such as `0x851A001A`), and understand SQL Server error messages.\n",
      "\n",
      "3. **Windows Operating System**: Familiarity with Windows services, user accounts, permissions, and security settings, including firewall configurations.\n",
      "\n",
      "4. **Networking**: Basic knowledge of network configuration, such as opening required ports for SQL Server on a firewall, if necessary.\n",
      "\n",
      "5. **Configuration Management**: Ability to work with configuration files and environment settings for SQL Server.\n",
      "\n",
      "6. **Research and Documentation**: Ability to efficiently search for and interpret online resources, such as Microsoft documentation and community forums, to find solutions to SQL Server issues.\n",
      "\n",
      "7. **Uninstall/Reinstall Procedures**: Experience with uninstallation and reinstallation processes for SQL Server, ensuring a clean environment for subsequent installations.\n",
      "\n",
      "8. **Storage and File System**: Knowledge about disk configurations, such as disk sector sizes and how they affect SQL Server, as indicated in the error you encountered about database engine recovery.\n",
      "\n",
      "9. **Security and Permissions**: Understanding of SQL Server security settings, service accounts, and ensuring that the appropriate permissions are set on directories and files used by SQL Server. \n",
      "\n",
      "These skills should help in methodically diagnosing and resolving the issue you're experiencing with SQL Server installation on your machine.\n"
     ]
    }
   ],
   "source": [
    "import os\n",
    "from openai import OpenAI\n",
    "\n",
    "client = OpenAI(api_key=api_key_)\n",
    "question= f\"I have details of a GitHub issue in {body}. Please give me list of only programming skills that are required to complete the issue\"\n",
    "message = [\n",
    "    {\"role\": \"user\", \"content\": question}\n",
    "]\n",
    "completion = client.chat.completions.create(\n",
    "    model=\"gpt-4o\",\n",
    "    messages = message\n",
    ")\n",
    "\n",
    "print(completion.choices[0].message.content)"
   ]
  },
  {
   "cell_type": "markdown",
   "id": "482bc308",
   "metadata": {},
   "source": [
    "For this issue, prompt 2 has more accuracy than prompt 1"
   ]
  },
  {
   "cell_type": "markdown",
   "id": "99efbb9f",
   "metadata": {},
   "source": [
    "Accuracy: 62.5, 87.5"
   ]
  },
  {
   "cell_type": "markdown",
   "id": "1f27a1ea",
   "metadata": {},
   "source": [
    "# issue8"
   ]
  },
  {
   "cell_type": "markdown",
   "id": "608f1dc5",
   "metadata": {},
   "source": [
    "In the below cell, we are are collecting information from title, body, and lables of the issue."
   ]
  },
  {
   "cell_type": "code",
   "execution_count": 63,
   "id": "b16dfa77",
   "metadata": {},
   "outputs": [
    {
     "name": "stdout",
     "output_type": "stream",
     "text": [
      "Title: Late styles loading in Next 13\n",
      "Labels: []\n",
      "Body:\n",
      " ### **Problem**\r\n",
      "CSS Modules styles are fetched and loaded after page rendered. Error appears only on first subpage visit, on every subpage.\r\n",
      "\r\n",
      "### **Example**\r\n",
      "Open https://polskifrontend-cmx8dv3pq-typeofweb.vercel.app/ and click `O SERWISIE` in the top navigation. As you can see main container has 100% width, then styles are loaded and container has correct width.\r\n",
      "\r\n",
      "### **Versions**\r\n",
      "\r\n",
      "- NextJS 13.1.1\r\n",
      "- React 18.2.0\n"
     ]
    }
   ],
   "source": [
    "url = f\"https://api.github.com/repos/css-modules/css-modules/issues/385\"\n",
    "\n",
    "headers = {\n",
    "    \"Accept\": \"application/vnd.github+json\"\n",
    "    }\n",
    "\n",
    "response = requests.get(url, headers=headers)\n",
    "\n",
    "if response.status_code == 200:\n",
    "    issue = response.json()\n",
    "    print(\"Title:\", issue.get(\"title\"))\n",
    "    print(\"Labels:\", [label[\"name\"] for label in issue.get(\"labels\", [])])\n",
    "    print(\"Body:\\n\", issue.get(\"body\"))\n",
    "else:\n",
    "    print(f\"Error {response.status_code}: {response.text}\")\n",
    "title=issue.get(\"title\")\n",
    "labels=[label[\"name\"] for label in issue.get(\"labels\", [])]\n",
    "body=issue.get(\"body\")"
   ]
  },
  {
   "cell_type": "markdown",
   "id": "48b71485",
   "metadata": {},
   "source": [
    "Here we are collecting comments of the issue"
   ]
  },
  {
   "cell_type": "code",
   "execution_count": 64,
   "id": "236c8f7b",
   "metadata": {},
   "outputs": [
    {
     "name": "stdout",
     "output_type": "stream",
     "text": [
      "\n",
      "Collected Comments:\n",
      "\n",
      "--- Comment #1 by refirst11 at 2023-01-27T10:53:30Z ---\n",
      "It was reproduced in my environment as well. \r\n",
      "Specifically, it only occurs on the page where I am doing SSG with CSS Modules. I have decided to use styled-jsx and Next.js version 13 to address this issue.\n",
      "\n",
      "--- Comment #2 by leerob at 2023-12-28T21:35:32Z ---\n",
      "Hey! If you are still seeing this, could you open an issue in Next.js? It's been a bit but I am guessing this is resolved on the latest version by now. If not, happy to look into it. Thank you!\n",
      "\n",
      "--- Comment #3 by najeebputhiyallam at 2024-04-25T01:40:34Z ---\n",
      "i have same issue. i posted to next.js but no one replying.\r\n",
      "\r\n",
      "https://github.com/orgs/vercel/discussions/6618\n"
     ]
    }
   ],
   "source": [
    "comments_url = issue.get(\"comments_url\")\n",
    "comments_response = requests.get(comments_url, headers=headers)\n",
    "\n",
    "all_comments = []\n",
    "if comments_response.status_code == 200:\n",
    "    comments = comments_response.json()\n",
    "    for comment in comments:\n",
    "        comment_data = {\n",
    "            \"author\": comment[\"user\"][\"login\"],\n",
    "            \"created_at\": comment[\"created_at\"],\n",
    "            \"body\": comment[\"body\"]\n",
    "        }\n",
    "        all_comments.append(comment_data)\n",
    "    print(\"\\nCollected Comments:\")\n",
    "    for i, c in enumerate(all_comments, 1):\n",
    "        print(f\"\\n--- Comment #{i} by {c['author']} at {c['created_at']} ---\")\n",
    "        print(c[\"body\"])\n",
    "else:\n",
    "    print(f\"\\nError getting comments: {comments_response.status_code}\")"
   ]
  },
  {
   "cell_type": "markdown",
   "id": "ff505008",
   "metadata": {},
   "source": [
    "In the below cell, we were providing all the collected details to the LLM in the form of a prompt and we collected all the required skills to solve the issue."
   ]
  },
  {
   "cell_type": "code",
   "execution_count": 65,
   "id": "7c9d2f0c",
   "metadata": {},
   "outputs": [
    {
     "name": "stdout",
     "output_type": "stream",
     "text": [
      "To address the issue of late styles loading in Next.js 13 with CSS Modules, you would need the following programming skills:\n",
      "\n",
      "1. **JavaScript** - Understanding of JavaScript fundamentals as it's the primary language for developing with Next.js and React.\n",
      "\n",
      "2. **React** - Familiarity with React for building user interfaces, as Next.js is a React-based framework.\n",
      "\n",
      "3. **Next.js** - Knowledge of Next.js features, specifically Static Site Generation (SSG) and styling options, to understand how the framework handles page rendering and styles.\n",
      "\n",
      "4. **CSS/CSS Modules** - Experience with CSS and CSS Modules to manage and troubleshoot style imports and applications.\n",
      "\n",
      "5. **Styled-JSX** - Understanding of styled-jsx for applying scoped styles if using it as an alternative to overcome the issue with CSS Modules.\n",
      "\n",
      "6. **Version Control (Git/GitHub)** - Ability to use version control for tracking changes and collaborating with others on platforms like GitHub.\n",
      "\n",
      "7. **Debugging and Troubleshooting** - Skills in diagnosing frontend issues, understanding browser rendering processes, and debugging style loading problems.\n",
      "\n",
      "8. **Command Line/Terminal** - Basic command-line skills for running and managing Next.js applications during development.\n",
      "\n",
      "These skills can help investigate and resolve issues with the loading of styles in a Next.js application.\n"
     ]
    }
   ],
   "source": [
    "import os\n",
    "from openai import OpenAI\n",
    "\n",
    "client = OpenAI(api_key=api_key_)\n",
    "question= f\"I have details of a GitHub issue in {title}, {labels},{all_comments}, and {body}. Please give me list of only programming skills that are required to complete the issue\"\n",
    "message = [\n",
    "    {\"role\": \"user\", \"content\": question}\n",
    "]\n",
    "completion = client.chat.completions.create(\n",
    "    model=\"gpt-4o\",\n",
    "    messages = message\n",
    ")\n",
    "\n",
    "print(completion.choices[0].message.content)"
   ]
  },
  {
   "cell_type": "markdown",
   "id": "f8489d89",
   "metadata": {},
   "source": [
    "In the below cells, we are providing each of the collected details in a seperate prompt and we have collected all the required skills in order to solve the issue"
   ]
  },
  {
   "cell_type": "code",
   "execution_count": 66,
   "id": "b919bb2b",
   "metadata": {},
   "outputs": [
    {
     "name": "stdout",
     "output_type": "stream",
     "text": [
      "To address an issue related to late styles loading in a Next.js 13 project, the following programming skills are typically required:\n",
      "\n",
      "1. **JavaScript/TypeScript**: Proficiency in JavaScript is essential as Next.js is a React-based framework. If the project uses TypeScript, familiarity with it will also be necessary.\n",
      "\n",
      "2. **React**: Next.js is built on top of React, so understanding React concepts and how components are styled and rendered is crucial.\n",
      "\n",
      "3. **CSS/SCSS**: Knowledge of CSS for styling issues, and potentially SCSS if your project is using it for more advanced styling capabilities.\n",
      "\n",
      "4. **Next.js**: Familiarity with Next.js, especially its styling and rendering pipeline, is important to understand how styles are loaded and applied.\n",
      "\n",
      "5. **Frontend Build Tools**: Experience with web development tools like webpack, Babel, or other build tools commonly used with Next.js, which might be part of the style loading optimization.\n",
      "\n",
      "6. **Debugging and Profiling**: Skills in using browser developer tools to inspect and debug loading issues, profiling resources to diagnose the delay in style loading.\n",
      "\n",
      "7. **Performance Optimization**: Understanding of web performance optimization techniques to potentially address loading issues, such as code splitting or optimizing network requests.\n",
      "\n",
      "Having a combination of these skills will help in effectively diagnosing and resolving issues related to late styles loading in a Next.js 13 project.\n"
     ]
    }
   ],
   "source": [
    "import os\n",
    "from openai import OpenAI\n",
    "\n",
    "client = OpenAI(api_key=api_key_)\n",
    "question= f\"I have details of a GitHub issue in {title}. Please give me list of only programming skills that are required to complete the issue\"\n",
    "message = [\n",
    "    {\"role\": \"user\", \"content\": question}\n",
    "]\n",
    "completion = client.chat.completions.create(\n",
    "    model=\"gpt-4o\",\n",
    "    messages = message\n",
    ")\n",
    "\n",
    "print(completion.choices[0].message.content)"
   ]
  },
  {
   "cell_type": "code",
   "execution_count": 67,
   "id": "ebe04d75",
   "metadata": {},
   "outputs": [
    {
     "name": "stdout",
     "output_type": "stream",
     "text": [
      "To provide you with a list of programming skills required to address a GitHub issue, I'll need to know the specifics or content of that issue first. Please share the relevant details or a description of the issue, focusing on technical aspects and any mentioned tools, languages, or frameworks.\n"
     ]
    }
   ],
   "source": [
    "import os\n",
    "from openai import OpenAI\n",
    "\n",
    "client = OpenAI(api_key=api_key_)\n",
    "question= f\"I have details of a GitHub issue in {labels}. Please give me list of only programming skills that are required to complete the issue\"\n",
    "message = [\n",
    "    {\"role\": \"user\", \"content\": question}\n",
    "]\n",
    "completion = client.chat.completions.create(\n",
    "    model=\"gpt-4o\",\n",
    "    messages = message\n",
    ")\n",
    "\n",
    "print(completion.choices[0].message.content)"
   ]
  },
  {
   "cell_type": "code",
   "execution_count": 68,
   "id": "fb321e97",
   "metadata": {
    "scrolled": true
   },
   "outputs": [
    {
     "name": "stdout",
     "output_type": "stream",
     "text": [
      "Based on the provided details from the GitHub issue, the following programming skills might be relevant to address and resolve the issue:\n",
      "\n",
      "1. **Next.js**: Understanding of the Next.js framework, particularly version 13 as mentioned, and its Server-Side Generation (SSG) capabilities.\n",
      "2. **CSS Modules**: Familiarity with CSS Modules, which are used for styling components in the context of the issue.\n",
      "3. **Styled-JSX**: Knowledge of styled-jsx, a library used for scoped CSS within components, which is being considered as a potential solution.\n",
      "4. **React**: Since Next.js is built on React, proficiency in React is assumed.\n",
      "\n",
      "These skills are related to the technologies directly mentioned in the issue description and comments.\n"
     ]
    }
   ],
   "source": [
    "import os\n",
    "from openai import OpenAI\n",
    "\n",
    "client = OpenAI(api_key=api_key_)\n",
    "question= f\"I have details of a GitHub issue in {all_comments}. Please give me list of only programming skills that are required to complete the issue\"\n",
    "message = [\n",
    "    {\"role\": \"user\", \"content\": question}\n",
    "]\n",
    "completion = client.chat.completions.create(\n",
    "    model=\"gpt-4o\",\n",
    "    messages = message\n",
    ")\n",
    "\n",
    "print(completion.choices[0].message.content)"
   ]
  },
  {
   "cell_type": "code",
   "execution_count": 69,
   "id": "8a2f2c24",
   "metadata": {
    "scrolled": true
   },
   "outputs": [
    {
     "name": "stdout",
     "output_type": "stream",
     "text": [
      "To address the issue described, you would need the following programming skills:\n",
      "\n",
      "1. **JavaScript**: Understanding of JavaScript is essential as both React and Next.js are JavaScript frameworks. \n",
      "\n",
      "2. **React**: Familiarity with React, particularly with components, hooks, and lifecycle methods, to understand how components are rendered and styled.\n",
      "\n",
      "3. **Next.js**: Knowledge of Next.js, especially its routing and data fetching methods, to understand how pages are pre-rendered and how CSS Modules might be loaded.\n",
      "\n",
      "4. **CSS/CSS Modules**: Understanding CSS and specifically CSS Modules, to troubleshoot and resolve issues related to styles being loaded after the page is rendered.\n",
      "\n",
      "5. **Debugging Tools**: Ability to use browser developer tools to investigate when and how styles are loaded in the page lifecycle.\n",
      "\n",
      "6. **Build Tools and Configuration**: Familiarity with build tools and Next.js configurations, to customize how and when styles are applied and ensure CSS is pre-rendered or fetched in the order needed.\n",
      "\n",
      "7. **Optimization and Performance Tuning**: Understanding of web performance, to diagnose why styles might be delayed and optimize the loading sequence.\n",
      "\n",
      "Having skills in these areas should equip you to investigate and resolve the CSS loading issue described.\n"
     ]
    }
   ],
   "source": [
    "import os\n",
    "from openai import OpenAI\n",
    "\n",
    "client = OpenAI(api_key=api_key_)\n",
    "question= f\"I have details of a GitHub issue in {body}. Please give me list of only programming skills that are required to complete the issue\"\n",
    "message = [\n",
    "    {\"role\": \"user\", \"content\": question}\n",
    "]\n",
    "completion = client.chat.completions.create(\n",
    "    model=\"gpt-4o\",\n",
    "    messages = message\n",
    ")\n",
    "\n",
    "print(completion.choices[0].message.content)"
   ]
  },
  {
   "cell_type": "markdown",
   "id": "cb55ec0c",
   "metadata": {},
   "source": [
    "For this issue, both the prompts has same accuracy"
   ]
  },
  {
   "cell_type": "markdown",
   "id": "97fd701f",
   "metadata": {},
   "source": [
    "accuracy 100"
   ]
  },
  {
   "cell_type": "markdown",
   "id": "a2aca5fd",
   "metadata": {},
   "source": [
    "# issue9"
   ]
  },
  {
   "cell_type": "markdown",
   "id": "053a56a6",
   "metadata": {},
   "source": [
    "In the below cell, we are are collecting information from title, body, and lables of the issue."
   ]
  },
  {
   "cell_type": "code",
   "execution_count": 70,
   "id": "f0375439",
   "metadata": {},
   "outputs": [
    {
     "name": "stdout",
     "output_type": "stream",
     "text": [
      "Title: Scala 3.7.0-RC2 release procedure\n",
      "Labels: ['itype:meta']\n",
      "Body:\n",
      " - [x] Publish artifacts to Maven via CI\n",
      "  - [x] Ensure scala-steward is [blocking automatic upgrades](https://github.com/scala-steward-org/scala-steward/blob/main/modules/core/src/main/resources/default.scala-steward.conf) for `3.7.0`\n",
      "  - [x] On `release-3.7.0` branch:\n",
      "    - [x] In `project/Build.scala`: Set `baseVersion = \"3.7.0-RC2\"`\n",
      "    - [x] In `tasty/src/dotty/tools/tasty/TastyFormat.scala` ensure `MinorVersion` is set to 7\n",
      "    - [x] In `tasty/src/dotty/tools/tasty/TastyFormat.scala` ensure `ExperimentalVersion` is set to experimental (1 or higher)\n",
      "    - [x] Create changelog file in `changelogs/3.7.0-RC2.md`\n",
      "    - [x] Tag the branch as `3.7.0-RC2`\n",
      "    - [x] Wait for [CI](https://github.com/scala/scala3/actions/runs/14356321256) to publish artifacts\n",
      "    - [x] Audit and release artifacts on https://oss.sonatype.org/\n",
      "\n",
      "- [x] On `main` branch:\n",
      "  - [x] In `project/Build.scala`: Set `referenceVersion` to `3.7.0-RC2` https://github.com/scala/scala3/pull/22955\n",
      "  - [x] Check and update `project/MiMaFilters.scala`\n",
      "\n",
      "- [x] Wait for releases/confirmation from tooling:\n",
      "  - [x] Scala CLI - test\n",
      "  - [x] Scala Native - publish compiler plugin\n",
      "  - [ ] Scastie - update available versions\n",
      "  - [x] Scala DAP - [publish compiler plugin](https://github.com/scalacenter/scala-debug-adapter/actions/workflows/release-expression-compiler.yml)\n",
      "  - [ ] Scalameta Parser - test\n",
      "\n",
      "\n",
      "- [x] Announce the release\n",
      "  - [x] Publish release on GitHub Releases (as pre-release)\n",
      "  - [x] Update tracking thread on https://contributors.scala-lang.org\n"
     ]
    }
   ],
   "source": [
    "url = f\"https://api.github.com/repos/scala/scala3/issues/22948\"\n",
    "\n",
    "headers = {\n",
    "    \"Accept\": \"application/vnd.github+json\"\n",
    "    }\n",
    "\n",
    "response = requests.get(url, headers=headers)\n",
    "\n",
    "if response.status_code == 200:\n",
    "    issue = response.json()\n",
    "    print(\"Title:\", issue.get(\"title\"))\n",
    "    print(\"Labels:\", [label[\"name\"] for label in issue.get(\"labels\", [])])\n",
    "    print(\"Body:\\n\", issue.get(\"body\"))\n",
    "else:\n",
    "    print(f\"Error {response.status_code}: {response.text}\")\n",
    "title=issue.get(\"title\")\n",
    "labels=[label[\"name\"] for label in issue.get(\"labels\", [])]\n",
    "body=issue.get(\"body\")"
   ]
  },
  {
   "cell_type": "markdown",
   "id": "e95ec097",
   "metadata": {},
   "source": [
    "Here we are collecting comments of the issue"
   ]
  },
  {
   "cell_type": "code",
   "execution_count": 71,
   "id": "03d5df4e",
   "metadata": {},
   "outputs": [
    {
     "name": "stdout",
     "output_type": "stream",
     "text": [
      "\n",
      "Collected Comments:\n"
     ]
    }
   ],
   "source": [
    "comments_url = issue.get(\"comments_url\")\n",
    "comments_response = requests.get(comments_url, headers=headers)\n",
    "\n",
    "all_comments = []\n",
    "if comments_response.status_code == 200:\n",
    "    comments = comments_response.json()\n",
    "    for comment in comments:\n",
    "        comment_data = {\n",
    "            \"author\": comment[\"user\"][\"login\"],\n",
    "            \"created_at\": comment[\"created_at\"],\n",
    "            \"body\": comment[\"body\"]\n",
    "        }\n",
    "        all_comments.append(comment_data)\n",
    "    print(\"\\nCollected Comments:\")\n",
    "    for i, c in enumerate(all_comments, 1):\n",
    "        print(f\"\\n--- Comment #{i} by {c['author']} at {c['created_at']} ---\")\n",
    "        print(c[\"body\"])\n",
    "else:\n",
    "    print(f\"\\nError getting comments: {comments_response.status_code}\")"
   ]
  },
  {
   "cell_type": "markdown",
   "id": "5ab405db",
   "metadata": {},
   "source": [
    "In the below cell, we were providing all the collected details to the LLM in the form of a prompt and we collected all the required skills to solve the issue."
   ]
  },
  {
   "cell_type": "code",
   "execution_count": 72,
   "id": "a9cd72a1",
   "metadata": {},
   "outputs": [
    {
     "name": "stdout",
     "output_type": "stream",
     "text": [
      "To complete the issue you described for the Scala 3.7.0-RC2 release procedure on GitHub, the following programming skills are required:\n",
      "\n",
      "1. **Scala Programming**: Understanding of Scala language, as the project is in Scala and requires modifications to Scala files.\n",
      "   \n",
      "2. **Version Control/Git**: Proficiency with Git for branching, tagging, and managing pull requests and commits.\n",
      "\n",
      "3. **Continuous Integration (CI/CD)**: Familiarity with CI/CD pipelines, particularly understanding how to trigger and monitor CI jobs in a system like GitHub Actions.\n",
      "\n",
      "4. **Maven**: Knowledge of Maven for managing project dependencies and ensuring artifacts are correctly published to Maven repositories.\n",
      "\n",
      "5. **Dependency Management**: Experience with tools like Scala Steward for managing automatic dependency upgrades.\n",
      "\n",
      "6. **Changelog Management**: Ability to create and update changelog files to document changes made in the release.\n",
      "\n",
      "7. **Artifact Publishing**: Experience in artifact publishing workflows, especially with systems like Sonatype for releasing artifacts.\n",
      "\n",
      "8. **Version Configuration**: Understanding of how to configure and update version numbers correctly in build scripts.\n",
      "\n",
      "9. **Testing and QA**: Ability to verify tool integrations and test compatibility, such as with Scala CLI and Scala Native.\n",
      "\n",
      "10. **Release Management**: Skills to manage the entire release process, including final checks and confirming tool compatibility.\n",
      "\n",
      "11. **Documentation**: Competency in updating relevant documentation, such as tracking threads or announcements.\n",
      "\n",
      "12. **Problem-solving**: General troubleshooting skills for addressing any issues that arise during the release process.\n",
      "\n",
      "These skills are essential for efficiently managing and executing the tasks required to complete the issue.\n"
     ]
    }
   ],
   "source": [
    "import os\n",
    "from openai import OpenAI\n",
    "\n",
    "client = OpenAI(api_key=api_key_)\n",
    "question= f\"I have details of a GitHub issue in {title}, {labels},{all_comments}, and {body}. Please give me list of only programming skills that are required to complete the issue\"\n",
    "message = [\n",
    "    {\"role\": \"user\", \"content\": question}\n",
    "]\n",
    "completion = client.chat.completions.create(\n",
    "    model=\"gpt-4o\",\n",
    "    messages = message\n",
    ")\n",
    "\n",
    "print(completion.choices[0].message.content)"
   ]
  },
  {
   "cell_type": "markdown",
   "id": "3917318c",
   "metadata": {},
   "source": [
    "In the below cells, we are providing each of the collected details in a seperate prompt and we have collected all the required skills in order to solve the issue"
   ]
  },
  {
   "cell_type": "code",
   "execution_count": 73,
   "id": "26631fba",
   "metadata": {},
   "outputs": [
    {
     "name": "stdout",
     "output_type": "stream",
     "text": [
      "To address a GitHub issue related to the Scala 3.7.0-RC2 release procedure, you would likely need a combination of the following programming skills:\n",
      "\n",
      "1. **Scala Programming**: Proficiency in Scala is essential, as you'll be working with the Scala language and possibly its compiler or libraries.\n",
      "\n",
      "2. **Scripting Languages**: Familiarity with scripting languages like Bash or Python for automating parts of the release procedure.\n",
      "\n",
      "3. **Git and Version Control**: Strong understanding of Git for managing code changes, handling branches, and collaborating with other contributors.\n",
      "\n",
      "4. **Continuous Integration/Continuous Deployment (CI/CD)**: Experience with CI/CD tools (e.g., GitHub Actions, Jenkins) to manage the build and deployment pipelines.\n",
      "\n",
      "5. **Build Tools**: Knowledge of build tools such as sbt (Scala Build Tool) to manage project builds, dependencies, and packaging.\n",
      "\n",
      "6. **Debugging and Troubleshooting**: Skills in debugging and troubleshooting complex systems, particularly in a JVM-based environment.\n",
      "\n",
      "7. **Dependency Management**: Understanding of how to manage and update dependencies, possibly using tools like Maven or Ivy if not directly through sbt.\n",
      "\n",
      "8. **Testing Methodologies**: Experience with testing frameworks (e.g., ScalaTest, JUnit) to validate the release.\n",
      "\n",
      "9. **Documentation**: Ability to read and possibly contribute to documentation related to the release procedure.\n",
      "\n",
      "These skills collectively enable handling various technical aspects of the release process, from writing and modifying code to managing builds and deploying the release candidate effectively.\n"
     ]
    }
   ],
   "source": [
    "import os\n",
    "from openai import OpenAI\n",
    "\n",
    "client = OpenAI(api_key=api_key_)\n",
    "question= f\"I have details of a GitHub issue in {title}. Please give me list of only programming skills that are required to complete the issue\"\n",
    "message = [\n",
    "    {\"role\": \"user\", \"content\": question}\n",
    "]\n",
    "completion = client.chat.completions.create(\n",
    "    model=\"gpt-4o\",\n",
    "    messages = message\n",
    ")\n",
    "\n",
    "print(completion.choices[0].message.content)"
   ]
  },
  {
   "cell_type": "code",
   "execution_count": 74,
   "id": "2f8e529e",
   "metadata": {},
   "outputs": [
    {
     "name": "stdout",
     "output_type": "stream",
     "text": [
      "To provide you with a list of programming skills required to complete a GitHub issue labeled as \"itype:meta,\" I would typically need more specific information about the issue itself, such as its description, goals, and any relevant tasks or subtasks. However, since I can't access external data, I can offer you a general approach to identify the programming skills for such an issue:\n",
      "\n",
      "1. **Review the Issue Description:** Look for any specific programming languages or technologies mentioned in the issue. This could include languages like Python, JavaScript, Java, etc.\n",
      "\n",
      "2. **Check for Technology Stack References:** The issue may refer to frameworks, libraries, or tools that require certain programming skills, like React, Django, Node.js, etc.\n",
      "\n",
      "3. **Examine Any Linked Code or Repositories:** If the issue involves modifying or understanding existing code, see what languages or technologies are used.\n",
      "\n",
      "4. **Consider Project Type:** If the project or issue is part of a web application, knowledge of HTML, CSS, JavaScript, and potentially back-end languages may be needed. For data analysis projects, skills in Python, R, or SQL could be relevant.\n",
      "\n",
      "5. **Review the Skills of Assigned Contributors:** If the issue has current assignees or contributors, their expertise might reflect the needed skills.\n",
      "\n",
      "6. **Understand the Nature of 'Meta' Issues:** Since \"meta\" issues often involve higher-level project management or organization, skills in task automation, tooling, or documentation might be relevant, possibly spanning multiple programming languages or technologies.\n",
      "\n",
      "By considering these factors, you can compile a list of programming skills necessary for resolving the issue. If you have access to specific details about the issue, feel free to provide them, and I can help further refine the list of necessary programming skills.\n"
     ]
    }
   ],
   "source": [
    "import os\n",
    "from openai import OpenAI\n",
    "\n",
    "client = OpenAI(api_key=api_key_)\n",
    "question= f\"I have details of a GitHub issue in {labels}. Please give me list of only programming skills that are required to complete the issue\"\n",
    "message = [\n",
    "    {\"role\": \"user\", \"content\": question}\n",
    "]\n",
    "completion = client.chat.completions.create(\n",
    "    model=\"gpt-4o\",\n",
    "    messages = message\n",
    ")\n",
    "\n",
    "print(completion.choices[0].message.content)"
   ]
  },
  {
   "cell_type": "code",
   "execution_count": 75,
   "id": "b64feb9f",
   "metadata": {},
   "outputs": [
    {
     "name": "stdout",
     "output_type": "stream",
     "text": [
      "Certainly! If you provide the details of the GitHub issue within the brackets, I can help identify the programming skills needed to address it.\n"
     ]
    }
   ],
   "source": [
    "import os\n",
    "from openai import OpenAI\n",
    "\n",
    "client = OpenAI(api_key=api_key_)\n",
    "question= f\"I have details of a GitHub issue in {all_comments}. Please give me list of only programming skills that are required to complete the issue\"\n",
    "message = [\n",
    "    {\"role\": \"user\", \"content\": question}\n",
    "]\n",
    "completion = client.chat.completions.create(\n",
    "    model=\"gpt-4o\",\n",
    "    messages = message\n",
    ")\n",
    "\n",
    "print(completion.choices[0].message.content)"
   ]
  },
  {
   "cell_type": "code",
   "execution_count": 76,
   "id": "82cdb6a1",
   "metadata": {},
   "outputs": [
    {
     "name": "stdout",
     "output_type": "stream",
     "text": [
      "To complete the GitHub issue you've described, the following programming skills are required:\n",
      "\n",
      "1. **Git/GitHub Proficiency**:  \n",
      "   - For handling branches, creating tags, merging pull requests, and publishing releases.\n",
      "\n",
      "2. **Continuous Integration (CI) Knowledge**:  \n",
      "   - Understanding of CI pipelines to ensure artifacts are published and the status of CI runs.\n",
      "\n",
      "3. **Scala Programming**:  \n",
      "   - Familiarity with Scala language for updating project-specific files like `Build.scala` and other Scala source files.\n",
      "\n",
      "4. **Maven/Artifact Management**:  \n",
      "   - Experience with publishing and managing artifacts in Maven repositories, especially relating to Sonatype OSS.\n",
      "\n",
      "5. **Version Control Systems**:  \n",
      "   - Knowledge of version management, semantic versioning, and release processes.\n",
      "\n",
      "6. **Configuration Management**:  \n",
      "   - Ability to manage and update configuration files to control project dependencies and version rules.\n",
      "\n",
      "7. **Changelog Writing**:  \n",
      "   - Preparing and maintaining changelogs for documenting release changes.\n",
      "\n",
      "8. **Collaboration Tools**:  \n",
      "   - Skills in using discussion forums or platforms like Scala contributors forum for communication and updates.\n"
     ]
    }
   ],
   "source": [
    "import os\n",
    "from openai import OpenAI\n",
    "\n",
    "client = OpenAI(api_key=api_key_)\n",
    "question= f\"I have details of a GitHub issue in {body}. Please give me list of only programming skills that are required to complete the issue\"\n",
    "message = [\n",
    "    {\"role\": \"user\", \"content\": question}\n",
    "]\n",
    "completion = client.chat.completions.create(\n",
    "    model=\"gpt-4o\",\n",
    "    messages = message\n",
    ")\n",
    "\n",
    "print(completion.choices[0].message.content)"
   ]
  },
  {
   "cell_type": "markdown",
   "id": "d0608a23",
   "metadata": {},
   "source": [
    "For this issue, prompt 2 has more accuracy than prompt 1"
   ]
  },
  {
   "cell_type": "markdown",
   "id": "23805990",
   "metadata": {},
   "source": [
    "accuracy 100, 85.7"
   ]
  },
  {
   "cell_type": "markdown",
   "id": "75b4f9be",
   "metadata": {},
   "source": [
    "# issue10"
   ]
  },
  {
   "cell_type": "markdown",
   "id": "c5356634",
   "metadata": {},
   "source": [
    "In the below cell, we are are collecting information from title, body, and lables of the issue."
   ]
  },
  {
   "cell_type": "code",
   "execution_count": 77,
   "id": "d28d1f58",
   "metadata": {},
   "outputs": [
    {
     "name": "stdout",
     "output_type": "stream",
     "text": [
      "Title: State of auth in the Rails Ecosystem and why there's a problem\n",
      "Labels: []\n",
      "Body:\n",
      " Picking up on a discussion inside #50446 that went out of the scope of the issue. @skipkayhil\n",
      "I gave this issue a place of it's own, if you feel there are more appropriate spaces, please comment.\n",
      "\n",
      "# Introduction to the Problem\n",
      "\n",
      "@dhh initiated with #50446 the work to introduce basic authentication on Rails and closed the issue through #52328 providing basic session management. \n",
      "\n",
      "Right now, among others, there are three widely used solutions for auth on Rails with 400m lifetime downloads: \n",
      "\n",
      "* Devise has seen no significant development in years (227 million downloads) with @nashby doing a great job merging security issues, but the gem itself seems to be unmaintained;\n",
      "* Omniauth is doing much better due to @BobbyMcWho but provides oauth strategies only;\n",
      "* Pundit sponsored by Varvet and maintained by @burgestrand to provide basic auth. \n",
      "\n",
      "I think the download numbers of the above gems show that we largely rely on single individuals rolling entire auth stacks for the most of the community. I am sure if anybody would look realistically into this with a risk analysis nobody really understands what's happening inside devise, omniauth or Pundit apart from the maintainers themselves right now and this is bad (I do not want in any way to diminish their effort, it's just unhealthy for the ecosystem). I think this is a dire situation and ticking time bomb, Devise has not seen contributions by the chief maintainers for some while now and the general assumption seems to be anybody can do auth, my (very personal) opinion is, that this is not the case. \n",
      "\n",
      "Let's for a moment assume that best practice would be this:\n",
      "\n",
      "* auth is not written / maintained by a single developer (not given at Omniauth / Pundit);\n",
      "* a team of skilled people with appropriate seniority review PRs individually;\n",
      "* nobody suffers through touching fundamentals of encryption.\n",
      "\n",
      "I do not believe that most teams meet those requirements and believe that the fact that rails, different to other major frameworks, does not have an either strongly sponsored (nextauthjs) or core team maintained (Laravel / Python) solution for this is a systemic risk.\n",
      "\n",
      "# Other Frameworks\n",
      "\n",
      "Looking what other frameworks do it is clear that they either come with Auth or have strong corporate backed solutions, Rails doesn't. \n",
      "\n",
      "|                \t| Lavarel [(Auth + passport)](https://laravel.com/docs/12.x/authentication#main-content) \t| [Django](https://docs.djangoproject.com/en/5.1/topics/auth/) \t| [Node has passport](https://www.passportjs.org/sponsors/) \t|\n",
      "|----------------\t|----------------------------------------------------------------------------------------\t|--------------------------------------------------------------\t|---------------------------------------\t|\n",
      "| Sessions       \t| Yes                                                                                    \t| Yes                                                          \t| Yes                                   \t|\n",
      "| Basic Auth     \t| Yes                                                                                    \t| Yes                                                          \t| Yes                                   \t|\n",
      "| Single Sign-On \t| Yes                                                                                    \t| No                                                           \t| Yes                                   \t|\n",
      "| Directory Sync \t| Yes                                                                                    \t| No                                                           \t| No                                    \t|\n",
      "| MFA            \t| Yes                                                                                    \t| No                                                           \t| No                                    \t|\n",
      "| Social login   \t| Yes                                                                                    \t| No                                                           \t| Yes                                   \t|\n",
      "| Roles          \t| Yes                                                                                    \t| Yes (Groups)                                                 \t| Yes                                   \t|\n",
      "\n",
      "# Conclusion\n",
      "I do not believe that this is wise, actually I do believe it's a problem. \n",
      "I believe the current lack of auth is caused by the great work @carlosantoniodasilva @josevalim did, but that we all might need to face the reality, that right now at least, auth is in the hand of few people doing admirable work, but that this might need to find it's way into core for the bare reason that there's not enough community support for the single repositories to maintain an acceptable level of security and the risks given by depending on very few maintainers maintaining very particular gems. \n",
      "\n",
      "@dhh I agree with a lot of stuff you say and write, but I think to maintain a healthy ecosystem this step inevitable and the times in which rails could avoid it due to great comunity maintained gems is reaching an end, not because there's not enough traction on the ecosystem itself, but because the first generation of people driving the gems defining part of the extended ecosystem are also looking into other projects. \n"
     ]
    }
   ],
   "source": [
    "url = f\"https://api.github.com/repos/rails/rails/issues/54768\"\n",
    "\n",
    "headers = {\n",
    "    \"Accept\": \"application/vnd.github+json\"\n",
    "    }\n",
    "\n",
    "response = requests.get(url, headers=headers)\n",
    "\n",
    "if response.status_code == 200:\n",
    "    issue = response.json()\n",
    "    print(\"Title:\", issue.get(\"title\"))\n",
    "    print(\"Labels:\", [label[\"name\"] for label in issue.get(\"labels\", [])])\n",
    "    print(\"Body:\\n\", issue.get(\"body\"))\n",
    "else:\n",
    "    print(f\"Error {response.status_code}: {response.text}\")\n",
    "title=issue.get(\"title\")\n",
    "labels=[label[\"name\"] for label in issue.get(\"labels\", [])]\n",
    "body=issue.get(\"body\")"
   ]
  },
  {
   "cell_type": "markdown",
   "id": "aa4ba070",
   "metadata": {},
   "source": [
    "Here we are collecting comments of the issue"
   ]
  },
  {
   "cell_type": "code",
   "execution_count": 78,
   "id": "cbf98ee7",
   "metadata": {},
   "outputs": [
    {
     "name": "stdout",
     "output_type": "stream",
     "text": [
      "\n",
      "Collected Comments:\n"
     ]
    }
   ],
   "source": [
    "comments_url = issue.get(\"comments_url\")\n",
    "comments_response = requests.get(comments_url, headers=headers)\n",
    "\n",
    "all_comments = []\n",
    "if comments_response.status_code == 200:\n",
    "    comments = comments_response.json()\n",
    "    for comment in comments:\n",
    "        comment_data = {\n",
    "            \"author\": comment[\"user\"][\"login\"],\n",
    "            \"created_at\": comment[\"created_at\"],\n",
    "            \"body\": comment[\"body\"]\n",
    "        }\n",
    "        all_comments.append(comment_data)\n",
    "    print(\"\\nCollected Comments:\")\n",
    "    for i, c in enumerate(all_comments, 1):\n",
    "        print(f\"\\n--- Comment #{i} by {c['author']} at {c['created_at']} ---\")\n",
    "        print(c[\"body\"])\n",
    "else:\n",
    "    print(f\"\\nError getting comments: {comments_response.status_code}\")"
   ]
  },
  {
   "cell_type": "markdown",
   "id": "3b683eb2",
   "metadata": {},
   "source": [
    "In the below cell, we were providing all the collected details to the LLM in the form of a prompt and we collected all the required skills to solve the issue."
   ]
  },
  {
   "cell_type": "code",
   "execution_count": 79,
   "id": "8b27bf9a",
   "metadata": {},
   "outputs": [
    {
     "name": "stdout",
     "output_type": "stream",
     "text": [
      "To address the issue described regarding the state of authentication in the Rails ecosystem, there are several programming skills and areas of expertise that would be beneficial. Here is a list of programming skills required or useful to complete the task:\n",
      "\n",
      "1. **Ruby Programming:** \n",
      "   - Proficiency in Ruby, as Rails' primary language, to understand and help improve existing gems or develop new solutions.\n",
      "\n",
      "2. **Ruby on Rails:**\n",
      "   - Experience with Rails framework itself, especially how it handles authentication and sessions.\n",
      "\n",
      "3. **Security Best Practices:**\n",
      "   - In-depth understanding of security principles, including hashing, encryption, and secure password storage.\n",
      "\n",
      "4. **Authentication and Authorization:**\n",
      "   - Knowledge of common authentication/authorization practices, frameworks, and protocols (e.g., OAuth, JWT).\n",
      "\n",
      "5. **Familiarity with Existing Gems:**\n",
      "   - Detailed understanding of, or ability to quickly learn about, popular existing gems like Devise, Omniauth, and Pundit.\n",
      "\n",
      "6. **Testing and QA:**\n",
      "   - Experience with writing tests for authentication mechanisms to ensure their reliability and security.\n",
      "\n",
      "7. **Collaboration and Code Review:**\n",
      "   - Ability to work in a team setting, review peers' code, and be open to having one's code reviewed.\n",
      "\n",
      "8. **Git/GitHub:**\n",
      "   - Proficiency in version control systems, especially Git, and GitHub for managing code contributions and reviews.\n",
      "\n",
      "9. **Software Design and Architecture:**\n",
      "   - Skill in designing modular, maintainable code structures, especially useful for integrating auth into core Rails parts.\n",
      "\n",
      "10. **Database Management:**\n",
      "    - Knowledge of database management and querying, especially in context to user data, sessions, and potentially encrypted fields.\n",
      "\n",
      "11. **Advanced Rails Features:**\n",
      "    - If contributing directly to Rails, understanding of Rails' internal APIs and architecture might also be necessary.\n",
      "\n",
      "12. **Community Engagement:**\n",
      "    - Experience engaging with open-source communities for collaboration and gathering diverse inputs and feedback.\n",
      "\n",
      "Having a combination of these skills would position an individual or team to effectively tackle the challenge of enhancing authentication in the Rails ecosystem.\n"
     ]
    }
   ],
   "source": [
    "import os\n",
    "from openai import OpenAI\n",
    "\n",
    "client = OpenAI(api_key=api_key_)\n",
    "question= f\"I have details of a GitHub issue in {title}, {labels},{all_comments}, and {body}. Please give me list of only programming skills that are required to complete the issue\"\n",
    "message = [\n",
    "    {\"role\": \"user\", \"content\": question}\n",
    "]\n",
    "completion = client.chat.completions.create(\n",
    "    model=\"gpt-4o\",\n",
    "    messages = message\n",
    ")\n",
    "\n",
    "print(completion.choices[0].message.content)"
   ]
  },
  {
   "cell_type": "markdown",
   "id": "c0623ea9",
   "metadata": {},
   "source": [
    "In the below cells, we are providing each of the collected details in a seperate prompt and we have collected all the required skills in order to solve the issue"
   ]
  },
  {
   "cell_type": "code",
   "execution_count": 79,
   "id": "d62d383c",
   "metadata": {},
   "outputs": [
    {
     "name": "stdout",
     "output_type": "stream",
     "text": [
      "To address a GitHub issue related to authentication in the Rails ecosystem, particularly if it involves analyzing the state of authentication and identifying problems, several programming and technical skills might be required. Here’s a list of skills that could be beneficial:\n",
      "\n",
      "1. **Ruby on Rails Proficiency:**\n",
      "   - Understanding of the Rails framework, MVC architecture, and how Rails handles authentication.\n",
      "   \n",
      "2. **Ruby Programming Language:**\n",
      "   - Knowledge of Ruby to review and write clean and efficient code.\n",
      "\n",
      "3. **Authentication and Authorization:**\n",
      "   - Familiarity with common authentication systems and libraries, such as Devise, Omniauth, and JWT (JSON Web Tokens).\n",
      "   - Understanding of OAuth and other authentication protocols.\n",
      "\n",
      "4. **Database Management:**\n",
      "   - Skills in handling databases (likely SQL-based like PostgreSQL or MySQL), understanding ActiveRecord, and managing user data securely.\n",
      "\n",
      "5. **Security Best Practices:**\n",
      "   - Awareness of security best practices in authentication, such as password hashing, account recovery processes, and secure credential storage.\n",
      "\n",
      "6. **Testing (RSpec, Minitest):**\n",
      "   - Experience with testing frameworks common in Rails applications to ensure authentication processes are robust.\n",
      "\n",
      "7. **Debugging:**\n",
      "   - Ability to troubleshoot and debug issues within the Rails stack.\n",
      "\n",
      "8. **Web Development Concepts:**\n",
      "   - Basic knowledge of web development, RESTful services, and HTTP.\n",
      "\n",
      "9. **Version Control (Git):**\n",
      "   - Proficiency in using Git for version control to manage code changes and collaborations.\n",
      "\n",
      "10. **Problem-solving and Analytical Skills:**\n",
      "    - Analytical thinking to evaluate existing authentication solutions and identify potential problems or improvements.\n",
      "\n",
      "11. **Understanding of Frontend-Backend Interactions:**\n",
      "    - Basic knowledge of how the frontend (possibly using frameworks like React, Vue.js, or plain JavaScript) and backend interact, especially in the context of session management and secure API calls.\n",
      "\n",
      "12. **Familiarity with the Rails Ecosystem:**\n",
      "    - Awareness of common gems and plugins used in Rails projects for enhancing authentication or resolving related issues.\n",
      "\n",
      "Depending on the specific nature of the issue, additional skills might be needed, such as cloud deployment knowledge, performance optimization, or familiarity with specific versions or configurations of Rails.\n"
     ]
    }
   ],
   "source": [
    "import os\n",
    "from openai import OpenAI\n",
    "\n",
    "client = OpenAI(api_key=api_key_)\n",
    "question= f\"I have details of a GitHub issue in {title}. Please give me list of only programming skills that are required to complete the issue\"\n",
    "message = [\n",
    "    {\"role\": \"user\", \"content\": question}\n",
    "]\n",
    "completion = client.chat.completions.create(\n",
    "    model=\"gpt-4o\",\n",
    "    messages = message\n",
    ")\n",
    "\n",
    "print(completion.choices[0].message.content)"
   ]
  },
  {
   "cell_type": "code",
   "execution_count": 81,
   "id": "347f8e40",
   "metadata": {},
   "outputs": [
    {
     "name": "stdout",
     "output_type": "stream",
     "text": [
      "Certainly! To provide a list of programming skills required to complete a GitHub issue, I'll need to know the specifics of the issue. Please share the details or key points of the issue, and I'll help identify the necessary programming skills.\n"
     ]
    }
   ],
   "source": [
    "import os\n",
    "from openai import OpenAI\n",
    "\n",
    "client = OpenAI(api_key=api_key_)\n",
    "question= f\"I have details of a GitHub issue in {labels}. Please give me list of only programming skills that are required to complete the issue\"\n",
    "message = [\n",
    "    {\"role\": \"user\", \"content\": question}\n",
    "]\n",
    "completion = client.chat.completions.create(\n",
    "    model=\"gpt-4o\",\n",
    "    messages = message\n",
    ")\n",
    "\n",
    "print(completion.choices[0].message.content)"
   ]
  },
  {
   "cell_type": "code",
   "execution_count": 82,
   "id": "f43015cd",
   "metadata": {},
   "outputs": [
    {
     "name": "stdout",
     "output_type": "stream",
     "text": [
      "To identify the programming skills required to address a GitHub issue, you'll need to closely examine the details provided within the issue to discern any specific technologies, languages, or frameworks mentioned. Here’s a general approach to extract the necessary programming skills:\n",
      "\n",
      "1. **Programming Languages**: Look for mentions of JavaScript, Python, Java, C++, Ruby, etc.\n",
      "2. **Frameworks and Libraries**: Identify if any specific frameworks or libraries are required, like React, Angular, Django, Flask, etc.\n",
      "3. **Tools and Platforms**: Check for tools like Docker, Kubernetes, AWS, Azure, etc., that might be needed.\n",
      "4. **Version Control**: Skills related to Git and GitHub itself.\n",
      "\n",
      "If you have specific details from the issue you want analyzed, please share those details, and I can help identify the programming skills required.\n"
     ]
    }
   ],
   "source": [
    "import os\n",
    "from openai import OpenAI\n",
    "\n",
    "client = OpenAI(api_key=api_key_)\n",
    "question= f\"I have details of a GitHub issue in {all_comments}. Please give me list of only programming skills that are required to complete the issue\"\n",
    "message = [\n",
    "    {\"role\": \"user\", \"content\": question}\n",
    "]\n",
    "completion = client.chat.completions.create(\n",
    "    model=\"gpt-4o\",\n",
    "    messages = message\n",
    ")\n",
    "\n",
    "print(completion.choices[0].message.content)"
   ]
  },
  {
   "cell_type": "code",
   "execution_count": 83,
   "id": "501cc6c5",
   "metadata": {},
   "outputs": [
    {
     "name": "stdout",
     "output_type": "stream",
     "text": [
      "To address the GitHub issue regarding the authentication system in Rails and its sustainability, several programming skills might be necessary. Here is a list of programming skills that could be required to tackle this issue effectively:\n",
      "\n",
      "1. **Ruby Programming**: \n",
      "   - Proficiency in Ruby, particularly with the Ruby on Rails framework, as the primary task involves understanding and potentially augmenting the Rails core or related gems.\n",
      "\n",
      "2. **Rails Framework Expertise**: \n",
      "   - Deep understanding of the Rails framework, including its architecture, to effectively integrate or modify authentication solutions.\n",
      "\n",
      "3. **Authentication and Authorization**:\n",
      "   - Knowledge of authentication and authorization principles, including sessions, tokens, and encryption strategies (e.g., OAuth, JWT).\n",
      "\n",
      "4. **Security Best Practices**:\n",
      "   - Expertise in security best practices, especially as it pertains to handling user data securely, cryptographic functions, and mitigating common vulnerabilities (e.g., XSS, CSRF, SQL Injection).\n",
      "\n",
      "5. **Open Source Contribution Skills**:\n",
      "   - Experience with contributing to open-source projects, understanding how to collaborate within a community, submit pull requests, and adhere to community guidelines.\n",
      "\n",
      "6. **Version Control (Git & GitHub)**:\n",
      "   - Proficiency in version control using Git and managing repositories on GitHub to track changes, create branches, and participate in code reviews.\n",
      "\n",
      "7. **Testing**:\n",
      "   - Proficiency in writing automated tests, such as unit and integration tests, particularly using RSpec or Minitest in the Rails ecosystem, to ensure code reliability and maintainability.\n",
      "\n",
      "8. **Database Management**:\n",
      "   - Familiarity with managing databases, especially how authentication interacts with data storage in options like PostgreSQL or MySQL.\n",
      "\n",
      "9. **API Design and Development**:\n",
      "   - Experience in designing and developing RESTful APIs for authentication purposes, and understanding how this integrates with front-end frameworks and client-server architecture.\n",
      "\n",
      "10. **Collaborative Development Tools**:\n",
      "    - Familiarity with collaborative development tools such as issue trackers (e.g., GitHub Issues), communication platforms (e.g., Slack, Discord), and CI/CD tools.\n",
      "\n",
      "11. **Problem-Solving and Analytical Skills**:\n",
      "    - Strong problem-solving skills to analyze the existing auth systems and propose efficient, scalable, and secure solutions.\n",
      "\n",
      "12. **Communication and Documentation**:\n",
      "    - Ability to document technical requirements, articulate ideas, and solutions clearly to both technical and non-technical stakeholders.\n",
      "\n",
      "By leveraging these skills, contributors can effectively participate in enhancing and potentially redefining how authentication is approached in the Rails ecosystem. This involves not just coding but actively engaging with the community, understanding its needs, and collaborating to implement sustainable solutions.\n"
     ]
    }
   ],
   "source": [
    "import os\n",
    "from openai import OpenAI\n",
    "\n",
    "client = OpenAI(api_key=api_key_)\n",
    "question= f\"I have details of a GitHub issue in {body}. Please give me list of only programming skills that are required to complete the issue\"\n",
    "message = [\n",
    "    {\"role\": \"user\", \"content\": question}\n",
    "]\n",
    "completion = client.chat.completions.create(\n",
    "    model=\"gpt-4o\",\n",
    "    messages = message\n",
    ")\n",
    "\n",
    "print(completion.choices[0].message.content)"
   ]
  },
  {
   "cell_type": "markdown",
   "id": "dbc530ab",
   "metadata": {},
   "source": [
    "For this issue, prompt 2 has more accuracy than prompt 1"
   ]
  },
  {
   "cell_type": "markdown",
   "id": "7c16f056",
   "metadata": {},
   "source": [
    "accuracy: 85.7, 100"
   ]
  }
 ],
 "metadata": {
  "kernelspec": {
   "display_name": "Python 3 (ipykernel)",
   "language": "python",
   "name": "python3"
  },
  "language_info": {
   "codemirror_mode": {
    "name": "ipython",
    "version": 3
   },
   "file_extension": ".py",
   "mimetype": "text/x-python",
   "name": "python",
   "nbconvert_exporter": "python",
   "pygments_lexer": "ipython3",
   "version": "3.11.2"
  }
 },
 "nbformat": 4,
 "nbformat_minor": 5
}
